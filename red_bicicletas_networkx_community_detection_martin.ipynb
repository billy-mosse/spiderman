{
 "cells": [
  {
   "cell_type": "markdown",
   "metadata": {},
   "source": [
    "# Estructura de la red\n",
    "La red de bicicletas puede ser considerada como una estructura de procesamiento de informacion donde los nodos son las unidades de procesamiento y el camino que los vincula, la conexión.\n",
    "\n",
    "Estructura de la red:\n",
    "    \n",
    "    1) NODOS: Estaciones\n",
    "    2) CONEXION (edge): Camino | Recorrido | Calles\n",
    "    3) PESOS (intensidad de la conexion): cantidad de usuarios? | tiempo de uso? | distancia en km?\n",
    "    4) DIRECCIONALIDAD: Dirigido o No dirigido?  Podria pensarse como dirigido o dirigido reciproco con self-loops\n",
    "    5) TAMAÑO\n",
    "    "
   ]
  },
  {
   "cell_type": "code",
   "execution_count": 1,
   "metadata": {},
   "outputs": [],
   "source": [
    "# librerias \n",
    "import pandas as pd\n",
    "#import geopandas as gpd\n",
    "import numpy as np"
   ]
  },
  {
   "cell_type": "code",
   "execution_count": 2,
   "metadata": {},
   "outputs": [],
   "source": [
    "# librerias \n",
    "import matplotlib.pyplot as plt\n",
    "import networkx as nx"
   ]
  },
  {
   "cell_type": "code",
   "execution_count": 3,
   "metadata": {},
   "outputs": [],
   "source": [
    "#nx.test()"
   ]
  },
  {
   "cell_type": "code",
   "execution_count": 4,
   "metadata": {},
   "outputs": [],
   "source": [
    "import seaborn as sns"
   ]
  },
  {
   "cell_type": "code",
   "execution_count": 5,
   "metadata": {},
   "outputs": [
    {
     "data": {
      "text/plain": [
       "'/home/human/Dropbox/doctorado/chapter00_courses/network_science_sarraute/spiderman/martin'"
      ]
     },
     "execution_count": 5,
     "metadata": {},
     "output_type": "execute_result"
    }
   ],
   "source": [
    "pwd"
   ]
  },
  {
   "cell_type": "markdown",
   "metadata": {},
   "source": [
    "### Import Data"
   ]
  },
  {
   "cell_type": "code",
   "execution_count": 6,
   "metadata": {},
   "outputs": [],
   "source": [
    "df18 = pd.read_csv('/home/human/Dropbox/doctorado/chapter00_courses/network_science_sarraute/spiderman/martin/caba_bicis_2018_recorridos.csv',infer_datetime_format=True)"
   ]
  },
  {
   "cell_type": "code",
   "execution_count": 7,
   "metadata": {},
   "outputs": [
    {
     "data": {
      "text/html": [
       "<div>\n",
       "<style scoped>\n",
       "    .dataframe tbody tr th:only-of-type {\n",
       "        vertical-align: middle;\n",
       "    }\n",
       "\n",
       "    .dataframe tbody tr th {\n",
       "        vertical-align: top;\n",
       "    }\n",
       "\n",
       "    .dataframe thead th {\n",
       "        text-align: right;\n",
       "    }\n",
       "</style>\n",
       "<table border=\"1\" class=\"dataframe\">\n",
       "  <thead>\n",
       "    <tr style=\"text-align: right;\">\n",
       "      <th></th>\n",
       "      <th>bici_id_usuario</th>\n",
       "      <th>bici_Fecha_hora_retiro</th>\n",
       "      <th>bici_tiempo_uso</th>\n",
       "      <th>bici_nombre_estacion_origen</th>\n",
       "      <th>bici_estacion_origen</th>\n",
       "      <th>bici_nombre_estacion_destino</th>\n",
       "      <th>bici_estacion_destino</th>\n",
       "      <th>bici_sexo</th>\n",
       "      <th>bici_edad</th>\n",
       "    </tr>\n",
       "  </thead>\n",
       "  <tbody>\n",
       "    <tr>\n",
       "      <th>0</th>\n",
       "      <td>5453</td>\n",
       "      <td>2018-01-01 00:08:05</td>\n",
       "      <td>0 days 00:19:53.000000000</td>\n",
       "      <td>Uruguay</td>\n",
       "      <td>45</td>\n",
       "      <td>Virrey Cevallos</td>\n",
       "      <td>183</td>\n",
       "      <td>M</td>\n",
       "      <td>45</td>\n",
       "    </tr>\n",
       "    <tr>\n",
       "      <th>1</th>\n",
       "      <td>673</td>\n",
       "      <td>2018-01-01 00:18:05</td>\n",
       "      <td>0 days 00:26:19.000000000</td>\n",
       "      <td>Posadas</td>\n",
       "      <td>189</td>\n",
       "      <td>Guardia Vieja</td>\n",
       "      <td>110</td>\n",
       "      <td>M</td>\n",
       "      <td>61</td>\n",
       "    </tr>\n",
       "    <tr>\n",
       "      <th>2</th>\n",
       "      <td>179119</td>\n",
       "      <td>2018-01-01 00:20:14</td>\n",
       "      <td>0 days 00:27:39.000000000</td>\n",
       "      <td>Hospital Rivadavia</td>\n",
       "      <td>50</td>\n",
       "      <td>Padilla</td>\n",
       "      <td>31</td>\n",
       "      <td>F</td>\n",
       "      <td>52</td>\n",
       "    </tr>\n",
       "    <tr>\n",
       "      <th>3</th>\n",
       "      <td>400147</td>\n",
       "      <td>2018-01-01 00:20:22</td>\n",
       "      <td>0 days 00:48:51.000000000</td>\n",
       "      <td>Macacha Güemes</td>\n",
       "      <td>111</td>\n",
       "      <td>Acuña de Figueroa</td>\n",
       "      <td>54</td>\n",
       "      <td>M</td>\n",
       "      <td>27</td>\n",
       "    </tr>\n",
       "    <tr>\n",
       "      <th>4</th>\n",
       "      <td>400156</td>\n",
       "      <td>2018-01-01 00:20:31</td>\n",
       "      <td>0 days 00:49:27.000000000</td>\n",
       "      <td>Macacha Güemes</td>\n",
       "      <td>111</td>\n",
       "      <td>Acuña de Figueroa</td>\n",
       "      <td>54</td>\n",
       "      <td>F</td>\n",
       "      <td>27</td>\n",
       "    </tr>\n",
       "  </tbody>\n",
       "</table>\n",
       "</div>"
      ],
      "text/plain": [
       "   bici_id_usuario bici_Fecha_hora_retiro            bici_tiempo_uso  \\\n",
       "0             5453    2018-01-01 00:08:05  0 days 00:19:53.000000000   \n",
       "1              673    2018-01-01 00:18:05  0 days 00:26:19.000000000   \n",
       "2           179119    2018-01-01 00:20:14  0 days 00:27:39.000000000   \n",
       "3           400147    2018-01-01 00:20:22  0 days 00:48:51.000000000   \n",
       "4           400156    2018-01-01 00:20:31  0 days 00:49:27.000000000   \n",
       "\n",
       "  bici_nombre_estacion_origen  bici_estacion_origen  \\\n",
       "0                     Uruguay                    45   \n",
       "1                     Posadas                   189   \n",
       "2          Hospital Rivadavia                    50   \n",
       "3              Macacha Güemes                   111   \n",
       "4              Macacha Güemes                   111   \n",
       "\n",
       "  bici_nombre_estacion_destino  bici_estacion_destino bici_sexo  bici_edad  \n",
       "0              Virrey Cevallos                    183         M         45  \n",
       "1                Guardia Vieja                    110         M         61  \n",
       "2                      Padilla                     31         F         52  \n",
       "3            Acuña de Figueroa                     54         M         27  \n",
       "4            Acuña de Figueroa                     54         F         27  "
      ]
     },
     "execution_count": 7,
     "metadata": {},
     "output_type": "execute_result"
    }
   ],
   "source": [
    "df18.head()"
   ]
  },
  {
   "cell_type": "code",
   "execution_count": 8,
   "metadata": {},
   "outputs": [
    {
     "data": {
      "text/plain": [
       "(2619968, 9)"
      ]
     },
     "execution_count": 8,
     "metadata": {},
     "output_type": "execute_result"
    }
   ],
   "source": [
    "df18.shape"
   ]
  },
  {
   "cell_type": "code",
   "execution_count": 9,
   "metadata": {},
   "outputs": [
    {
     "data": {
      "text/plain": [
       "'0 days 01:45:22.000000000'"
      ]
     },
     "execution_count": 9,
     "metadata": {},
     "output_type": "execute_result"
    }
   ],
   "source": [
    "df18.bici_tiempo_uso.iloc[27]"
   ]
  },
  {
   "cell_type": "code",
   "execution_count": 10,
   "metadata": {},
   "outputs": [
    {
     "data": {
      "text/plain": [
       "105"
      ]
     },
     "execution_count": 10,
     "metadata": {},
     "output_type": "execute_result"
    }
   ],
   "source": [
    "int(df18.bici_tiempo_uso.iloc[27][7:9])*60 + int(df18.bici_tiempo_uso.iloc[27][10:12])"
   ]
  },
  {
   "cell_type": "markdown",
   "metadata": {},
   "source": [
    "### Armar el Grafo"
   ]
  },
  {
   "cell_type": "code",
   "execution_count": 11,
   "metadata": {},
   "outputs": [
    {
     "data": {
      "text/plain": [
       "networkx.classes.graph.Graph"
      ]
     },
     "execution_count": 11,
     "metadata": {},
     "output_type": "execute_result"
    }
   ],
   "source": [
    "# Instanciamos un grafo direccionado\n",
    "D = nx.Graph()\n",
    "type(D)"
   ]
  },
  {
   "cell_type": "code",
   "execution_count": 12,
   "metadata": {},
   "outputs": [],
   "source": [
    "# Cada estacion es un nodo. Cada viaje entre estaciones es un arco.\n",
    "# Funcion para crear edges en una red de transporte\n",
    "\n",
    "def viajes_e_nodos(df, columna1, columna2):\n",
    "    '''\n",
    "    Devuelve los extremos conectados por un vinculo (edge)\n",
    "    '''\n",
    "    \n",
    "    origen = df[columna1]\n",
    "    destino = df[columna2]\n",
    "    \n",
    "    vinculados = zip(origen,destino)\n",
    "    \n",
    "    return list(vinculados)"
   ]
  },
  {
   "cell_type": "code",
   "execution_count": 13,
   "metadata": {},
   "outputs": [],
   "source": [
    "edges = viajes_e_nodos(df18, 'bici_estacion_origen', 'bici_estacion_destino')"
   ]
  },
  {
   "cell_type": "code",
   "execution_count": 20,
   "metadata": {},
   "outputs": [
    {
     "data": {
      "text/plain": [
       "(2619968, 2)"
      ]
     },
     "execution_count": 20,
     "metadata": {},
     "output_type": "execute_result"
    }
   ],
   "source": [
    "np.shape(edges)"
   ]
  },
  {
   "cell_type": "code",
   "execution_count": 21,
   "metadata": {},
   "outputs": [],
   "source": [
    "# Cada estacion es un nodo. Cada viaje entre estaciones es un arco.\n",
    "# Funcion para crear edges en una red de transporte\n",
    "\n",
    "def tiempo_e_estaciones(df, columna1, columna2):\n",
    "    '''\n",
    "    Devuelve los extremos conectados por un vinculo (edge)\n",
    "    '''\n",
    "    \n",
    "    origen = df[columna1]\n",
    "    destino = df[columna2]\n",
    "    \n",
    "    vinculados = zip(origen,destino)\n",
    "    \n",
    "    return list(vinculados)"
   ]
  },
  {
   "cell_type": "code",
   "execution_count": 22,
   "metadata": {},
   "outputs": [],
   "source": [
    "# Creamos una lista de edges (estacion_n, estacion_k)\n",
    "D.add_edges_from(edges)"
   ]
  },
  {
   "cell_type": "code",
   "execution_count": 23,
   "metadata": {},
   "outputs": [
    {
     "data": {
      "text/plain": [
       "19721"
      ]
     },
     "execution_count": 23,
     "metadata": {},
     "output_type": "execute_result"
    }
   ],
   "source": [
    "len(D.edges())"
   ]
  },
  {
   "cell_type": "code",
   "execution_count": 25,
   "metadata": {},
   "outputs": [],
   "source": [
    "#D.edges()"
   ]
  },
  {
   "cell_type": "code",
   "execution_count": 26,
   "metadata": {},
   "outputs": [
    {
     "data": {
      "text/plain": [
       "201"
      ]
     },
     "execution_count": 26,
     "metadata": {},
     "output_type": "execute_result"
    }
   ],
   "source": [
    "len(D.nodes())"
   ]
  },
  {
   "cell_type": "code",
   "execution_count": 27,
   "metadata": {},
   "outputs": [],
   "source": [
    "agrupado1 = df18.groupby(['bici_nombre_estacion_origen','bici_nombre_estacion_destino']).size().reset_index(name='recorridos')\n",
    "agrupado1.columns = ['origen','destino','recorridos']"
   ]
  },
  {
   "cell_type": "code",
   "execution_count": 28,
   "metadata": {},
   "outputs": [
    {
     "data": {
      "text/html": [
       "<div>\n",
       "<style scoped>\n",
       "    .dataframe tbody tr th:only-of-type {\n",
       "        vertical-align: middle;\n",
       "    }\n",
       "\n",
       "    .dataframe tbody tr th {\n",
       "        vertical-align: top;\n",
       "    }\n",
       "\n",
       "    .dataframe thead th {\n",
       "        text-align: right;\n",
       "    }\n",
       "</style>\n",
       "<table border=\"1\" class=\"dataframe\">\n",
       "  <thead>\n",
       "    <tr style=\"text-align: right;\">\n",
       "      <th></th>\n",
       "      <th>origen</th>\n",
       "      <th>destino</th>\n",
       "      <th>recorridos</th>\n",
       "    </tr>\n",
       "  </thead>\n",
       "  <tbody>\n",
       "    <tr>\n",
       "      <th>0</th>\n",
       "      <td>15 de Noviembre</td>\n",
       "      <td>15 de Noviembre</td>\n",
       "      <td>494</td>\n",
       "    </tr>\n",
       "    <tr>\n",
       "      <th>1</th>\n",
       "      <td>15 de Noviembre</td>\n",
       "      <td>25 de Mayo</td>\n",
       "      <td>2</td>\n",
       "    </tr>\n",
       "    <tr>\n",
       "      <th>2</th>\n",
       "      <td>15 de Noviembre</td>\n",
       "      <td>9 de Julio</td>\n",
       "      <td>7</td>\n",
       "    </tr>\n",
       "    <tr>\n",
       "      <th>3</th>\n",
       "      <td>15 de Noviembre</td>\n",
       "      <td>Acevedo</td>\n",
       "      <td>26</td>\n",
       "    </tr>\n",
       "    <tr>\n",
       "      <th>4</th>\n",
       "      <td>15 de Noviembre</td>\n",
       "      <td>Acuña de Figueroa</td>\n",
       "      <td>10</td>\n",
       "    </tr>\n",
       "  </tbody>\n",
       "</table>\n",
       "</div>"
      ],
      "text/plain": [
       "            origen            destino  recorridos\n",
       "0  15 de Noviembre    15 de Noviembre         494\n",
       "1  15 de Noviembre         25 de Mayo           2\n",
       "2  15 de Noviembre         9 de Julio           7\n",
       "3  15 de Noviembre            Acevedo          26\n",
       "4  15 de Noviembre  Acuña de Figueroa          10"
      ]
     },
     "execution_count": 28,
     "metadata": {},
     "output_type": "execute_result"
    }
   ],
   "source": [
    "agrupado1.head()"
   ]
  },
  {
   "cell_type": "code",
   "execution_count": 74,
   "metadata": {},
   "outputs": [
    {
     "name": "stderr",
     "output_type": "stream",
     "text": [
      "/home/human/anaconda3/lib/python3.6/site-packages/numpy/core/fromnumeric.py:56: FutureWarning: 'argmax' is deprecated, use 'idxmax' instead. The behavior of 'argmax'\n",
      "will be corrected to return the positional maximum in the future.\n",
      "Use 'series.values.argmax' to get the position of the maximum now.\n",
      "  return getattr(obj, method)(*args, **kwds)\n"
     ]
    },
    {
     "data": {
      "text/plain": [
       "23386"
      ]
     },
     "execution_count": 74,
     "metadata": {},
     "output_type": "execute_result"
    }
   ],
   "source": [
    "np.argmax(agrupado1.recorridos)"
   ]
  },
  {
   "cell_type": "code",
   "execution_count": 76,
   "metadata": {},
   "outputs": [
    {
     "name": "stderr",
     "output_type": "stream",
     "text": [
      "/home/human/anaconda3/lib/python3.6/site-packages/scipy/stats/stats.py:1713: FutureWarning: Using a non-tuple sequence for multidimensional indexing is deprecated; use `arr[tuple(seq)]` instead of `arr[seq]`. In the future this will be interpreted as an array index, `arr[np.array(seq)]`, which will result either in an error or a different result.\n",
      "  return np.add.reduce(sorted[indexer] * weights, axis=axis) / sumval\n"
     ]
    },
    {
     "data": {
      "image/png": "[encoded data removed]",
      "text/plain": [
       "<Figure size 432x288 with 1 Axes>"
      ]
     },
     "metadata": {
      "needs_background": "light"
     },
     "output_type": "display_data"
    }
   ],
   "source": [
    "sns.distplot(agrupado1.recorridos)\n",
    "plt.show()"
   ]
  },
  {
   "cell_type": "code",
   "execution_count": 77,
   "metadata": {},
   "outputs": [
    {
     "data": {
      "text/html": [
       "<div>\n",
       "<style scoped>\n",
       "    .dataframe tbody tr th:only-of-type {\n",
       "        vertical-align: middle;\n",
       "    }\n",
       "\n",
       "    .dataframe tbody tr th {\n",
       "        vertical-align: top;\n",
       "    }\n",
       "\n",
       "    .dataframe thead th {\n",
       "        text-align: right;\n",
       "    }\n",
       "</style>\n",
       "<table border=\"1\" class=\"dataframe\">\n",
       "  <thead>\n",
       "    <tr style=\"text-align: right;\">\n",
       "      <th></th>\n",
       "      <th>origen</th>\n",
       "      <th>destino</th>\n",
       "      <th>recorridos</th>\n",
       "    </tr>\n",
       "  </thead>\n",
       "  <tbody>\n",
       "    <tr>\n",
       "      <th>5653</th>\n",
       "      <td>Carlos Calvo</td>\n",
       "      <td>Carlos Calvo</td>\n",
       "      <td>2852</td>\n",
       "    </tr>\n",
       "    <tr>\n",
       "      <th>7626</th>\n",
       "      <td>Congreso</td>\n",
       "      <td>Congreso</td>\n",
       "      <td>2224</td>\n",
       "    </tr>\n",
       "    <tr>\n",
       "      <th>10376</th>\n",
       "      <td>Ecoparque</td>\n",
       "      <td>Ecoparque</td>\n",
       "      <td>2460</td>\n",
       "    </tr>\n",
       "    <tr>\n",
       "      <th>11755</th>\n",
       "      <td>Facultad de Derecho</td>\n",
       "      <td>Facultad de Derecho</td>\n",
       "      <td>2293</td>\n",
       "    </tr>\n",
       "    <tr>\n",
       "      <th>13504</th>\n",
       "      <td>Godoy Cruz y Libertador</td>\n",
       "      <td>Godoy Cruz y Libertador</td>\n",
       "      <td>4030</td>\n",
       "    </tr>\n",
       "    <tr>\n",
       "      <th>17946</th>\n",
       "      <td>Juana Manso</td>\n",
       "      <td>Juana Manso</td>\n",
       "      <td>3868</td>\n",
       "    </tr>\n",
       "    <tr>\n",
       "      <th>18144</th>\n",
       "      <td>Julieta Lanteri</td>\n",
       "      <td>Julieta Lanteri</td>\n",
       "      <td>3003</td>\n",
       "    </tr>\n",
       "    <tr>\n",
       "      <th>18339</th>\n",
       "      <td>Julián Álvarez</td>\n",
       "      <td>Julián Álvarez</td>\n",
       "      <td>2038</td>\n",
       "    </tr>\n",
       "    <tr>\n",
       "      <th>19856</th>\n",
       "      <td>Macacha Güemes</td>\n",
       "      <td>Macacha Güemes</td>\n",
       "      <td>2011</td>\n",
       "    </tr>\n",
       "    <tr>\n",
       "      <th>21425</th>\n",
       "      <td>Ministerio de Justicia y Seguridad</td>\n",
       "      <td>Ministerio de Justicia y Seguridad</td>\n",
       "      <td>2251</td>\n",
       "    </tr>\n",
       "    <tr>\n",
       "      <th>23386</th>\n",
       "      <td>Pacífico</td>\n",
       "      <td>Pacífico</td>\n",
       "      <td>4846</td>\n",
       "    </tr>\n",
       "    <tr>\n",
       "      <th>23978</th>\n",
       "      <td>Parque Centenario</td>\n",
       "      <td>Parque Centenario</td>\n",
       "      <td>4125</td>\n",
       "    </tr>\n",
       "    <tr>\n",
       "      <th>24177</th>\n",
       "      <td>Parque Las Heras</td>\n",
       "      <td>Parque Las Heras</td>\n",
       "      <td>3402</td>\n",
       "    </tr>\n",
       "    <tr>\n",
       "      <th>25948</th>\n",
       "      <td>Peña</td>\n",
       "      <td>Peña</td>\n",
       "      <td>2155</td>\n",
       "    </tr>\n",
       "    <tr>\n",
       "      <th>26513</th>\n",
       "      <td>Planetario</td>\n",
       "      <td>Plaza Italia</td>\n",
       "      <td>2328</td>\n",
       "    </tr>\n",
       "    <tr>\n",
       "      <th>26897</th>\n",
       "      <td>Plaza Almagro</td>\n",
       "      <td>Plaza Almagro</td>\n",
       "      <td>2084</td>\n",
       "    </tr>\n",
       "    <tr>\n",
       "      <th>27096</th>\n",
       "      <td>Plaza Boedo</td>\n",
       "      <td>Plaza Boedo</td>\n",
       "      <td>2606</td>\n",
       "    </tr>\n",
       "    <tr>\n",
       "      <th>27674</th>\n",
       "      <td>Plaza Güemes</td>\n",
       "      <td>Plaza Güemes</td>\n",
       "      <td>2115</td>\n",
       "    </tr>\n",
       "    <tr>\n",
       "      <th>28214</th>\n",
       "      <td>Plaza Italia</td>\n",
       "      <td>Planetario</td>\n",
       "      <td>2213</td>\n",
       "    </tr>\n",
       "    <tr>\n",
       "      <th>28223</th>\n",
       "      <td>Plaza Italia</td>\n",
       "      <td>Plaza Italia</td>\n",
       "      <td>4729</td>\n",
       "    </tr>\n",
       "    <tr>\n",
       "      <th>30194</th>\n",
       "      <td>Pueyrredón</td>\n",
       "      <td>Pueyrredón</td>\n",
       "      <td>2002</td>\n",
       "    </tr>\n",
       "    <tr>\n",
       "      <th>33109</th>\n",
       "      <td>Ruy Diaz De Guzman</td>\n",
       "      <td>Ruy Diaz De Guzman</td>\n",
       "      <td>2180</td>\n",
       "    </tr>\n",
       "    <tr>\n",
       "      <th>37555</th>\n",
       "      <td>Vera Peñaloza</td>\n",
       "      <td>Vera Peñaloza</td>\n",
       "      <td>4466</td>\n",
       "    </tr>\n",
       "  </tbody>\n",
       "</table>\n",
       "</div>"
      ],
      "text/plain": [
       "                                   origen                             destino  \\\n",
       "5653                         Carlos Calvo                        Carlos Calvo   \n",
       "7626                             Congreso                            Congreso   \n",
       "10376                           Ecoparque                           Ecoparque   \n",
       "11755                 Facultad de Derecho                 Facultad de Derecho   \n",
       "13504             Godoy Cruz y Libertador             Godoy Cruz y Libertador   \n",
       "17946                         Juana Manso                         Juana Manso   \n",
       "18144                     Julieta Lanteri                     Julieta Lanteri   \n",
       "18339                      Julián Álvarez                      Julián Álvarez   \n",
       "19856                      Macacha Güemes                      Macacha Güemes   \n",
       "21425  Ministerio de Justicia y Seguridad  Ministerio de Justicia y Seguridad   \n",
       "23386                            Pacífico                            Pacífico   \n",
       "23978                   Parque Centenario                   Parque Centenario   \n",
       "24177                    Parque Las Heras                    Parque Las Heras   \n",
       "25948                                Peña                                Peña   \n",
       "26513                          Planetario                        Plaza Italia   \n",
       "26897                       Plaza Almagro                       Plaza Almagro   \n",
       "27096                         Plaza Boedo                         Plaza Boedo   \n",
       "27674                        Plaza Güemes                        Plaza Güemes   \n",
       "28214                        Plaza Italia                          Planetario   \n",
       "28223                        Plaza Italia                        Plaza Italia   \n",
       "30194                          Pueyrredón                          Pueyrredón   \n",
       "33109                  Ruy Diaz De Guzman                  Ruy Diaz De Guzman   \n",
       "37555                       Vera Peñaloza                       Vera Peñaloza   \n",
       "\n",
       "       recorridos  \n",
       "5653         2852  \n",
       "7626         2224  \n",
       "10376        2460  \n",
       "11755        2293  \n",
       "13504        4030  \n",
       "17946        3868  \n",
       "18144        3003  \n",
       "18339        2038  \n",
       "19856        2011  \n",
       "21425        2251  \n",
       "23386        4846  \n",
       "23978        4125  \n",
       "24177        3402  \n",
       "25948        2155  \n",
       "26513        2328  \n",
       "26897        2084  \n",
       "27096        2606  \n",
       "27674        2115  \n",
       "28214        2213  \n",
       "28223        4729  \n",
       "30194        2002  \n",
       "33109        2180  \n",
       "37555        4466  "
      ]
     },
     "execution_count": 77,
     "metadata": {},
     "output_type": "execute_result"
    }
   ],
   "source": [
    "agrupado1.loc[agrupado1.recorridos > 2000]"
   ]
  },
  {
   "cell_type": "code",
   "execution_count": 30,
   "metadata": {},
   "outputs": [
    {
     "data": {
      "text/plain": [
       "(38333, 3)"
      ]
     },
     "execution_count": 30,
     "metadata": {},
     "output_type": "execute_result"
    }
   ],
   "source": [
    "agrupado1.shape"
   ]
  },
  {
   "cell_type": "code",
   "execution_count": 31,
   "metadata": {},
   "outputs": [],
   "source": [
    "#agrupado1.to_csv('grafo_bicis_18.csv')"
   ]
  },
  {
   "cell_type": "code",
   "execution_count": 32,
   "metadata": {},
   "outputs": [],
   "source": [
    "#nx.from_edgelist()"
   ]
  },
  {
   "cell_type": "code",
   "execution_count": 33,
   "metadata": {},
   "outputs": [],
   "source": [
    "# Se crea una funcion para generar el grafo de la red de transporte\n",
    "def graphmaker(df, origen, destino):\n",
    "    '''\n",
    "    Devuelve un grafo compuesto por estaciones(nodos) y recorridos(vinculos) para cada dataframe.\n",
    "    ...\n",
    "    Argumentos:\n",
    "    \n",
    "    df = dataframe de recorridos\n",
    "    origen = Serie del dataframe referenciando la estacion de origen del grafo\n",
    "    destino = Serie del dataframe referenciando la estacion de destino del grafo\n",
    "    '''\n",
    "    agrupado = df.groupby([origen,destino]).size().reset_index(name='recorridos')\n",
    "    agrupado.columns = ['origen','destino','recorridos']\n",
    "    #bicigrafo = nx.from_pandas_edgelist(agrupado,'origen','destino','recorridos')\n",
    "    bicigrafo = nx.convert_matrix.from_pandas_edgelist(agrupado,'origen','destino','recorridos')\n",
    "    return bicigrafo"
   ]
  },
  {
   "cell_type": "code",
   "execution_count": 34,
   "metadata": {},
   "outputs": [],
   "source": [
    "# Aplicamos la funcion para cada dataset y asi obtenemos el grafo de la red de bicicletas de cada año\n",
    "# bicigrafo 2015\n",
    "b18 = graphmaker(df18,'bici_nombre_estacion_origen','bici_nombre_estacion_destino')"
   ]
  },
  {
   "cell_type": "code",
   "execution_count": 35,
   "metadata": {},
   "outputs": [
    {
     "data": {
      "text/plain": [
       "{'recorridos': 7}"
      ]
     },
     "execution_count": 35,
     "metadata": {},
     "output_type": "execute_result"
    }
   ],
   "source": [
    "b18.get_edge_data(\"15 de Noviembre\",\"25 de Mayo\")"
   ]
  },
  {
   "cell_type": "code",
   "execution_count": 36,
   "metadata": {},
   "outputs": [],
   "source": [
    "# 1) Cantidad de nodos(estaciones) y ejes(recorridos) de cada dataset\n",
    "n18, e18 = len(b18.nodes()), len(b18.edges())"
   ]
  },
  {
   "cell_type": "code",
   "execution_count": 37,
   "metadata": {},
   "outputs": [
    {
     "data": {
      "text/plain": [
       "199"
      ]
     },
     "execution_count": 37,
     "metadata": {},
     "output_type": "execute_result"
    }
   ],
   "source": [
    "n18"
   ]
  },
  {
   "cell_type": "code",
   "execution_count": 38,
   "metadata": {},
   "outputs": [
    {
     "data": {
      "text/plain": [
       "19574"
      ]
     },
     "execution_count": 38,
     "metadata": {},
     "output_type": "execute_result"
    }
   ],
   "source": [
    "e18"
   ]
  },
  {
   "cell_type": "markdown",
   "metadata": {},
   "source": [
    "## Matriz de Adyacencia"
   ]
  },
  {
   "cell_type": "code",
   "execution_count": 39,
   "metadata": {},
   "outputs": [
    {
     "data": {
      "text/plain": [
       "<bound method Graph.adjacency of <networkx.classes.graph.Graph object at 0x7fafa7f9c3c8>>"
      ]
     },
     "execution_count": 39,
     "metadata": {},
     "output_type": "execute_result"
    }
   ],
   "source": [
    "b18.adjacency"
   ]
  },
  {
   "cell_type": "code",
   "execution_count": 40,
   "metadata": {},
   "outputs": [],
   "source": [
    "b18_adj = nx.adjacency_matrix(b18, weight = 'recorridos')"
   ]
  },
  {
   "cell_type": "code",
   "execution_count": 41,
   "metadata": {},
   "outputs": [
    {
     "data": {
      "text/plain": [
       "matrix([[ 494,    7,   12, ...,    3,    1,    0],\n",
       "        [   7, 1246,   62, ...,    1,   31,    0],\n",
       "        [  12,   62,  308, ...,    0,   34,    0],\n",
       "        ...,\n",
       "        [   3,    1,    0, ...,  425,    5,    0],\n",
       "        [   1,   31,   34, ...,    5,  385,    0],\n",
       "        [   0,    0,    0, ...,    0,    0,    5]], dtype=int64)"
      ]
     },
     "execution_count": 41,
     "metadata": {},
     "output_type": "execute_result"
    }
   ],
   "source": [
    "b18_adjmat = b18_adj.todense()\n",
    "b18_adjmat"
   ]
  },
  {
   "cell_type": "code",
   "execution_count": 42,
   "metadata": {},
   "outputs": [
    {
     "data": {
      "text/plain": [
       "(199, 199)"
      ]
     },
     "execution_count": 42,
     "metadata": {},
     "output_type": "execute_result"
    }
   ],
   "source": [
    "np.shape(b18_adjmat)"
   ]
  },
  {
   "cell_type": "code",
   "execution_count": 43,
   "metadata": {},
   "outputs": [],
   "source": [
    "np.fill_diagonal(b18_adjmat, 0)"
   ]
  },
  {
   "cell_type": "code",
   "execution_count": 44,
   "metadata": {},
   "outputs": [
    {
     "data": {
      "image/png": "[encoded data removed]",
      "text/plain": [
       "<Figure size 720x432 with 1 Axes>"
      ]
     },
     "metadata": {
      "needs_background": "light"
     },
     "output_type": "display_data"
    }
   ],
   "source": [
    "sns.set_context(\"talk\")\n",
    "#plt.(b18_adjmat)\n",
    "plt.figure(figsize=(10,6))\n",
    "plt.imshow(b18_adjmat, cmap='hot', interpolation='nearest')\n",
    "plt.title(\"Bicycles Station Adjacency matrix 2018\")\n",
    "plt.grid(False)\n",
    "plt.xlabel(\"Estaciones\")\n",
    "plt.ylabel(\"Estaciones\")\n",
    "plt.show()"
   ]
  },
  {
   "cell_type": "code",
   "execution_count": 45,
   "metadata": {},
   "outputs": [],
   "source": [
    "D = np.diag(np.sum(b18_adjmat, axis = 1))"
   ]
  },
  {
   "cell_type": "code",
   "execution_count": 46,
   "metadata": {},
   "outputs": [],
   "source": [
    "L = D - b18_adjmat"
   ]
  },
  {
   "cell_type": "markdown",
   "metadata": {},
   "source": [
    "### Spectral Clustering"
   ]
  },
  {
   "cell_type": "code",
   "execution_count": 52,
   "metadata": {},
   "outputs": [],
   "source": [
    "from sklearn.cluster import SpectralClustering\n",
    "from sklearn import metrics\n",
    "np.random.seed(0)"
   ]
  },
  {
   "cell_type": "code",
   "execution_count": 53,
   "metadata": {},
   "outputs": [
    {
     "data": {
      "text/plain": [
       "SpectralClustering(affinity='precomputed', assign_labels='kmeans', coef0=1,\n",
       "          degree=3, eigen_solver=None, eigen_tol=0.0, gamma=1.0,\n",
       "          kernel_params=None, n_clusters=3, n_init=100, n_jobs=1,\n",
       "          n_neighbors=10, random_state=None)"
      ]
     },
     "execution_count": 53,
     "metadata": {},
     "output_type": "execute_result"
    }
   ],
   "source": [
    "sc = SpectralClustering(3, affinity='precomputed', n_init=100)\n",
    "sc.fit(b18_adjmat)"
   ]
  },
  {
   "cell_type": "code",
   "execution_count": 54,
   "metadata": {},
   "outputs": [
    {
     "name": "stdout",
     "output_type": "stream",
     "text": [
      "spectral clustering\n",
      "[1 0 0 1 2 2 0 0 1 2 0 2 2 2 2 1 1 0 0 0 0 0 2 2 1 0 0 1 1 2 1 1 0 2 0 0 0\n",
      " 0 0 0 0 2 0 2 0 0 0 2 1 1 1 2 2 2 0 0 0 2 2 0 2 1 1 1 2 0 1 2 1 2 1 2 1 1\n",
      " 2 0 1 1 1 1 1 2 1 1 0 0 0 1 1 0 0 0 2 2 0 1 0 0 1 0 0 0 0 2 2 0 0 0 0 2 1\n",
      " 0 0 1 2 0 1 1 2 1 0 1 2 0 1 1 1 1 1 1 0 2 0 0 2 2 1 1 0 0 2 0 2 0 2 2 1 0\n",
      " 0 2 2 1 1 0 1 1 2 0 0 0 1 2 0 0 1 0 1 1 1 0 1 1 0 0 1 0 1 0 0 2 1 0 0 1 0\n",
      " 0 1 0 1 1 0 2 0 0 0 1 1 0 0]\n"
     ]
    }
   ],
   "source": [
    "print('spectral clustering')\n",
    "print(sc.labels_)"
   ]
  },
  {
   "cell_type": "code",
   "execution_count": 55,
   "metadata": {},
   "outputs": [
    {
     "data": {
      "image/png": "[encoded data removed]",
      "text/plain": [
       "<Figure size 432x288 with 1 Axes>"
      ]
     },
     "metadata": {
      "needs_background": "light"
     },
     "output_type": "display_data"
    }
   ],
   "source": [
    "sns.countplot(sc.labels_)\n",
    "plt.xlabel(\"clusters\")\n",
    "plt.ylabel(\"samples per cluster\")\n",
    "plt.show()"
   ]
  },
  {
   "cell_type": "code",
   "execution_count": 56,
   "metadata": {},
   "outputs": [],
   "source": [
    "from numpy import linalg as LA\n",
    "w, v = LA.eig(b18_adjmat)\n",
    "#w, v = LA.eig(L)"
   ]
  },
  {
   "cell_type": "code",
   "execution_count": 57,
   "metadata": {},
   "outputs": [
    {
     "data": {
      "text/plain": [
       "(199, 199)"
      ]
     },
     "execution_count": 57,
     "metadata": {},
     "output_type": "execute_result"
    }
   ],
   "source": [
    "np.shape(v)"
   ]
  },
  {
   "cell_type": "code",
   "execution_count": 58,
   "metadata": {},
   "outputs": [
    {
     "data": {
      "text/plain": [
       "(85,)"
      ]
     },
     "execution_count": 58,
     "metadata": {},
     "output_type": "execute_result"
    }
   ],
   "source": [
    "np.shape(np.ravel(v[sc.labels_==0,0]))"
   ]
  },
  {
   "cell_type": "code",
   "execution_count": 61,
   "metadata": {},
   "outputs": [
    {
     "data": {
      "image/png": "[encoded data removed]",
      "text/plain": [
       "<Figure size 576x432 with 1 Axes>"
      ]
     },
     "metadata": {
      "needs_background": "light"
     },
     "output_type": "display_data"
    }
   ],
   "source": [
    "sns.set_context(\"talk\")\n",
    "plt.figure(figsize=(8,6))\n",
    "plt.scatter(np.ravel(v[sc.labels_==0,0]),np.ravel(v[sc.labels_==0,1]), c = 'r', alpha = 0.4, s = 110)\n",
    "plt.scatter(np.ravel(v[sc.labels_==1,0]),np.ravel(v[sc.labels_==1,1]), c = 'b', alpha = 0.4, s = 110)\n",
    "plt.scatter(np.ravel(v[sc.labels_==2,0]),np.ravel(v[sc.labels_==2,1]), c = 'g', alpha = 0.4, s = 110)\n",
    "#plt.scatter(np.ravel(v[sc.labels_==3,0]),np.ravel(v[sc.labels_==3,1]), c = 'y', alpha = 0.4, s = 80)\n",
    "plt.xlabel(\"PC1\")\n",
    "plt.ylabel(\"PC2\")\n",
    "plt.title(\"Spectral Clustering of Bycicle Stations using # of rides\")\n",
    "plt.grid(False)\n",
    "plt.show()"
   ]
  },
  {
   "cell_type": "code",
   "execution_count": 62,
   "metadata": {},
   "outputs": [],
   "source": [
    "nodes = list(b18.nodes)"
   ]
  },
  {
   "cell_type": "code",
   "execution_count": 63,
   "metadata": {},
   "outputs": [],
   "source": [
    "#nodes[(sc.labels_ == 0)[]]"
   ]
  },
  {
   "cell_type": "markdown",
   "metadata": {},
   "source": [
    "### Analisis de comunidades"
   ]
  },
  {
   "cell_type": "code",
   "execution_count": 72,
   "metadata": {},
   "outputs": [],
   "source": [
    "data_estaciones = pd.read_csv('/home/human/Dropbox/doctorado/chapter00_courses/network_science_sarraute/spiderman/martin/data_estaciones.csv',infer_datetime_format=True)"
   ]
  },
  {
   "cell_type": "code",
   "execution_count": 73,
   "metadata": {},
   "outputs": [
    {
     "data": {
      "text/html": [
       "<div>\n",
       "<style scoped>\n",
       "    .dataframe tbody tr th:only-of-type {\n",
       "        vertical-align: middle;\n",
       "    }\n",
       "\n",
       "    .dataframe tbody tr th {\n",
       "        vertical-align: top;\n",
       "    }\n",
       "\n",
       "    .dataframe thead th {\n",
       "        text-align: right;\n",
       "    }\n",
       "</style>\n",
       "<table border=\"1\" class=\"dataframe\">\n",
       "  <thead>\n",
       "    <tr style=\"text-align: right;\">\n",
       "      <th></th>\n",
       "      <th>long</th>\n",
       "      <th>lat</th>\n",
       "      <th>nombre</th>\n",
       "      <th>domicilio</th>\n",
       "      <th>imagen</th>\n",
       "      <th>automat</th>\n",
       "      <th>observ</th>\n",
       "      <th>nro_est</th>\n",
       "      <th>horario</th>\n",
       "      <th>dire_norm</th>\n",
       "    </tr>\n",
       "  </thead>\n",
       "  <tbody>\n",
       "    <tr>\n",
       "      <th>0</th>\n",
       "      <td>-58.392452</td>\n",
       "      <td>-34.583133</td>\n",
       "      <td>Facultad de Derecho</td>\n",
       "      <td>Av. Pres.Figueroa Alcorta y  Juan A.Bibiloni</td>\n",
       "      <td>estacion_automatica.png</td>\n",
       "      <td>AUTOMÁTICA</td>\n",
       "      <td>Abril 2015 (pasó de ser Manual a Automática)</td>\n",
       "      <td>1</td>\n",
       "      <td>Estación automática: disponibilidad las 24 horas</td>\n",
       "      <td>FIGUEROA ALCORTA, PRES. AV. y BIBILONI, JUAN A.</td>\n",
       "    </tr>\n",
       "    <tr>\n",
       "      <th>1</th>\n",
       "      <td>-58.374822</td>\n",
       "      <td>-34.592589</td>\n",
       "      <td>Retiro</td>\n",
       "      <td>Av. Dr.Jose Ramos Mejia y Del Libertador Av</td>\n",
       "      <td>estacion_automatica.png</td>\n",
       "      <td>AUTOMÁTICA</td>\n",
       "      <td>Abril 2015 (pasó de ser Manual a Automática)</td>\n",
       "      <td>2</td>\n",
       "      <td>Estación automática: disponibilidad las 24 horas</td>\n",
       "      <td>DEL LIBERTADOR AV. y RAMOS MEJIA, JOSE MARIA, ...</td>\n",
       "    </tr>\n",
       "    <tr>\n",
       "      <th>2</th>\n",
       "      <td>-58.368918</td>\n",
       "      <td>-34.611242</td>\n",
       "      <td>Aduana</td>\n",
       "      <td>Av. Ing.Huergo y Av. Belgrano</td>\n",
       "      <td>estacion_automatica.png</td>\n",
       "      <td>AUTOMÁTICA</td>\n",
       "      <td>Abril 2015 (pasó de ser Manual a Automática)</td>\n",
       "      <td>3</td>\n",
       "      <td>Estación automática: disponibilidad las 24 horas</td>\n",
       "      <td>HUERGO, ING. AV. y BELGRANO AV.</td>\n",
       "    </tr>\n",
       "    <tr>\n",
       "      <th>3</th>\n",
       "      <td>-58.368950</td>\n",
       "      <td>-34.601721</td>\n",
       "      <td>Plaza Roma</td>\n",
       "      <td>Lavalle y Bouchard</td>\n",
       "      <td>estacion_automatica.png</td>\n",
       "      <td>AUTOMÁTICA</td>\n",
       "      <td>Abril 2015 (pasó de ser Manual a Automática)</td>\n",
       "      <td>4</td>\n",
       "      <td>Estación automática: disponibilidad las 24 horas</td>\n",
       "      <td>LAVALLE y BOUCHARD</td>\n",
       "    </tr>\n",
       "    <tr>\n",
       "      <th>4</th>\n",
       "      <td>-58.369709</td>\n",
       "      <td>-34.628301</td>\n",
       "      <td>Parque Lezama</td>\n",
       "      <td>Av Martín García e Irala</td>\n",
       "      <td>estacion_automatica.png</td>\n",
       "      <td>AUTOMÁTICA</td>\n",
       "      <td>Abril 2015 (pasó de ser Manual a Automática)</td>\n",
       "      <td>6</td>\n",
       "      <td>Estación automática: disponibilidad las 24 horas</td>\n",
       "      <td>GARCIA, MARTIN AV. e IRALA</td>\n",
       "    </tr>\n",
       "  </tbody>\n",
       "</table>\n",
       "</div>"
      ],
      "text/plain": [
       "        long        lat               nombre  \\\n",
       "0 -58.392452 -34.583133  Facultad de Derecho   \n",
       "1 -58.374822 -34.592589               Retiro   \n",
       "2 -58.368918 -34.611242               Aduana   \n",
       "3 -58.368950 -34.601721           Plaza Roma   \n",
       "4 -58.369709 -34.628301        Parque Lezama   \n",
       "\n",
       "                                      domicilio                   imagen  \\\n",
       "0  Av. Pres.Figueroa Alcorta y  Juan A.Bibiloni  estacion_automatica.png   \n",
       "1   Av. Dr.Jose Ramos Mejia y Del Libertador Av  estacion_automatica.png   \n",
       "2                 Av. Ing.Huergo y Av. Belgrano  estacion_automatica.png   \n",
       "3                            Lavalle y Bouchard  estacion_automatica.png   \n",
       "4                      Av Martín García e Irala  estacion_automatica.png   \n",
       "\n",
       "      automat                                        observ  nro_est  \\\n",
       "0  AUTOMÁTICA  Abril 2015 (pasó de ser Manual a Automática)        1   \n",
       "1  AUTOMÁTICA  Abril 2015 (pasó de ser Manual a Automática)        2   \n",
       "2  AUTOMÁTICA  Abril 2015 (pasó de ser Manual a Automática)        3   \n",
       "3  AUTOMÁTICA  Abril 2015 (pasó de ser Manual a Automática)        4   \n",
       "4  AUTOMÁTICA  Abril 2015 (pasó de ser Manual a Automática)        6   \n",
       "\n",
       "                                            horario  \\\n",
       "0  Estación automática: disponibilidad las 24 horas   \n",
       "1  Estación automática: disponibilidad las 24 horas   \n",
       "2  Estación automática: disponibilidad las 24 horas   \n",
       "3  Estación automática: disponibilidad las 24 horas   \n",
       "4  Estación automática: disponibilidad las 24 horas   \n",
       "\n",
       "                                           dire_norm  \n",
       "0    FIGUEROA ALCORTA, PRES. AV. y BIBILONI, JUAN A.  \n",
       "1  DEL LIBERTADOR AV. y RAMOS MEJIA, JOSE MARIA, ...  \n",
       "2                    HUERGO, ING. AV. y BELGRANO AV.  \n",
       "3                                 LAVALLE y BOUCHARD  \n",
       "4                         GARCIA, MARTIN AV. e IRALA  "
      ]
     },
     "execution_count": 73,
     "metadata": {},
     "output_type": "execute_result"
    }
   ],
   "source": [
    "data_estaciones.head()"
   ]
  },
  {
   "cell_type": "code",
   "execution_count": 64,
   "metadata": {},
   "outputs": [],
   "source": [
    "from itertools import compress\n",
    "nodes_cluster0 = list(compress(nodes, (sc.labels_ == 0)))\n",
    "nodes_cluster1 = list(compress(nodes, (sc.labels_ == 1)))\n",
    "nodes_cluster2 = list(compress(nodes, (sc.labels_ == 2)))"
   ]
  },
  {
   "cell_type": "markdown",
   "metadata": {},
   "source": [
    "### Que estaciones estan dentro de cada comunidad?"
   ]
  },
  {
   "cell_type": "code",
   "execution_count": 65,
   "metadata": {},
   "outputs": [
    {
     "data": {
      "text/plain": [
       "['25 de Mayo',\n",
       " '9 de Julio',\n",
       " 'Aime Paine',\n",
       " 'Alsina',\n",
       " 'Arenales',\n",
       " 'Ayacucho',\n",
       " 'Azopardo y Chile',\n",
       " 'Azucena Villaflor',\n",
       " 'Balcarce',\n",
       " 'Belgrano',\n",
       " 'Bouchard',\n",
       " 'Brasil',\n",
       " 'Catedral',\n",
       " 'Cerrito',\n",
       " 'Chile',\n",
       " 'Colegio Nacional Buenos Aires',\n",
       " 'Congreso',\n",
       " 'Congreso II',\n",
       " 'Constitucion I',\n",
       " 'Constitucion II',\n",
       " 'Corrientes',\n",
       " 'Córdoba',\n",
       " 'Della Paolera',\n",
       " 'Diagonal Norte',\n",
       " 'Esmeralda',\n",
       " 'Esmeralda y Corrientes',\n",
       " 'Estados Unidos',\n",
       " 'Facultad de Ingenieria',\n",
       " 'Galerías Pacífico',\n",
       " 'Hospital Argerich',\n",
       " 'Humberto 1º',\n",
       " 'Independencia',\n",
       " 'Ingeniero Butty',\n",
       " 'Juan Manuel Blanes',\n",
       " 'Juana Manso',\n",
       " 'Julieta Lanteri',\n",
       " 'La Boca',\n",
       " 'Lavalle',\n",
       " 'Legislatura',\n",
       " 'Lima',\n",
       " 'Macacha Güemes',\n",
       " 'Madero UCA',\n",
       " 'Maipú',\n",
       " 'Marcelo T. de Alvear',\n",
       " 'Ministerio de Economía',\n",
       " 'Ministerio de Educacion',\n",
       " 'Ministerio de Justicia y Seguridad',\n",
       " 'Montevideo',\n",
       " 'Moreno',\n",
       " 'Obelisco',\n",
       " 'Paraná',\n",
       " 'Parque Lezama',\n",
       " 'Perón',\n",
       " 'Piedras',\n",
       " 'Pinzon y M. Rodriguez',\n",
       " 'Plaza Cecilia Grierson',\n",
       " 'Plaza Garay',\n",
       " 'Plaza Houssay',\n",
       " 'Plaza Libertad',\n",
       " 'Plaza Roma',\n",
       " 'Plaza San Martín',\n",
       " 'Quintana',\n",
       " 'Retiro',\n",
       " 'Retiro II',\n",
       " 'Retiro III',\n",
       " 'Rivadavia y 9 de Julio',\n",
       " 'Rivarola',\n",
       " 'Ruy Diaz De Guzman',\n",
       " 'Sarmiento',\n",
       " 'Solis y Alsina',\n",
       " 'Suipacha',\n",
       " 'Talcahuano',\n",
       " 'Tribunales',\n",
       " 'Tucumán',\n",
       " 'Uruguay',\n",
       " 'Usina del Arte',\n",
       " 'Venezuela',\n",
       " 'Vera Peñaloza',\n",
       " 'Virrey Cevallos',\n",
       " 'Aduana',\n",
       " 'Plaza Hipolito Bouchard',\n",
       " 'Reconquista',\n",
       " 'Ricardo Rojas',\n",
       " 'Suipacha y Arroyo',\n",
       " 'PALACIO LEZAMA']"
      ]
     },
     "execution_count": 65,
     "metadata": {},
     "output_type": "execute_result"
    }
   ],
   "source": [
    "# microcentro, constitucion y la boca \n",
    "nodes_cluster0"
   ]
  },
  {
   "cell_type": "code",
   "execution_count": 66,
   "metadata": {},
   "outputs": [
    {
     "data": {
      "text/plain": [
       "['15 de Noviembre',\n",
       " 'Acevedo',\n",
       " 'Aranguren',\n",
       " 'Av. Pavon y 33 Orientales',\n",
       " 'Avelino Diaz',\n",
       " 'Billinghurst y Valentin Gomez',\n",
       " 'Carlos Calvo',\n",
       " 'Carlos Gardel',\n",
       " 'Castro y Mexico',\n",
       " 'Catamarca',\n",
       " 'Doblas',\n",
       " 'Don Bosco',\n",
       " 'EEUU y Boedo',\n",
       " 'Facultad de Psicologia',\n",
       " 'Federico Lacroze',\n",
       " 'Fitz Roy',\n",
       " 'Gallo',\n",
       " 'Guardia Vieja',\n",
       " 'Guayaquil',\n",
       " 'Guzmán',\n",
       " 'Hipolito Yrigoyen',\n",
       " 'Hospital Británico',\n",
       " 'Hospital Francés',\n",
       " 'Hospital Garrahan',\n",
       " 'Hospital Italiano',\n",
       " 'Hospital Ramos Mejía',\n",
       " 'Hospital Sarda',\n",
       " 'Humahuaca',\n",
       " 'Instituto Leloir',\n",
       " 'Jose Marmol',\n",
       " 'Las casas',\n",
       " 'Lerma',\n",
       " 'Misiones',\n",
       " 'México',\n",
       " 'Once',\n",
       " 'Once II',\n",
       " 'Padilla',\n",
       " 'Parque Centenario',\n",
       " 'Parque Patricios',\n",
       " 'Parque Rivadavia',\n",
       " 'Pasco',\n",
       " 'Pasteur',\n",
       " 'Pedro Echague',\n",
       " 'Peron y F. Acuña de Figueroa',\n",
       " 'Plaza Almagro',\n",
       " 'Plaza Boedo',\n",
       " 'Plaza Primero de Mayo',\n",
       " 'Pque. Jose Evaristo Uriburu',\n",
       " 'Pueyrredón',\n",
       " 'Quintino Bocayuva',\n",
       " 'Ravignani',\n",
       " 'Rincón',\n",
       " 'Roseti',\n",
       " 'Saavedra',\n",
       " 'Salcedo',\n",
       " 'Sarandí',\n",
       " 'Senillosa',\n",
       " 'Senillosa y Zuviria',\n",
       " 'Sánchez de Bustamante',\n",
       " 'Treinta y tres orientales',\n",
       " 'Urquiza',\n",
       " 'Velasco',\n",
       " 'Villarroel',\n",
       " 'Virrey Liniers',\n",
       " 'Yatay',\n",
       " 'San Luis y Ecuador',\n",
       " 'Santos Dumont y Otero']"
      ]
     },
     "execution_count": 66,
     "metadata": {},
     "output_type": "execute_result"
    }
   ],
   "source": [
    "# balvanera\n",
    "# boedo\n",
    "# san cristobal\n",
    "# parque patricios\n",
    "nodes_cluster1"
   ]
  },
  {
   "cell_type": "code",
   "execution_count": 67,
   "metadata": {},
   "outputs": [
    {
     "data": {
      "text/plain": [
       "['Acuña de Figueroa',\n",
       " 'Agüero',\n",
       " 'Araoz',\n",
       " 'Arenales y Aguero',\n",
       " 'Armenia',\n",
       " 'Armenia y Gorriti',\n",
       " 'Austria y French',\n",
       " 'Billinghurst',\n",
       " 'Billinghurst y Mansilla',\n",
       " 'Castillo',\n",
       " 'Cementerio de la Recoleta',\n",
       " 'Coronel Díaz',\n",
       " 'Costa Rica',\n",
       " 'Distrito Audiovisual',\n",
       " 'Ecoparque',\n",
       " 'Ecuador',\n",
       " 'Emilio Mitre',\n",
       " 'F. J. Santamaría de Oro',\n",
       " 'Facultad de Derecho',\n",
       " 'Facultad de Medicina',\n",
       " 'Fitz Roy y Gorriti',\n",
       " 'Godoy Cruz y Libertador',\n",
       " 'Guatemala',\n",
       " 'Gutierrez',\n",
       " 'Hospital Alemán',\n",
       " 'Hospital Rivadavia',\n",
       " 'Julián Álvarez',\n",
       " 'Juncal',\n",
       " 'Malabia',\n",
       " 'Malba',\n",
       " 'Ministro Carranza',\n",
       " 'Nicaragua',\n",
       " 'Pacífico',\n",
       " 'Parque Las Heras',\n",
       " 'Peña',\n",
       " 'Planetario',\n",
       " 'Plaza Alemania',\n",
       " 'Plaza Güemes',\n",
       " 'Plaza Italia',\n",
       " 'Plaza Monseñor Miguel De Andrea',\n",
       " 'Plaza Palermo Viejo',\n",
       " 'Plaza Vicente López',\n",
       " 'Posadas',\n",
       " 'Ravignani y Guatemala',\n",
       " 'Riobamba',\n",
       " 'Ugarteche',\n",
       " 'Cabello']"
      ]
     },
     "execution_count": 67,
     "metadata": {},
     "output_type": "execute_result"
    }
   ],
   "source": [
    "# palermo\n",
    "# barrio norte\n",
    "# recoleta\n",
    "nodes_cluster2"
   ]
  },
  {
   "cell_type": "code",
   "execution_count": 69,
   "metadata": {},
   "outputs": [],
   "source": [
    "#from networkx.algorithms.community import greedy_modularity_communities\n",
    "#c = list(greedy_modularity_communities(b18))"
   ]
  },
  {
   "cell_type": "code",
   "execution_count": 71,
   "metadata": {},
   "outputs": [],
   "source": [
    "#sorted(c[0])"
   ]
  },
  {
   "cell_type": "code",
   "execution_count": null,
   "metadata": {
    "collapsed": true
   },
   "outputs": [],
   "source": []
  },
  {
   "cell_type": "code",
   "execution_count": null,
   "metadata": {
    "collapsed": true
   },
   "outputs": [],
   "source": []
  },
  {
   "cell_type": "code",
   "execution_count": null,
   "metadata": {
    "collapsed": true
   },
   "outputs": [],
   "source": []
  },
  {
   "cell_type": "code",
   "execution_count": null,
   "metadata": {
    "collapsed": true
   },
   "outputs": [],
   "source": []
  }
 ],
 "metadata": {
  "kernelspec": {
   "display_name": "Python 3",
   "language": "python",
   "name": "python3"
  },
  "language_info": {
   "codemirror_mode": {
    "name": "ipython",
    "version": 3
   },
   "file_extension": ".py",
   "mimetype": "text/x-python",
   "name": "python",
   "nbconvert_exporter": "python",
   "pygments_lexer": "ipython3",
   "version": "3.6.6"
  }
 },
 "nbformat": 4,
 "nbformat_minor": 2
}
