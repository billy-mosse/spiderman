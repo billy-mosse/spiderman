{
 "cells": [
  {
   "cell_type": "code",
   "execution_count": 1,
   "metadata": {},
   "outputs": [],
   "source": [
    "# importar libreria\n",
    "import networkx as nx\n",
    "import matplotlib.pyplot as plt"
   ]
  },
  {
   "cell_type": "code",
   "execution_count": 2,
   "metadata": {},
   "outputs": [],
   "source": [
    "# se crea el grapho: este es no direccionado\n",
    "G = nx.Graph()"
   ]
  },
  {
   "cell_type": "code",
   "execution_count": 3,
   "metadata": {},
   "outputs": [],
   "source": [
    "# se agregan nodos al grapho\n",
    "G.add_nodes_from([1,2,3])"
   ]
  },
  {
   "cell_type": "code",
   "execution_count": 4,
   "metadata": {},
   "outputs": [
    {
     "data": {
      "text/plain": [
       "NodeView((1, 2, 3))"
      ]
     },
     "execution_count": 4,
     "metadata": {},
     "output_type": "execute_result"
    }
   ],
   "source": [
    "# devuelve una lista de nodos\n",
    "G.nodes()"
   ]
  },
  {
   "cell_type": "code",
   "execution_count": 5,
   "metadata": {},
   "outputs": [],
   "source": [
    "# se agregan los ejes\n",
    "G.add_edge(1,2)\n",
    "G.add_edge(3,2)"
   ]
  },
  {
   "cell_type": "code",
   "execution_count": 6,
   "metadata": {},
   "outputs": [
    {
     "data": {
      "text/plain": [
       "EdgeView([(1, 2), (2, 3)])"
      ]
     },
     "execution_count": 6,
     "metadata": {},
     "output_type": "execute_result"
    }
   ],
   "source": [
    "# devuelve una lista de tuplas con los nodos conectados por el eje\n",
    "G.edges()"
   ]
  },
  {
   "cell_type": "code",
   "execution_count": 7,
   "metadata": {},
   "outputs": [],
   "source": [
    "# se agrega al nodo 1 una label key con el valor blue (es como agregarle un valor a la key de un diccionario)\n",
    "G.node[1]['label'] = 'blue'"
   ]
  },
  {
   "cell_type": "code",
   "execution_count": 8,
   "metadata": {},
   "outputs": [
    {
     "data": {
      "text/plain": [
       "NodeDataView({1: {'label': 'blue'}, 2: {}, 3: {}})"
      ]
     },
     "execution_count": 8,
     "metadata": {},
     "output_type": "execute_result"
    }
   ],
   "source": [
    "# obtener una lista de nodos con la metadata asociada: devuelve un diccionario donde la key es el nodo. \n",
    "# despues esta la metadata en otro diccionario donde la llave es la etiqueta y despues esta el valor\n",
    "G.nodes(data=True)"
   ]
  },
  {
   "cell_type": "code",
   "execution_count": 9,
   "metadata": {},
   "outputs": [
    {
     "data": {
      "text/plain": [
       "{'label': 'blue'}"
      ]
     },
     "execution_count": 9,
     "metadata": {},
     "output_type": "execute_result"
    }
   ],
   "source": [
    "list(G.nodes(data=True))[0][1]"
   ]
  },
  {
   "cell_type": "code",
   "execution_count": 10,
   "metadata": {},
   "outputs": [
    {
     "data": {
      "image/png": "[encoded data removed]",
      "text/plain": [
       "<Figure size 432x288 with 1 Axes>"
      ]
     },
     "metadata": {},
     "output_type": "display_data"
    }
   ],
   "source": [
    "# Draw function\n",
    "nx.draw(G)\n",
    "plt.show()"
   ]
  },
  {
   "cell_type": "code",
   "execution_count": 11,
   "metadata": {},
   "outputs": [],
   "source": [
    "# Agregamos la misma key al resto de los nodos con algun valor\n",
    "G.node[2]['label'] = 'red'"
   ]
  },
  {
   "cell_type": "code",
   "execution_count": 12,
   "metadata": {},
   "outputs": [],
   "source": [
    "G.node[3]['label'] = 'gren'"
   ]
  },
  {
   "cell_type": "code",
   "execution_count": 13,
   "metadata": {},
   "outputs": [
    {
     "data": {
      "text/plain": [
       "NodeDataView({1: {'label': 'blue'}, 2: {'label': 'red'}, 3: {'label': 'gren'}})"
      ]
     },
     "execution_count": 13,
     "metadata": {},
     "output_type": "execute_result"
    }
   ],
   "source": [
    "G.nodes(data=True)"
   ]
  },
  {
   "cell_type": "code",
   "execution_count": 14,
   "metadata": {},
   "outputs": [
    {
     "data": {
      "text/plain": [
       "[2]"
      ]
     },
     "execution_count": 14,
     "metadata": {},
     "output_type": "execute_result"
    }
   ],
   "source": [
    "# Filtramos por condicion (usando una list por comprension). Para eso se accede al diccionario de la metadata via \"key\"\n",
    "[n for n,d in G.nodes(data=True) if d['label'] == 'red']"
   ]
  },
  {
   "cell_type": "code",
   "execution_count": 15,
   "metadata": {},
   "outputs": [],
   "source": [
    "# Se agrega una key:value a los edge. Para acceder se usa una lista con los nodos que une el edge\n",
    "G.edges[1,2]['condicion']=78\n",
    "G.edges[3,2]['condicion']=92"
   ]
  },
  {
   "cell_type": "code",
   "execution_count": 16,
   "metadata": {},
   "outputs": [
    {
     "data": {
      "text/plain": [
       "[(2, 3)]"
      ]
     },
     "execution_count": 16,
     "metadata": {},
     "output_type": "execute_result"
    }
   ],
   "source": [
    "# ejemplo de como filtrar con listas por comprension atributos de un edge\n",
    "[(u,v) for u,v,d in G.edges(data=True) if d['condicion'] > 90]"
   ]
  },
  {
   "cell_type": "code",
   "execution_count": 17,
   "metadata": {},
   "outputs": [
    {
     "data": {
      "text/plain": [
       "networkx.classes.graph.Graph"
      ]
     },
     "execution_count": 17,
     "metadata": {},
     "output_type": "execute_result"
    }
   ],
   "source": [
    "# Grafo no direccionado\n",
    "type(G)"
   ]
  },
  {
   "cell_type": "code",
   "execution_count": 18,
   "metadata": {},
   "outputs": [
    {
     "data": {
      "text/plain": [
       "networkx.classes.digraph.DiGraph"
      ]
     },
     "execution_count": 18,
     "metadata": {},
     "output_type": "execute_result"
    }
   ],
   "source": [
    "# Grafo direccionado\n",
    "D = nx.DiGraph()\n",
    "type(D)"
   ]
  },
  {
   "cell_type": "code",
   "execution_count": 19,
   "metadata": {},
   "outputs": [
    {
     "data": {
      "text/plain": [
       "networkx.classes.multigraph.MultiGraph"
      ]
     },
     "execution_count": 19,
     "metadata": {},
     "output_type": "execute_result"
    }
   ],
   "source": [
    "# Multi-edge (Directed) graphs \n",
    "M = nx.MultiGraph()\n",
    "type(M)"
   ]
  },
  {
   "cell_type": "code",
   "execution_count": 20,
   "metadata": {},
   "outputs": [
    {
     "data": {
      "text/plain": [
       "networkx.classes.multidigraph.MultiDiGraph"
      ]
     },
     "execution_count": 20,
     "metadata": {},
     "output_type": "execute_result"
    }
   ],
   "source": [
    "MD = nx.MultiDiGraph()\n",
    "type(MD)"
   ]
  },
  {
   "cell_type": "code",
   "execution_count": 21,
   "metadata": {},
   "outputs": [],
   "source": [
    "# WEIGHTS\n",
    "# Setear el peso de un edge\n",
    "G.edges[1,2]['weight'] = 2"
   ]
  },
  {
   "cell_type": "code",
   "execution_count": 22,
   "metadata": {},
   "outputs": [],
   "source": [
    "# Iterar sobre la metadata de todos los ejes\n",
    "for u,v,d in G.edges(data=True):\n",
    "    \n",
    "    # Check if node 3 is involved:\n",
    "    if 3 in [u,v]:\n",
    "        \n",
    "        # Cambiarle el valor del peso\n",
    "        d['weight'] = 1.1"
   ]
  },
  {
   "cell_type": "code",
   "execution_count": 23,
   "metadata": {},
   "outputs": [],
   "source": [
    "# Como encontrar self loops?\n",
    "\n",
    "def find_selfloop_node(G):\n",
    "    '''\n",
    "    Finds all nodes that have self-loops in the graph G\n",
    "    '''\n",
    "    \n",
    "    nodes_in_selfloops = []\n",
    "    \n",
    "    # Iterar sobre todos los ejes de G\n",
    "    for u,v in G.edges():\n",
    "        \n",
    "        # Chequear si el nodo u y el nodo v son iguales:\n",
    "        if u == v:\n",
    "            nodes_in_selfloops.append(u)\n",
    "            \n",
    "    return nodes_in_selfloops"
   ]
  },
  {
   "cell_type": "code",
   "execution_count": 24,
   "metadata": {},
   "outputs": [
    {
     "data": {
      "text/plain": [
       "0"
      ]
     },
     "execution_count": 24,
     "metadata": {},
     "output_type": "execute_result"
    }
   ],
   "source": [
    "# No hay ningun selfloop\n",
    "len(find_selfloop_node(G))"
   ]
  },
  {
   "cell_type": "code",
   "execution_count": 25,
   "metadata": {},
   "outputs": [],
   "source": [
    "# No devuelve error porque esta ok\n",
    "assert G.number_of_selfloops() == len(find_selfloop_node(G))"
   ]
  },
  {
   "cell_type": "markdown",
   "metadata": {},
   "source": [
    "# GRAFICOS: Arcplot, Matrix plot y Circle plot"
   ]
  },
  {
   "cell_type": "code",
   "execution_count": 26,
   "metadata": {},
   "outputs": [],
   "source": [
    "import nxviz as nv"
   ]
  },
  {
   "cell_type": "code",
   "execution_count": 27,
   "metadata": {},
   "outputs": [],
   "source": [
    "# Verficiar que este nxviz en el directorio\n",
    "#! conda list"
   ]
  },
  {
   "cell_type": "markdown",
   "metadata": {},
   "source": [
    "##### ARCPLOT "
   ]
  },
  {
   "cell_type": "code",
   "execution_count": 28,
   "metadata": {},
   "outputs": [
    {
     "data": {
      "image/png": "[encoded data removed]",
      "text/plain": [
       "<Figure size 432x432 with 1 Axes>"
      ]
     },
     "metadata": {},
     "output_type": "display_data"
    }
   ],
   "source": [
    "# Arcplot\n",
    "from nxviz import ArcPlot\n",
    "ap = nv.ArcPlot(G)\n",
    "\n",
    "# Draw m to the screen\n",
    "ap.draw()\n",
    "\n",
    "# Display the plot\n",
    "plt.show()"
   ]
  },
  {
   "cell_type": "code",
   "execution_count": 29,
   "metadata": {},
   "outputs": [
    {
     "data": {
      "image/png": "[encoded data removed]",
      "text/plain": [
       "<Figure size 432x432 with 1 Axes>"
      ]
     },
     "metadata": {},
     "output_type": "display_data"
    },
    {
     "data": {
      "image/png": "[encoded data removed]",
      "text/plain": [
       "<Figure size 432x432 with 1 Axes>"
      ]
     },
     "metadata": {},
     "output_type": "display_data"
    }
   ],
   "source": [
    "# Import necessary modules\n",
    "from nxviz import ArcPlot\n",
    "\n",
    "# Create the un-customized ArcPlot object: a\n",
    "a = ArcPlot(G)\n",
    "\n",
    "# Draw a to the screen\n",
    "a.draw()\n",
    "\n",
    "# Display the plot\n",
    "plt.show()\n",
    "\n",
    "# Create the customized ArcPlot object: a2\n",
    "a2 = ArcPlot(G, node_order='label', node_color='label')\n",
    "\n",
    "# Draw a2 to the screen\n",
    "a2.draw()\n",
    "\n",
    "# Display the plot\n",
    "plt.show()"
   ]
  },
  {
   "cell_type": "code",
   "execution_count": 104,
   "metadata": {},
   "outputs": [
    {
     "data": {
      "image/png": "[encoded data removed]",
      "text/plain": [
       "<Figure size 432x432 with 1 Axes>"
      ]
     },
     "metadata": {},
     "output_type": "display_data"
    }
   ],
   "source": [
    "from nxviz.plots import ArcPlot\n",
    "\n",
    "# Iterate over all the nodes in G, including the metadata\n",
    "\n",
    "# Probar mismo Arcplot con el grafo Q que se crea al final de la notebook. Es para ver otro tipo de Arcplot y que no estalle.\n",
    "for n, d in G.nodes(data=True):\n",
    "\n",
    "    # Calculate the degree of each node: G.node[n]['degree']\n",
    "    G.node[n]['degree'] = nx.degree(G,n)\n",
    "\n",
    "# Create the ArcPlot object: a\n",
    "a = ArcPlot(graph=G, node_order='degree')\n",
    "\n",
    "# Draw the ArcPlot to the screen\n",
    "a.draw()\n",
    "plt.show()"
   ]
  },
  {
   "cell_type": "markdown",
   "metadata": {},
   "source": [
    "#### MATRIXPLOT "
   ]
  },
  {
   "cell_type": "code",
   "execution_count": 30,
   "metadata": {},
   "outputs": [
    {
     "data": {
      "image/png": "[encoded data removed]",
      "text/plain": [
       "<Figure size 432x432 with 1 Axes>"
      ]
     },
     "metadata": {},
     "output_type": "display_data"
    }
   ],
   "source": [
    "# Matrixplot \n",
    "m = nv.MatrixPlot(G)\n",
    "\n",
    "# Draw m to the screen\n",
    "m.draw()\n",
    "\n",
    "# Display the plot\n",
    "plt.show()"
   ]
  },
  {
   "cell_type": "code",
   "execution_count": 31,
   "metadata": {},
   "outputs": [],
   "source": [
    "# Convertimos a G en una matriz (1 indica si hay edge entre nodos)\n",
    "A = nx.to_numpy_matrix(G)"
   ]
  },
  {
   "cell_type": "code",
   "execution_count": 32,
   "metadata": {},
   "outputs": [
    {
     "data": {
      "text/plain": [
       "matrix([[0. , 2. , 0. ],\n",
       "        [2. , 0. , 1.1],\n",
       "        [0. , 1.1, 0. ]])"
      ]
     },
     "execution_count": 32,
     "metadata": {},
     "output_type": "execute_result"
    }
   ],
   "source": [
    "A"
   ]
  },
  {
   "cell_type": "code",
   "execution_count": 33,
   "metadata": {},
   "outputs": [],
   "source": [
    "# Convertimos a G de nuevo al formtato NetworkX como un grafo dirigido: A_conv\n",
    "A_conv = nx.from_numpy_matrix(A, create_using=nx.DiGraph())"
   ]
  },
  {
   "cell_type": "code",
   "execution_count": 34,
   "metadata": {},
   "outputs": [
    {
     "data": {
      "text/plain": [
       "<networkx.classes.digraph.DiGraph at 0x2271aecf710>"
      ]
     },
     "execution_count": 34,
     "metadata": {},
     "output_type": "execute_result"
    }
   ],
   "source": [
    "A_conv"
   ]
  },
  {
   "cell_type": "code",
   "execution_count": 35,
   "metadata": {},
   "outputs": [],
   "source": [
    "# Check that the `category` metadata field is lost from each node\n",
    "for n, d in A_conv.nodes(data=True):\n",
    "    assert 'category' not in d.keys()"
   ]
  },
  {
   "cell_type": "code",
   "execution_count": 36,
   "metadata": {},
   "outputs": [
    {
     "data": {
      "image/png": "[encoded data removed]",
      "text/plain": [
       "<Figure size 432x432 with 1 Axes>"
      ]
     },
     "metadata": {},
     "output_type": "display_data"
    }
   ],
   "source": [
    "Ac = nv.MatrixPlot(A_conv)\n",
    "Ac.draw()\n",
    "plt.show()"
   ]
  },
  {
   "cell_type": "code",
   "execution_count": 97,
   "metadata": {},
   "outputs": [
    {
     "data": {
      "image/png": "[encoded data removed]",
      "text/plain": [
       "<Figure size 432x432 with 1 Axes>"
      ]
     },
     "metadata": {},
     "output_type": "display_data"
    }
   ],
   "source": [
    "from nxviz import MatrixPlot\n",
    "\n",
    "# Calculate the largest connected component subgraph: largest_ccs. Python's \n",
    "# built-in sorted() function takes an iterable and returns a sorted list (in ascending order, by default). \n",
    "# Therefore, to access the largest connected component subgraph, the statement is sliced with [-1]\n",
    "largest_ccs = sorted(nx.connected_component_subgraphs(G), key=lambda x: len(x))[-1]\n",
    "\n",
    "# Probar misma matriz con el grafo Q que se crea al final de la notebook. Es para ver otro tipo de matrixplot.\n",
    "\n",
    "# Create the customized MatrixPlot object: h\n",
    "h = MatrixPlot(graph=largest_ccs) # Tambien se pueden incluir otros parametros como node_grouping = 'grouping'\n",
    "\n",
    "# Draw the MatrixPlot to the screen\n",
    "h.draw()\n",
    "plt.show()"
   ]
  },
  {
   "cell_type": "markdown",
   "metadata": {},
   "source": [
    "##### CIRCOSPLOT "
   ]
  },
  {
   "cell_type": "code",
   "execution_count": 37,
   "metadata": {},
   "outputs": [
    {
     "data": {
      "image/png": "[encoded data removed]",
      "text/plain": [
       "<Figure size 432x432 with 1 Axes>"
      ]
     },
     "metadata": {},
     "output_type": "display_data"
    }
   ],
   "source": [
    "# Circos plot\n",
    "from nxviz import CircosPlot \n",
    "c = CircosPlot(G)\n",
    "\n",
    "# Draw c to the screen\n",
    "c.draw()\n",
    "\n",
    "# Display the plot\n",
    "plt.show()"
   ]
  },
  {
   "cell_type": "code",
   "execution_count": 78,
   "metadata": {},
   "outputs": [
    {
     "data": {
      "image/png": "[encoded data removed]",
      "text/plain": [
       "<Figure size 432x432 with 1 Axes>"
      ]
     },
     "metadata": {},
     "output_type": "display_data"
    }
   ],
   "source": [
    "U = nx.erdos_renyi_graph(n=20,p=0.3)\n",
    "\n",
    "circ = nv.CircosPlot(U)\n",
    "\n",
    "circ.draw()"
   ]
  },
  {
   "cell_type": "code",
   "execution_count": 81,
   "metadata": {},
   "outputs": [],
   "source": [
    "#U = nx.erdos_renyi_graph(n=20,p=0.3)\n",
    "\n",
    "# Con parametros para estilizar el grafo\n",
    "#circ = nv.CircosPlot(U, node_color='key_a_definir', node_group='key_a_definir')\n",
    "\n",
    "#circ.draw()"
   ]
  },
  {
   "cell_type": "code",
   "execution_count": 108,
   "metadata": {},
   "outputs": [
    {
     "data": {
      "image/png": "[encoded data removed]",
      "text/plain": [
       "<Figure size 432x432 with 1 Axes>"
      ]
     },
     "metadata": {},
     "output_type": "display_data"
    }
   ],
   "source": [
    "from nxviz import CircosPlot\n",
    "\n",
    "# Iterate over all the nodes, including the metadata\n",
    "\n",
    "# Probar mismo Arcplot con el grafo Q que se crea al final de la notebook. Es para que no estalle.\n",
    "for n, d in G.nodes(data=True):\n",
    "\n",
    "    # Calculate the degree of each node: G.node[n]['degree']\n",
    "    G.node[n]['degree'] = nx.degree(G,n)\n",
    "\n",
    "# Create the CircosPlot object: c\n",
    "c = CircosPlot(G,node_order='degree')#,node_grouping='grouping',node_color='grouping')\n",
    "\n",
    "# Draw the CircosPlot object to the screen\n",
    "c.draw()\n",
    "plt.show()"
   ]
  },
  {
   "cell_type": "markdown",
   "metadata": {},
   "source": [
    "# METRICAS IMPORTANTES\n",
    "\n",
    "## 1) Degree centrality"
   ]
  },
  {
   "cell_type": "code",
   "execution_count": 38,
   "metadata": {},
   "outputs": [
    {
     "data": {
      "text/plain": [
       "EdgeView([(1, 2), (2, 3)])"
      ]
     },
     "execution_count": 38,
     "metadata": {},
     "output_type": "execute_result"
    }
   ],
   "source": [
    "# Degree centrality: la cantidad de vecinos que tengo sobre la cantidad que podria tener\n",
    "G.edges()"
   ]
  },
  {
   "cell_type": "code",
   "execution_count": 39,
   "metadata": {},
   "outputs": [
    {
     "data": {
      "text/plain": [
       "[1, 3]"
      ]
     },
     "execution_count": 39,
     "metadata": {},
     "output_type": "execute_result"
    }
   ],
   "source": [
    "# devuelve los nodos vecinos del especificado en el metodo\n",
    "list(G.neighbors(2))"
   ]
  },
  {
   "cell_type": "code",
   "execution_count": 40,
   "metadata": {},
   "outputs": [
    {
     "data": {
      "text/plain": [
       "{1: 0.5, 2: 1.0, 3: 0.5}"
      ]
     },
     "execution_count": 40,
     "metadata": {},
     "output_type": "execute_result"
    }
   ],
   "source": [
    "# The key is the node and the value the centrality value\n",
    "nx.degree_centrality(G)"
   ]
  },
  {
   "cell_type": "code",
   "execution_count": 41,
   "metadata": {},
   "outputs": [
    {
     "name": "stdout",
     "output_type": "stream",
     "text": [
      "{1, 3}\n"
     ]
    }
   ],
   "source": [
    "# Funcion para obtener nodos segun la cantidad de vecinos\n",
    "def nodes_with_m_nbrs(G, m):\n",
    "    \"\"\"\n",
    "    Returns all nodes in graph G that have m neighbors.\n",
    "    \"\"\"\n",
    "    nodes = set()\n",
    "\n",
    "    # Iterate over all nodes in G\n",
    "    for n in G.nodes():\n",
    "\n",
    "        # Check if the number of neighbors of n matches m\n",
    "        if len(list(G.neighbors(n))) == m:\n",
    "\n",
    "            # Add the node n to the set\n",
    "            nodes.add(n)\n",
    "\n",
    "    # Return the nodes with m neighbors\n",
    "    return nodes\n",
    "\n",
    "# Compute and print all nodes in T that have 6 neighbors\n",
    "six_nbrs = nodes_with_m_nbrs(G, 1)\n",
    "print(six_nbrs)"
   ]
  },
  {
   "cell_type": "code",
   "execution_count": 42,
   "metadata": {},
   "outputs": [
    {
     "name": "stdout",
     "output_type": "stream",
     "text": [
      "[1, 2, 1]\n"
     ]
    }
   ],
   "source": [
    "# Compute the degree of every node: degrees\n",
    "degrees = [len(list(G.neighbors(n))) for n in G.nodes()]\n",
    "\n",
    "# Print the degrees\n",
    "print(degrees)"
   ]
  },
  {
   "cell_type": "code",
   "execution_count": 43,
   "metadata": {},
   "outputs": [],
   "source": [
    "# Devuelve un diccionario donde la key es el nodo y el valor es el degree centrality (Neighbors/possible neighbors). En una red de transporte el nodo mismo es considerado como un self loop que entra en los nodos posibles\n",
    "deg_cent = nx.degree_centrality(G)"
   ]
  },
  {
   "cell_type": "code",
   "execution_count": 44,
   "metadata": {},
   "outputs": [
    {
     "data": {
      "image/png": "[encoded data removed]",
      "text/plain": [
       "<Figure size 432x288 with 1 Axes>"
      ]
     },
     "metadata": {},
     "output_type": "display_data"
    }
   ],
   "source": [
    "# Devuelve un histograma con la distribucion del degree centrality\n",
    "plt.hist(list(deg_cent.values()));"
   ]
  },
  {
   "cell_type": "code",
   "execution_count": 45,
   "metadata": {},
   "outputs": [
    {
     "data": {
      "text/plain": [
       "(array([2., 0., 0., 0., 0., 0., 0., 0., 0., 1.]),\n",
       " array([1. , 1.1, 1.2, 1.3, 1.4, 1.5, 1.6, 1.7, 1.8, 1.9, 2. ]),\n",
       " <a list of 10 Patch objects>)"
      ]
     },
     "execution_count": 45,
     "metadata": {},
     "output_type": "execute_result"
    },
    {
     "data": {
      "image/png": "[encoded data removed]",
      "text/plain": [
       "<Figure size 432x288 with 1 Axes>"
      ]
     },
     "metadata": {},
     "output_type": "display_data"
    }
   ],
   "source": [
    "# Plot a histogram of the degree distribution of the graph\n",
    "plt.hist([len(list(G.neighbors(n))) for n in G.nodes()])"
   ]
  },
  {
   "cell_type": "code",
   "execution_count": 46,
   "metadata": {},
   "outputs": [
    {
     "data": {
      "image/png": "[encoded data removed]",
      "text/plain": [
       "<Figure size 432x288 with 1 Axes>"
      ]
     },
     "metadata": {},
     "output_type": "display_data"
    }
   ],
   "source": [
    "# Plot a scatter plot of the centrality distribution and the degree distribution\n",
    "plt.figure()\n",
    "plt.scatter(x=degrees, y=list(deg_cent.values()))\n",
    "plt.show()"
   ]
  },
  {
   "cell_type": "code",
   "execution_count": 47,
   "metadata": {},
   "outputs": [
    {
     "data": {
      "text/plain": [
       "NodeView((1, 2, 3))"
      ]
     },
     "execution_count": 47,
     "metadata": {},
     "output_type": "execute_result"
    }
   ],
   "source": [
    "G.nodes()"
   ]
  },
  {
   "cell_type": "code",
   "execution_count": 48,
   "metadata": {},
   "outputs": [],
   "source": [
    "# Define path_exists()\n",
    "def path_exists(G, node1, node2):\n",
    "    \"\"\"\n",
    "    This function checks whether a path exists between two nodes (node1, node2) in graph G.\n",
    "    \"\"\"\n",
    "    visited_nodes = set()\n",
    "\n",
    "    # Initialize the queue of cells to visit with the first node: queue\n",
    "    queue = [node1]\n",
    "\n",
    "    # Iterate over the nodes in the queue\n",
    "    for node in queue:\n",
    "\n",
    "        # Get neighbors of the node\n",
    "        neighbors = G.neighbors(node)\n",
    "\n",
    "        # Check to see if the destination node is in the set of neighbors\n",
    "        if node2 in neighbors:\n",
    "            print('Path exists between nodes {0} and {1}'.format(node1, node2))\n",
    "            return True\n",
    "            \n",
    "        else:\n",
    "            # Add current node to visited nodes\n",
    "            visited_nodes.add(node)\n",
    "\n",
    "            # Add neighbors of current node that have not yet been visited\n",
    "            queue.extend([n for n in neighbors if n not in visited_nodes])\n",
    "            print('Path doesn\\'t exists between nodes {0} and {1}'.format(node1, node2))\n",
    "            return visited_nodes\n",
    "        \n",
    "        # Check to see if the final element of the queue has been reached\n",
    "        if node == queue[-1]:\n",
    "            print('Path does not exist between nodes {0} and {1}'.format(node1, node2))\n",
    "\n",
    "            # Place the appropriate return statement\n",
    "            return False"
   ]
  },
  {
   "cell_type": "code",
   "execution_count": 49,
   "metadata": {},
   "outputs": [
    {
     "name": "stdout",
     "output_type": "stream",
     "text": [
      "Path doesn't exists between nodes 3 and 1\n",
      "{3}\n"
     ]
    }
   ],
   "source": [
    "print(path_exists(G,3,1))"
   ]
  },
  {
   "cell_type": "code",
   "execution_count": 114,
   "metadata": {},
   "outputs": [
    {
     "name": "stdout",
     "output_type": "stream",
     "text": [
      "[1]\n"
     ]
    }
   ],
   "source": [
    "# Devolver el nodo con mayor degree centrality\n",
    "\n",
    "# Compute the degree centralities of G: deg_cent\n",
    "deg_cent = nx.degree_centrality(G)\n",
    "\n",
    "# Compute the maximum degree centrality: max_dc\n",
    "max_dc = max(deg_cent.values())\n",
    "\n",
    "# Find the user(s) that have collaborated the most: prolific_collaborators\n",
    "prolific_collaborators = [n for n, dc in deg_cent.items() if n == max_dc]\n",
    "\n",
    "# Print the most prolific collaborator(s)\n",
    "print(prolific_collaborators)"
   ]
  },
  {
   "cell_type": "markdown",
   "metadata": {},
   "source": [
    "## 2) Degree + Betweenes centrality "
   ]
  },
  {
   "cell_type": "code",
   "execution_count": 50,
   "metadata": {},
   "outputs": [
    {
     "data": {
      "text/plain": [
       "{1: 0.0, 2: 1.0, 3: 0.0}"
      ]
     },
     "execution_count": 50,
     "metadata": {},
     "output_type": "execute_result"
    }
   ],
   "source": [
    "# Betweeness centrality\n",
    "# M1 es el numero de nodos en el extremo final y m2 la cantidad de nodos en el puente entre ambos\n",
    "Q = nx.barbell_graph(m1=5, m2=1)\n",
    "\n",
    "# La key es el nodo y el valr es el betweenness centrality\n",
    "nx.betweenness_centrality(G)"
   ]
  },
  {
   "cell_type": "code",
   "execution_count": 51,
   "metadata": {},
   "outputs": [
    {
     "data": {
      "image/png": "[encoded data removed]",
      "text/plain": [
       "<Figure size 432x288 with 1 Axes>"
      ]
     },
     "metadata": {},
     "output_type": "display_data"
    }
   ],
   "source": [
    "# Compute the betweenness centrality of G: bet_cen\n",
    "bet_cen = nx.betweenness_centrality(Q)\n",
    "\n",
    "# Compute the degree centrality of G: deg_cen\n",
    "deg_cen = nx.degree_centrality(Q)\n",
    "\n",
    "# Create a scatter plot of betweenness centrality and degree centrality\n",
    "plt.scatter(x=list(bet_cen.values()), y=list(deg_cen.values()))\n",
    "\n",
    "# Display the plot\n",
    "plt.show()"
   ]
  },
  {
   "cell_type": "code",
   "execution_count": 52,
   "metadata": {},
   "outputs": [
    {
     "name": "stdout",
     "output_type": "stream",
     "text": [
      "{4, 6}\n"
     ]
    }
   ],
   "source": [
    "# Define find_nodes_with_highest_deg_cent()\n",
    "def find_nodes_with_highest_deg_cent(G):\n",
    "\n",
    "    # Compute the degree centrality of G: deg_cent\n",
    "    deg_cent = nx.degree_centrality(G)\n",
    "\n",
    "    # Compute the maximum degree centrality: max_dc\n",
    "    max_dc = max(list(deg_cent.values()))\n",
    "\n",
    "    nodes = set()\n",
    "\n",
    "    # Iterate over the degree centrality dictionary\n",
    "    for k, v in deg_cent.items():\n",
    "\n",
    "        # Check if the current value has the maximum degree centrality\n",
    "        if v == max_dc:\n",
    "\n",
    "            # Add the current node to the set of nodes\n",
    "            nodes.add(k)\n",
    "\n",
    "    return nodes\n",
    "\n",
    "# Find the node(s) that has the highest degree centrality in G: top_dc\n",
    "top_dc = find_nodes_with_highest_deg_cent(Q)\n",
    "print(top_dc)\n",
    "\n",
    "# Write the assertion statement\n",
    "for node in top_dc:\n",
    "    assert nx.degree_centrality(Q)[node] == max(nx.degree_centrality(Q).values())"
   ]
  },
  {
   "cell_type": "markdown",
   "metadata": {},
   "source": [
    "#### CON ESTA FUNCION SE PODRIA ENCONTAR EL NODO CON MAYOR BETWEENNESS CENTARLITY EN TODA LA RED DE BICIS "
   ]
  },
  {
   "cell_type": "code",
   "execution_count": 53,
   "metadata": {},
   "outputs": [],
   "source": [
    "# Define find_node_with_highest_bet_cent()\n",
    "def find_node_with_highest_bet_cent(G):\n",
    "\n",
    "    # Compute betweenness centrality: bet_cent\n",
    "    bet_cent = nx.betweenness_centrality(G)\n",
    "\n",
    "    # Compute maximum betweenness centrality: max_bc\n",
    "    max_bc = max(list(bet_cent.values()))\n",
    "\n",
    "    nodes = set()\n",
    "\n",
    "    # Iterate over the betweenness centrality dictionary\n",
    "    for k, v in bet_cent.items():\n",
    "\n",
    "        # Check if the current value has the maximum betweenness centrality\n",
    "        if v == max_bc:\n",
    "\n",
    "            # Add the current node to the set of nodes\n",
    "            nodes.add(k)\n",
    "\n",
    "    return nodes\n",
    "\n",
    "# Use that function to find the node(s) that has the highest betweenness centrality in the network: top_bc\n",
    "top_bc = find_node_with_highest_bet_cent(Q)\n",
    "\n",
    "# Write an assertion statement that checks that the node(s) is/are correctly identified.\n",
    "for node in top_bc:\n",
    "    assert nx.betweenness_centrality(Q)[node] == max(nx.betweenness_centrality(Q).values())"
   ]
  },
  {
   "cell_type": "markdown",
   "metadata": {},
   "source": [
    "# PATH FINDING"
   ]
  },
  {
   "cell_type": "markdown",
   "metadata": {},
   "source": [
    "## 1) Triangulos "
   ]
  },
  {
   "cell_type": "code",
   "execution_count": 54,
   "metadata": {},
   "outputs": [],
   "source": [
    "from itertools import combinations"
   ]
  },
  {
   "cell_type": "code",
   "execution_count": 55,
   "metadata": {},
   "outputs": [
    {
     "name": "stdout",
     "output_type": "stream",
     "text": [
      "0 1\n",
      "0 2\n",
      "0 3\n",
      "0 4\n",
      "0 6\n",
      "0 7\n",
      "0 8\n",
      "0 9\n",
      "0 10\n",
      "0 5\n",
      "1 2\n",
      "1 3\n",
      "1 4\n",
      "1 6\n",
      "1 7\n",
      "1 8\n",
      "1 9\n",
      "1 10\n",
      "1 5\n",
      "2 3\n",
      "2 4\n",
      "2 6\n",
      "2 7\n",
      "2 8\n",
      "2 9\n",
      "2 10\n",
      "2 5\n",
      "3 4\n",
      "3 6\n",
      "3 7\n",
      "3 8\n",
      "3 9\n",
      "3 10\n",
      "3 5\n",
      "4 6\n",
      "4 7\n",
      "4 8\n",
      "4 9\n",
      "4 10\n",
      "4 5\n",
      "6 7\n",
      "6 8\n",
      "6 9\n",
      "6 10\n",
      "6 5\n",
      "7 8\n",
      "7 9\n",
      "7 10\n",
      "7 5\n",
      "8 9\n",
      "8 10\n",
      "8 5\n",
      "9 10\n",
      "9 5\n",
      "10 5\n"
     ]
    }
   ],
   "source": [
    "# Iterar sobre every pair of nodes and not only every edge\n",
    "for n1, n2 in combinations(Q.nodes(),2):\n",
    "    print(n1,n2)"
   ]
  },
  {
   "cell_type": "code",
   "execution_count": 56,
   "metadata": {},
   "outputs": [],
   "source": [
    "# Define is_in_triangle(): podria servir para encontrar cliques entre las estaciones\n",
    "def is_in_triangle(G, n):\n",
    "    \"\"\"\n",
    "    Checks whether a node `n` in graph `G` is in a triangle relationship or not.\n",
    "\n",
    "    Returns a boolean.\n",
    "    \"\"\"\n",
    "    in_triangle = False\n",
    "\n",
    "    # Iterate over all possible triangle relationship combinations\n",
    "    for n1, n2 in combinations(G.neighbors(n),2):\n",
    "\n",
    "        # Check if an edge exists between n1 and n2\n",
    "        if G.has_edge(n1,n2):\n",
    "            in_triangle = True\n",
    "            break\n",
    "    return in_triangle"
   ]
  },
  {
   "cell_type": "code",
   "execution_count": 57,
   "metadata": {},
   "outputs": [
    {
     "data": {
      "text/plain": [
       "True"
      ]
     },
     "execution_count": 57,
     "metadata": {},
     "output_type": "execute_result"
    }
   ],
   "source": [
    "is_in_triangle(Q,2)"
   ]
  },
  {
   "cell_type": "code",
   "execution_count": 58,
   "metadata": {},
   "outputs": [],
   "source": [
    "#Finding nodes involved in triangles\n",
    "\n",
    "# Write a function that identifies all nodes in a triangle relationship with a given node.\n",
    "def nodes_in_triangle(G, n):\n",
    "    \"\"\"\n",
    "    Returns the nodes in a graph `G` that are involved in a triangle relationship with the node `n`.\n",
    "    \"\"\"\n",
    "    triangle_nodes = set([n])\n",
    "\n",
    "    # Iterate over all possible triangle relationship combinations\n",
    "    for n1, n2 in combinations(G.neighbors(n), 2):\n",
    "\n",
    "        # Check if n1 and n2 have an edge between them\n",
    "        if G.has_edge(n1,n2):\n",
    "\n",
    "            # Add n1 to triangle_nodes\n",
    "            triangle_nodes.add(n1)\n",
    "\n",
    "            # Add n2 to triangle_nodes\n",
    "            triangle_nodes.add(n2)\n",
    "\n",
    "    return triangle_nodes\n",
    "\n",
    "# Write the assertion statement\n",
    "assert len(nodes_in_triangle(Q, 1)) == 5"
   ]
  },
  {
   "cell_type": "code",
   "execution_count": 59,
   "metadata": {},
   "outputs": [
    {
     "name": "stdout",
     "output_type": "stream",
     "text": [
      "3\n"
     ]
    }
   ],
   "source": [
    "#Finding open triangles\n",
    "\n",
    "# Define node_in_open_triangle(G,n)\n",
    "def node_in_open_triangle(G, n):\n",
    "    \"\"\"\n",
    "    Checks whether pairs of neighbors of node `n` in graph `G` are in an 'open triangle' relationship with node `n`.\n",
    "    \"\"\"\n",
    "    in_open_triangle = False\n",
    "\n",
    "    # Iterate over all possible triangle relationship combinations\n",
    "    for n1, n2 in combinations(G.neighbors(n),2):\n",
    "\n",
    "        # Check if n1 and n2 do NOT have an edge between them\n",
    "        if not G.has_edge(n1,n2):\n",
    "\n",
    "            in_open_triangle = True\n",
    "\n",
    "            break\n",
    "\n",
    "    return in_open_triangle\n",
    "\n",
    "# Compute the number of open triangles in T\n",
    "num_open_triangles = 0\n",
    "\n",
    "# Iterate over all the nodes in T\n",
    "for n in Q.nodes():\n",
    "\n",
    "    # Check if the current node is in an open triangle\n",
    "    if node_in_open_triangle(Q,n):\n",
    "\n",
    "        # Increment num_open_triangles\n",
    "        num_open_triangles += 1\n",
    "\n",
    "print(num_open_triangles)"
   ]
  },
  {
   "cell_type": "markdown",
   "metadata": {},
   "source": [
    "## 2) Cliques y maximal cliques "
   ]
  },
  {
   "cell_type": "raw",
   "metadata": {},
   "source": [
    "Cliques: A group of nodes that are fully connected to one another.\n",
    "* Simplest clique: edge\n",
    "* Simplest complex clique: triangle\n",
    "\n",
    "Maximal cliques: A clique that cannot be extended by adding another nodes in the graph"
   ]
  },
  {
   "cell_type": "code",
   "execution_count": 60,
   "metadata": {},
   "outputs": [
    {
     "data": {
      "text/plain": [
       "[[4, 0, 1, 2, 3], [4, 5], [6, 5], [6, 7, 8, 9, 10]]"
      ]
     },
     "execution_count": 60,
     "metadata": {},
     "output_type": "execute_result"
    }
   ],
   "source": [
    "# Finding maximal cliques\n",
    "Z = nx.barbell_graph(m1=5, m2=1)\n",
    "\n",
    "nx.find_cliques(Z)\n",
    "\n",
    "# Lista con los maximal cliques\n",
    "list(nx.find_cliques(Z))"
   ]
  },
  {
   "cell_type": "code",
   "execution_count": 61,
   "metadata": {},
   "outputs": [
    {
     "data": {
      "text/plain": [
       "<generator object find_cliques at 0x000002271B0EBDB0>"
      ]
     },
     "execution_count": 61,
     "metadata": {},
     "output_type": "execute_result"
    }
   ],
   "source": [
    "nx.find_cliques(Z)"
   ]
  },
  {
   "cell_type": "code",
   "execution_count": 62,
   "metadata": {},
   "outputs": [
    {
     "ename": "AssertionError",
     "evalue": "",
     "output_type": "error",
     "traceback": [
      "\u001b[1;31m---------------------------------------------------------------------------\u001b[0m",
      "\u001b[1;31mAssertionError\u001b[0m                            Traceback (most recent call last)",
      "\u001b[1;32m<ipython-input-62-e70461a20339>\u001b[0m in \u001b[0;36m<module>\u001b[1;34m()\u001b[0m\n\u001b[0;32m     13\u001b[0m \u001b[1;33m\u001b[0m\u001b[0m\n\u001b[0;32m     14\u001b[0m \u001b[1;31m# Check that there are 33 maximal cliques of size 3 in the graph T\u001b[0m\u001b[1;33m\u001b[0m\u001b[1;33m\u001b[0m\u001b[0m\n\u001b[1;32m---> 15\u001b[1;33m \u001b[1;32massert\u001b[0m \u001b[0mlen\u001b[0m\u001b[1;33m(\u001b[0m\u001b[0mmaximal_cliques\u001b[0m\u001b[1;33m(\u001b[0m\u001b[0mZ\u001b[0m\u001b[1;33m,\u001b[0m \u001b[1;36m3\u001b[0m\u001b[1;33m)\u001b[0m\u001b[1;33m)\u001b[0m \u001b[1;33m==\u001b[0m \u001b[1;36m33\u001b[0m\u001b[1;33m\u001b[0m\u001b[0m\n\u001b[0m",
      "\u001b[1;31mAssertionError\u001b[0m: "
     ]
    }
   ],
   "source": [
    "#Finding all maximal cliques of size \"n\"\n",
    "\n",
    "# Define maximal_cliques()\n",
    "def maximal_cliques(G, size):\n",
    "    \"\"\"\n",
    "    Finds all maximal cliques in graph `G` that are of size `size`.\n",
    "    \"\"\"\n",
    "    mcs = []\n",
    "    for clique in nx.find_cliques(G):\n",
    "        if len(clique) == size:\n",
    "            mcs.append(clique)\n",
    "    return mcs\n",
    "\n",
    "# Check that there are 33 maximal cliques of size 3 in the graph T\n",
    "assert len(maximal_cliques(Z, 3)) == 33"
   ]
  },
  {
   "cell_type": "code",
   "execution_count": 63,
   "metadata": {},
   "outputs": [
    {
     "data": {
      "text/plain": [
       "[[4, 0, 1, 2, 3], [6, 7, 8, 9, 10]]"
      ]
     },
     "execution_count": 63,
     "metadata": {},
     "output_type": "execute_result"
    }
   ],
   "source": [
    "# En el grafo Z hay dos maximal cliques de 5 nodos\n",
    "maximal_cliques(Z, 5)"
   ]
  },
  {
   "cell_type": "code",
   "execution_count": 64,
   "metadata": {},
   "outputs": [],
   "source": [
    "# n es la cantidad de nodos y p la probabilidad que exista un eje entre un par de nodos\n",
    "E = nx.erdos_renyi_graph(n=20, p=0.2)"
   ]
  },
  {
   "cell_type": "code",
   "execution_count": 65,
   "metadata": {},
   "outputs": [
    {
     "data": {
      "image/png": "[encoded data removed]",
      "text/plain": [
       "<Figure size 432x288 with 1 Axes>"
      ]
     },
     "metadata": {},
     "output_type": "display_data"
    }
   ],
   "source": [
    "nx.draw(E)"
   ]
  },
  {
   "cell_type": "code",
   "execution_count": 66,
   "metadata": {},
   "outputs": [
    {
     "data": {
      "text/plain": [
       "[0, 1, 2, 3, 4, 5, 6, 7, 8, 9, 10, 11, 12, 13, 14, 15, 16, 17, 18, 19]"
      ]
     },
     "execution_count": 66,
     "metadata": {},
     "output_type": "execute_result"
    }
   ],
   "source": [
    "# Genera un grafo de manera probabilistica. En el caso anterior, 20 nodos con 37 edges\n",
    "list(E.nodes())"
   ]
  },
  {
   "cell_type": "code",
   "execution_count": 67,
   "metadata": {},
   "outputs": [],
   "source": [
    "# Vamos a plotear el nodo 8 y sus vecinos\n",
    "\n",
    "# Definimos los vecinos del nodo 8\n",
    "nodes = list(E.neighbors(8))\n",
    "\n",
    "# se agregan el nodo 8 a la lista con sus vecinos\n",
    "nodes.append(8)"
   ]
  },
  {
   "cell_type": "code",
   "execution_count": 68,
   "metadata": {},
   "outputs": [
    {
     "data": {
      "text/plain": [
       "EdgeView([(3, 8), (3, 12), (8, 12), (8, 14), (8, 17)])"
      ]
     },
     "execution_count": 68,
     "metadata": {},
     "output_type": "execute_result"
    }
   ],
   "source": [
    "# Almacenamos la lista conteniendo el nodo 8 con sus vecinos en un subgrafo\n",
    "E_ocho = E.subgraph(nodes)\n",
    "\n",
    "# Vemos sus ejes: tambien devuelve los ejes que tienen los vecinos de 8 (con otros nodos distintos)\n",
    "E_ocho.edges()"
   ]
  },
  {
   "cell_type": "code",
   "execution_count": 69,
   "metadata": {},
   "outputs": [
    {
     "data": {
      "text/plain": [
       "<networkx.classes.graph.Graph at 0x2271b075c88>"
      ]
     },
     "execution_count": 69,
     "metadata": {},
     "output_type": "execute_result"
    }
   ],
   "source": [
    "# Ambos grafos tienen el mismo datatype\n",
    "E"
   ]
  },
  {
   "cell_type": "code",
   "execution_count": 70,
   "metadata": {},
   "outputs": [
    {
     "data": {
      "text/plain": [
       "<networkx.classes.graph.Graph at 0x2271b247b70>"
      ]
     },
     "execution_count": 70,
     "metadata": {},
     "output_type": "execute_result"
    }
   ],
   "source": [
    "E_ocho"
   ]
  },
  {
   "cell_type": "code",
   "execution_count": 71,
   "metadata": {},
   "outputs": [
    {
     "data": {
      "image/png": "[encoded data removed]",
      "text/plain": [
       "<Figure size 432x288 with 1 Axes>"
      ]
     },
     "metadata": {},
     "output_type": "display_data"
    }
   ],
   "source": [
    "# ploteamos el subgrafo: se le pasa el grafo como objeto\n",
    "nx.draw(E_ocho, with_labels=True)"
   ]
  },
  {
   "cell_type": "code",
   "execution_count": 72,
   "metadata": {},
   "outputs": [
    {
     "data": {
      "image/png": "[encoded data removed]",
      "text/plain": [
       "<Figure size 432x288 with 1 Axes>"
      ]
     },
     "metadata": {},
     "output_type": "display_data"
    }
   ],
   "source": [
    "# SUBGRAFO I\n",
    "\n",
    "nodes_of_interest = [12, 8, 7]\n",
    "\n",
    "# Define get_nodes_and_nbrs()\n",
    "\n",
    "def get_nodes_and_nbrs(G, nodes_of_interest):\n",
    "    \"\"\"\n",
    "    Returns a subgraph of the graph `G` with only the `nodes_of_interest` and their neighbors.\n",
    "    \"\"\"\n",
    "    nodes_to_draw = []\n",
    "\n",
    "    # Iterate over the nodes of interest\n",
    "    for n in nodes_of_interest:\n",
    "\n",
    "        # Append the nodes of interest to nodes_to_draw\n",
    "        nodes_to_draw.append(n)\n",
    "\n",
    "        # Iterate over all the neighbors of node n\n",
    "        for nbr in G.neighbors(n):\n",
    "\n",
    "            # Append the neighbors of n to nodes_to_draw\n",
    "            nodes_to_draw.append(nbr)\n",
    "\n",
    "    return G.subgraph(nodes_to_draw)\n",
    "\n",
    "# Extract the subgraph with the nodes of interest: E_draw\n",
    "E_draw = get_nodes_and_nbrs(E, nodes_of_interest)\n",
    "\n",
    "# Draw the subgraph to the screen\n",
    "nx.draw(E_draw)\n",
    "plt.show()"
   ]
  },
  {
   "cell_type": "code",
   "execution_count": 76,
   "metadata": {},
   "outputs": [
    {
     "data": {
      "image/png": "[encoded data removed]",
      "text/plain": [
       "<Figure size 432x288 with 1 Axes>"
      ]
     },
     "metadata": {},
     "output_type": "display_data"
    }
   ],
   "source": [
    "# SUBGRAFO II: extract nodes that have a particular metadata property and their neighbors\n",
    "\n",
    "# Extract the nodes of interest using the metadata with a comprehension list\n",
    "nodes = [n for n, d in G.nodes(data=True) if d['label'] == 'red']\n",
    "\n",
    "# Create the set of nodes: nodeset\n",
    "nodeset = set(nodes)\n",
    "\n",
    "# Iterate over nodes\n",
    "for n in nodes:\n",
    "\n",
    "    # Compute the neighbors of n: nbrs\n",
    "    nbrs = G.neighbors(n)\n",
    "\n",
    "    # Compute the union of nodeset and nbrs: nodeset\n",
    "    nodeset = nodeset.union(nbrs)\n",
    "\n",
    "# Compute the subgraph using nodeset: G_sub\n",
    "G_sub = G.subgraph(nodeset)\n",
    "\n",
    "# Draw T_sub to the screen\n",
    "nx.draw(G_sub)\n",
    "plt.show()"
   ]
  },
  {
   "cell_type": "code",
   "execution_count": 82,
   "metadata": {},
   "outputs": [],
   "source": [
    "# CONNECTED COMPONENTS SUBGRAPH\n",
    "\n",
    "# Se crea el grafo\n",
    "K = nx.erdos_renyi_graph(n=100,p=0.03)"
   ]
  },
  {
   "cell_type": "code",
   "execution_count": 84,
   "metadata": {},
   "outputs": [
    {
     "data": {
      "text/plain": [
       "<generator object connected_component_subgraphs at 0x000002271C36BC50>"
      ]
     },
     "execution_count": 84,
     "metadata": {},
     "output_type": "execute_result"
    }
   ],
   "source": [
    "nx.connected_component_subgraphs(K)"
   ]
  },
  {
   "cell_type": "code",
   "execution_count": 85,
   "metadata": {},
   "outputs": [
    {
     "data": {
      "text/plain": [
       "[<networkx.classes.graph.Graph at 0x2271c447a58>,\n",
       " <networkx.classes.graph.Graph at 0x2271c447a90>,\n",
       " <networkx.classes.graph.Graph at 0x2271c447978>,\n",
       " <networkx.classes.graph.Graph at 0x2271c447a20>,\n",
       " <networkx.classes.graph.Graph at 0x2271c447ac8>]"
      ]
     },
     "execution_count": 85,
     "metadata": {},
     "output_type": "execute_result"
    }
   ],
   "source": [
    "# lo casteamos como lista para ver todos los \"connected_component_subgraphs\": hay cinco subgrafos\n",
    "list(nx.connected_component_subgraphs(K))"
   ]
  },
  {
   "cell_type": "code",
   "execution_count": 86,
   "metadata": {},
   "outputs": [
    {
     "name": "stdout",
     "output_type": "stream",
     "text": [
      "96\n",
      "1\n",
      "1\n",
      "1\n",
      "1\n"
     ]
    }
   ],
   "source": [
    "# Hay 5 componentes en el subgraph. De esos componentes, a 4 no se podria acceder desde ninguno de los nodos del componente con 96. Es decir, estan aislados. No estan conectados por ningun edge\n",
    "for n in list(nx.connected_component_subgraphs(K)):\n",
    "    print(len(n.nodes()))"
   ]
  },
  {
   "cell_type": "code",
   "execution_count": 87,
   "metadata": {},
   "outputs": [
    {
     "data": {
      "image/png": "[encoded data removed]",
      "text/plain": [
       "<Figure size 432x288 with 1 Axes>"
      ]
     },
     "metadata": {},
     "output_type": "display_data"
    }
   ],
   "source": [
    "nx.draw(K)"
   ]
  },
  {
   "cell_type": "code",
   "execution_count": 109,
   "metadata": {},
   "outputs": [
    {
     "data": {
      "text/plain": [
       "<generator object find_cliques at 0x000002271B2330F8>"
      ]
     },
     "execution_count": 109,
     "metadata": {},
     "output_type": "execute_result"
    }
   ],
   "source": [
    "# Finding a clique\n",
    "Y = nx.erdos_renyi_graph(n=100, p=0.15)\n",
    "\n",
    "nx.find_cliques(Y)"
   ]
  },
  {
   "cell_type": "code",
   "execution_count": 110,
   "metadata": {},
   "outputs": [
    {
     "data": {
      "text/plain": [
       "[[0, 99, 71],\n",
       " [0, 99, 55],\n",
       " [0, 72, 97],\n",
       " [0, 10],\n",
       " [0, 78],\n",
       " [0, 19],\n",
       " [0, 24, 96, 12],\n",
       " [0, 24, 97],\n",
       " [0, 92],\n",
       " [1, 35, 32, 15],\n",
       " [1, 35, 10],\n",
       " [1, 35, 63],\n",
       " [1, 5, 45],\n",
       " [1, 5, 47],\n",
       " [1, 40, 56],\n",
       " [1, 40, 45],\n",
       " [1, 40, 94, 15],\n",
       " [1, 10, 11],\n",
       " [1, 11, 61],\n",
       " [1, 11, 15],\n",
       " [1, 15, 54],\n",
       " [1, 16, 56],\n",
       " [1, 79, 53],\n",
       " [1, 84, 56],\n",
       " [1, 84, 88],\n",
       " [1, 53, 98],\n",
       " [1, 54, 47, 88, 57],\n",
       " [1, 54, 63],\n",
       " [1, 24, 45],\n",
       " [1, 57, 56],\n",
       " [1, 56, 61],\n",
       " [1, 92, 32],\n",
       " [1, 92, 61, 98],\n",
       " [1, 92, 61, 69],\n",
       " [1, 92, 61, 45],\n",
       " [1, 92, 94, 47],\n",
       " [1, 63, 94],\n",
       " [2, 33],\n",
       " [2, 98, 21],\n",
       " [2, 99, 80],\n",
       " [2, 99, 25],\n",
       " [2, 99, 34],\n",
       " [2, 99, 75],\n",
       " [2, 7, 25],\n",
       " [2, 7, 74],\n",
       " [2, 75, 64],\n",
       " [2, 75, 48],\n",
       " [2, 75, 90],\n",
       " [2, 48, 94],\n",
       " [2, 80, 74],\n",
       " [2, 21, 34],\n",
       " [2, 21, 74],\n",
       " [2, 88, 64, 54],\n",
       " [2, 88, 34],\n",
       " [2, 88, 74],\n",
       " [2, 88, 87],\n",
       " [2, 91, 64],\n",
       " [2, 91, 87],\n",
       " [3, 65, 27],\n",
       " [3, 65, 21],\n",
       " [3, 65, 39],\n",
       " [3, 5, 29],\n",
       " [3, 5, 66],\n",
       " [3, 5, 21],\n",
       " [3, 5, 45, 49],\n",
       " [3, 39, 10],\n",
       " [3, 39, 91],\n",
       " [3, 39, 29],\n",
       " [3, 14, 51],\n",
       " [3, 14, 91],\n",
       " [3, 14, 21],\n",
       " [3, 78, 21],\n",
       " [3, 78, 90],\n",
       " [3, 78, 27],\n",
       " [3, 78, 29],\n",
       " [3, 49, 10],\n",
       " [3, 49, 86],\n",
       " [3, 19, 91],\n",
       " [3, 20, 10],\n",
       " [3, 51, 45],\n",
       " [3, 58, 66],\n",
       " [3, 58, 10],\n",
       " [3, 58, 45],\n",
       " [3, 58, 86],\n",
       " [3, 58, 90],\n",
       " [3, 58, 27],\n",
       " [3, 91, 86],\n",
       " [4, 64, 82],\n",
       " [4, 64, 52],\n",
       " [4, 7, 40, 60],\n",
       " [4, 7, 19],\n",
       " [4, 7, 92],\n",
       " [4, 73, 16],\n",
       " [4, 73, 90],\n",
       " [4, 73, 19],\n",
       " [4, 12, 60],\n",
       " [4, 16, 52],\n",
       " [4, 16, 93],\n",
       " [4, 21],\n",
       " [4, 86, 60],\n",
       " [6, 96, 27],\n",
       " [6, 33, 60],\n",
       " [6, 98, 68],\n",
       " [6, 99],\n",
       " [6, 37],\n",
       " [6, 76],\n",
       " [6, 78, 27],\n",
       " [6, 78, 68],\n",
       " [6, 78, 31],\n",
       " [6, 60, 83],\n",
       " [6, 18, 28],\n",
       " [6, 18, 31],\n",
       " [6, 26],\n",
       " [7, 69, 20],\n",
       " [7, 69, 92],\n",
       " [7, 41, 47],\n",
       " [7, 43, 92, 47],\n",
       " [7, 43, 23],\n",
       " [7, 46],\n",
       " [7, 47, 74],\n",
       " [7, 92, 51],\n",
       " [7, 19, 23],\n",
       " [7, 20, 84],\n",
       " [7, 51, 74],\n",
       " [7, 53, 74],\n",
       " [7, 25, 58],\n",
       " [7, 25, 23],\n",
       " [7, 60, 56, 40],\n",
       " [7, 60, 56, 58],\n",
       " [7, 60, 56, 84],\n",
       " [7, 60, 74, 23],\n",
       " [8, 97, 72],\n",
       " [8, 97, 56],\n",
       " [8, 34, 88],\n",
       " [8, 34, 17],\n",
       " [8, 34, 93, 72],\n",
       " [8, 34, 93, 16],\n",
       " [8, 98, 17, 13],\n",
       " [8, 98, 42],\n",
       " [8, 42, 16, 56],\n",
       " [8, 42, 16, 93],\n",
       " [8, 11],\n",
       " [8, 75, 83],\n",
       " [8, 13, 56],\n",
       " [8, 13, 19],\n",
       " [8, 45, 17],\n",
       " [8, 45, 30],\n",
       " [8, 45, 55],\n",
       " [8, 83, 72],\n",
       " [8, 87, 72],\n",
       " [8, 87, 88],\n",
       " [8, 55, 88],\n",
       " [8, 55, 93],\n",
       " [9, 68, 11],\n",
       " [9, 38, 53],\n",
       " [9, 41, 94],\n",
       " [9, 10, 58],\n",
       " [9, 10, 11],\n",
       " [9, 10, 87],\n",
       " [9, 45, 58],\n",
       " [9, 15, 11],\n",
       " [9, 15, 94],\n",
       " [9, 84, 56],\n",
       " [9, 56, 58],\n",
       " [12, 96, 20],\n",
       " [12, 96, 61],\n",
       " [12, 67, 68, 61],\n",
       " [12, 67, 60, 84],\n",
       " [12, 37],\n",
       " [12, 80],\n",
       " [12, 81, 68],\n",
       " [12, 20, 84],\n",
       " [12, 24, 60],\n",
       " [12, 58, 60],\n",
       " [13, 32, 17],\n",
       " [13, 98, 21],\n",
       " [13, 98, 61, 17],\n",
       " [13, 98, 53],\n",
       " [13, 98, 95],\n",
       " [13, 36, 21],\n",
       " [13, 36, 95],\n",
       " [13, 73, 56],\n",
       " [13, 73, 18],\n",
       " [13, 73, 19],\n",
       " [13, 47, 59],\n",
       " [13, 86, 58, 60],\n",
       " [13, 56, 58, 60],\n",
       " [13, 56, 21],\n",
       " [13, 56, 61],\n",
       " [13, 59, 17],\n",
       " [13, 59, 95],\n",
       " [14, 64, 91],\n",
       " [14, 84],\n",
       " [14, 69],\n",
       " [17, 33, 32],\n",
       " [17, 34, 32],\n",
       " [17, 34, 51],\n",
       " [17, 70],\n",
       " [17, 45, 51],\n",
       " [17, 45, 61],\n",
       " [17, 45, 23],\n",
       " [17, 51, 98],\n",
       " [17, 85],\n",
       " [17, 23, 59],\n",
       " [17, 89, 32],\n",
       " [17, 89, 98],\n",
       " [18, 64, 82, 75],\n",
       " [18, 64, 70],\n",
       " [18, 34, 50],\n",
       " [18, 34, 51],\n",
       " [18, 35, 73],\n",
       " [18, 35, 82],\n",
       " [18, 35, 29],\n",
       " [18, 35, 22],\n",
       " [18, 70, 31],\n",
       " [18, 42],\n",
       " [18, 75, 50],\n",
       " [18, 45, 51],\n",
       " [18, 57],\n",
       " [18, 28, 73],\n",
       " [18, 28, 22],\n",
       " [19, 73, 33],\n",
       " [19, 73, 94],\n",
       " [19, 73, 23],\n",
       " [19, 31],\n",
       " [19, 57, 33],\n",
       " [20, 32],\n",
       " [20, 10, 11],\n",
       " [20, 10, 30],\n",
       " [20, 76, 73, 16],\n",
       " [20, 76, 73, 54],\n",
       " [20, 76, 84],\n",
       " [20, 26],\n",
       " [21, 65, 38],\n",
       " [21, 68, 34],\n",
       " [21, 68, 5],\n",
       " [21, 68, 78],\n",
       " [21, 68, 98],\n",
       " [21, 15],\n",
       " [21, 24, 34],\n",
       " [22, 33, 46, 10],\n",
       " [22, 33, 46, 77],\n",
       " [22, 35, 86],\n",
       " [22, 35, 46, 10],\n",
       " [22, 35, 46, 77],\n",
       " [22, 35, 46, 15],\n",
       " [22, 74],\n",
       " [22, 90, 15],\n",
       " [22, 27],\n",
       " [22, 28, 86],\n",
       " [22, 28, 15],\n",
       " [23, 65],\n",
       " [23, 44, 43],\n",
       " [23, 44, 78],\n",
       " [23, 45, 55],\n",
       " [23, 78, 25],\n",
       " [23, 86, 60],\n",
       " [23, 55, 59],\n",
       " [23, 59, 43],\n",
       " [25, 97],\n",
       " [25, 71, 99],\n",
       " [25, 52, 58],\n",
       " [25, 85],\n",
       " [25, 61],\n",
       " [26, 64, 49],\n",
       " [26, 64, 91],\n",
       " [26, 64, 52],\n",
       " [26, 65, 52],\n",
       " [26, 65, 39],\n",
       " [26, 66, 72],\n",
       " [26, 66, 15],\n",
       " [26, 36, 71],\n",
       " [26, 39, 91],\n",
       " [26, 74, 52],\n",
       " [26, 74, 47],\n",
       " [27, 32, 64],\n",
       " [27, 32, 55],\n",
       " [27, 64, 82],\n",
       " [27, 69, 80],\n",
       " [27, 69, 82],\n",
       " [27, 42],\n",
       " [27, 48, 84],\n",
       " [27, 48, 94],\n",
       " [27, 82, 84],\n",
       " [27, 84, 78],\n",
       " [28, 72, 58],\n",
       " [28, 72, 44],\n",
       " [28, 84],\n",
       " [28, 86, 58],\n",
       " [29, 33, 92],\n",
       " [29, 99],\n",
       " [29, 35, 38],\n",
       " [29, 38, 43],\n",
       " [29, 40, 95],\n",
       " [29, 47, 74],\n",
       " [29, 47, 43, 92],\n",
       " [29, 47, 5],\n",
       " [29, 47, 54],\n",
       " [29, 79],\n",
       " [29, 95, 43],\n",
       " [30, 44, 47],\n",
       " [30, 82],\n",
       " [30, 53],\n",
       " [30, 31],\n",
       " [31, 70, 55],\n",
       " [31, 77],\n",
       " [31, 49],\n",
       " [31, 24],\n",
       " [33, 32, 92],\n",
       " [33, 32, 62],\n",
       " [33, 65, 57],\n",
       " [33, 36],\n",
       " [33, 11, 10],\n",
       " [33, 46, 73],\n",
       " [33, 46, 66, 77],\n",
       " [33, 92, 77],\n",
       " [33, 82],\n",
       " [33, 57, 62],\n",
       " [33, 60, 10],\n",
       " [33, 60, 62],\n",
       " [34, 96, 24],\n",
       " [34, 96, 41],\n",
       " [34, 96, 77],\n",
       " [34, 99, 41],\n",
       " [34, 99, 50, 77],\n",
       " [34, 67, 88, 68],\n",
       " [34, 68, 81],\n",
       " [34, 77, 81],\n",
       " [34, 81, 72],\n",
       " [34, 93, 24],\n",
       " [34, 93, 41, 16],\n",
       " [34, 93, 39],\n",
       " [36, 37, 71],\n",
       " [36, 79],\n",
       " [37, 42],\n",
       " [37, 69, 71],\n",
       " [37, 94, 48],\n",
       " [37, 94, 59],\n",
       " [37, 94, 71],\n",
       " [38, 35, 73],\n",
       " [38, 35, 63],\n",
       " [38, 72],\n",
       " [38, 75, 89],\n",
       " [38, 75, 50],\n",
       " [39, 61],\n",
       " [39, 57, 65],\n",
       " [39, 59],\n",
       " [39, 60, 10],\n",
       " [39, 93, 65],\n",
       " [41, 97],\n",
       " [41, 47, 96],\n",
       " [41, 47, 94],\n",
       " [41, 52, 16],\n",
       " [41, 52, 94],\n",
       " [41, 62],\n",
       " [41, 94, 63],\n",
       " [42, 74, 53],\n",
       " [42, 74, 93],\n",
       " [42, 77],\n",
       " [42, 53, 98],\n",
       " [42, 53, 91],\n",
       " [42, 24, 89],\n",
       " [42, 24, 93],\n",
       " [42, 89, 98],\n",
       " [43, 11, 44],\n",
       " [43, 91],\n",
       " [43, 95, 59],\n",
       " [43, 47, 59],\n",
       " [43, 47, 44],\n",
       " [44, 64, 52],\n",
       " [44, 64, 54],\n",
       " [44, 98],\n",
       " [44, 5, 47],\n",
       " [44, 72, 97],\n",
       " [44, 72, 54],\n",
       " [44, 72, 87],\n",
       " [44, 78, 62],\n",
       " [44, 47, 54],\n",
       " [46, 35, 73],\n",
       " [46, 15, 66],\n",
       " [46, 52],\n",
       " [46, 88],\n",
       " [46, 89],\n",
       " [48, 52, 16, 56],\n",
       " [48, 52, 94],\n",
       " [48, 62],\n",
       " [48, 84, 56],\n",
       " [49, 32, 64, 89],\n",
       " [49, 64, 75, 89],\n",
       " [49, 96, 5],\n",
       " [49, 73],\n",
       " [49, 75, 10],\n",
       " [49, 75, 86, 89],\n",
       " [49, 79, 93],\n",
       " [49, 59],\n",
       " [49, 93, 5],\n",
       " [50, 98],\n",
       " [50, 99, 75],\n",
       " [50, 52, 74],\n",
       " [50, 52, 69],\n",
       " [50, 52, 79],\n",
       " [50, 85, 60],\n",
       " [50, 60, 74],\n",
       " [50, 60, 79],\n",
       " [51, 97],\n",
       " [51, 98, 92],\n",
       " [51, 45, 92],\n",
       " [51, 87],\n",
       " [52, 79, 53],\n",
       " [52, 53, 74],\n",
       " [52, 56, 58],\n",
       " [55, 99, 59],\n",
       " [55, 47, 88],\n",
       " [55, 47, 59],\n",
       " [55, 59, 95],\n",
       " [55, 95, 88],\n",
       " [58, 72, 66],\n",
       " [58, 60, 10],\n",
       " [59, 81, 94],\n",
       " [59, 35, 67],\n",
       " [59, 67, 94],\n",
       " [59, 94, 47],\n",
       " [60, 67, 40],\n",
       " [60, 67, 85],\n",
       " [60, 67, 86],\n",
       " [60, 83, 85],\n",
       " [60, 86, 89],\n",
       " [60, 24, 89],\n",
       " [60, 89, 40],\n",
       " [62, 80, 95],\n",
       " [62, 91],\n",
       " [64, 61],\n",
       " [65, 99],\n",
       " [65, 83],\n",
       " [66, 98, 53],\n",
       " [66, 24],\n",
       " [67, 69, 61],\n",
       " [67, 40, 94],\n",
       " [67, 84, 88],\n",
       " [67, 53, 85],\n",
       " [67, 85, 35],\n",
       " [67, 86, 88],\n",
       " [67, 86, 35],\n",
       " [67, 86, 75],\n",
       " [67, 86, 94],\n",
       " [68, 98, 89],\n",
       " [68, 98, 61],\n",
       " [68, 11, 61],\n",
       " [68, 47, 88],\n",
       " [68, 47, 89],\n",
       " [68, 47, 5],\n",
       " [68, 81, 89],\n",
       " [70, 72],\n",
       " [70, 11],\n",
       " [70, 76],\n",
       " [71, 99, 80],\n",
       " [71, 80, 69],\n",
       " [71, 81, 94],\n",
       " [71, 93],\n",
       " [71, 63, 94],\n",
       " [72, 81, 94],\n",
       " [72, 95, 83],\n",
       " [73, 56, 16],\n",
       " [73, 76, 90],\n",
       " [74, 47, 88],\n",
       " [74, 81],\n",
       " [74, 82],\n",
       " [75, 78, 90],\n",
       " [76, 97, 90, 15],\n",
       " [76, 97, 53],\n",
       " [76, 47, 88, 54],\n",
       " [76, 84, 88],\n",
       " [76, 54, 15],\n",
       " [76, 61],\n",
       " [80, 11, 99],\n",
       " [80, 45],\n",
       " [80, 16, 56],\n",
       " [81, 40, 89],\n",
       " [81, 40, 94],\n",
       " [82, 35, 15],\n",
       " [82, 5],\n",
       " [82, 79],\n",
       " [82, 56, 84],\n",
       " [83, 85, 95],\n",
       " [83, 47],\n",
       " [85, 5],\n",
       " [85, 11],\n",
       " [85, 16],\n",
       " [85, 91, 53],\n",
       " [86, 91, 87],\n",
       " [86, 11],\n",
       " [86, 87, 88],\n",
       " [87, 40],\n",
       " [90, 32, 15],\n",
       " [90, 95],\n",
       " [91, 79, 53],\n",
       " [93, 35],\n",
       " [93, 84],\n",
       " [95, 63],\n",
       " [96, 5, 47],\n",
       " [97, 35, 15],\n",
       " [99, 84]]"
      ]
     },
     "execution_count": 110,
     "metadata": {},
     "output_type": "execute_result"
    }
   ],
   "source": [
    "list(nx.find_cliques(Y))"
   ]
  },
  {
   "cell_type": "code",
   "execution_count": 111,
   "metadata": {},
   "outputs": [
    {
     "name": "stdout",
     "output_type": "stream",
     "text": [
      "3\n",
      "3\n",
      "3\n",
      "2\n",
      "2\n",
      "2\n",
      "4\n",
      "3\n",
      "2\n",
      "4\n",
      "3\n",
      "3\n",
      "3\n",
      "3\n",
      "3\n",
      "3\n",
      "4\n",
      "3\n",
      "3\n",
      "3\n",
      "3\n",
      "3\n",
      "3\n",
      "3\n",
      "3\n",
      "3\n",
      "5\n",
      "3\n",
      "3\n",
      "3\n",
      "3\n",
      "3\n",
      "4\n",
      "4\n",
      "4\n",
      "4\n",
      "3\n",
      "2\n",
      "3\n",
      "3\n",
      "3\n",
      "3\n",
      "3\n",
      "3\n",
      "3\n",
      "3\n",
      "3\n",
      "3\n",
      "3\n",
      "3\n",
      "3\n",
      "3\n",
      "4\n",
      "3\n",
      "3\n",
      "3\n",
      "3\n",
      "3\n",
      "3\n",
      "3\n",
      "3\n",
      "3\n",
      "3\n",
      "3\n",
      "4\n",
      "3\n",
      "3\n",
      "3\n",
      "3\n",
      "3\n",
      "3\n",
      "3\n",
      "3\n",
      "3\n",
      "3\n",
      "3\n",
      "3\n",
      "3\n",
      "3\n",
      "3\n",
      "3\n",
      "3\n",
      "3\n",
      "3\n",
      "3\n",
      "3\n",
      "3\n",
      "3\n",
      "3\n",
      "4\n",
      "3\n",
      "3\n",
      "3\n",
      "3\n",
      "3\n",
      "3\n",
      "3\n",
      "3\n",
      "2\n",
      "3\n",
      "3\n",
      "3\n",
      "3\n",
      "2\n",
      "2\n",
      "2\n",
      "3\n",
      "3\n",
      "3\n",
      "3\n",
      "3\n",
      "3\n",
      "2\n",
      "3\n",
      "3\n",
      "3\n",
      "4\n",
      "3\n",
      "2\n",
      "3\n",
      "3\n",
      "3\n",
      "3\n",
      "3\n",
      "3\n",
      "3\n",
      "3\n",
      "4\n",
      "4\n",
      "4\n",
      "4\n",
      "3\n",
      "3\n",
      "3\n",
      "3\n",
      "4\n",
      "4\n",
      "4\n",
      "3\n",
      "4\n",
      "4\n",
      "2\n",
      "3\n",
      "3\n",
      "3\n",
      "3\n",
      "3\n",
      "3\n",
      "3\n",
      "3\n",
      "3\n",
      "3\n",
      "3\n",
      "3\n",
      "3\n",
      "3\n",
      "3\n",
      "3\n",
      "3\n",
      "3\n",
      "3\n",
      "3\n",
      "3\n",
      "3\n",
      "3\n",
      "3\n",
      "4\n",
      "4\n",
      "2\n",
      "2\n",
      "3\n",
      "3\n",
      "3\n",
      "3\n",
      "3\n",
      "3\n",
      "4\n",
      "3\n",
      "3\n",
      "3\n",
      "3\n",
      "3\n",
      "3\n",
      "3\n",
      "3\n",
      "4\n",
      "4\n",
      "3\n",
      "3\n",
      "3\n",
      "3\n",
      "3\n",
      "2\n",
      "2\n",
      "3\n",
      "3\n",
      "3\n",
      "2\n",
      "3\n",
      "3\n",
      "3\n",
      "3\n",
      "2\n",
      "3\n",
      "3\n",
      "3\n",
      "4\n",
      "3\n",
      "3\n",
      "3\n",
      "3\n",
      "3\n",
      "3\n",
      "3\n",
      "3\n",
      "2\n",
      "3\n",
      "3\n",
      "2\n",
      "3\n",
      "3\n",
      "3\n",
      "3\n",
      "3\n",
      "2\n",
      "3\n",
      "2\n",
      "3\n",
      "3\n",
      "4\n",
      "4\n",
      "3\n",
      "2\n",
      "3\n",
      "3\n",
      "3\n",
      "3\n",
      "3\n",
      "2\n",
      "3\n",
      "4\n",
      "4\n",
      "3\n",
      "4\n",
      "4\n",
      "4\n",
      "2\n",
      "3\n",
      "2\n",
      "3\n",
      "3\n",
      "2\n",
      "3\n",
      "3\n",
      "3\n",
      "3\n",
      "3\n",
      "3\n",
      "3\n",
      "2\n",
      "3\n",
      "3\n",
      "2\n",
      "2\n",
      "3\n",
      "3\n",
      "3\n",
      "3\n",
      "3\n",
      "3\n",
      "3\n",
      "3\n",
      "3\n",
      "3\n",
      "3\n",
      "3\n",
      "3\n",
      "3\n",
      "3\n",
      "3\n",
      "2\n",
      "3\n",
      "3\n",
      "3\n",
      "3\n",
      "3\n",
      "3\n",
      "2\n",
      "3\n",
      "3\n",
      "2\n",
      "3\n",
      "3\n",
      "3\n",
      "3\n",
      "4\n",
      "3\n",
      "3\n",
      "2\n",
      "3\n",
      "3\n",
      "2\n",
      "2\n",
      "2\n",
      "3\n",
      "2\n",
      "2\n",
      "2\n",
      "3\n",
      "3\n",
      "3\n",
      "2\n",
      "3\n",
      "3\n",
      "4\n",
      "3\n",
      "2\n",
      "3\n",
      "3\n",
      "3\n",
      "3\n",
      "3\n",
      "3\n",
      "3\n",
      "4\n",
      "4\n",
      "3\n",
      "3\n",
      "3\n",
      "3\n",
      "4\n",
      "3\n",
      "3\n",
      "2\n",
      "2\n",
      "3\n",
      "3\n",
      "3\n",
      "3\n",
      "3\n",
      "3\n",
      "2\n",
      "3\n",
      "3\n",
      "2\n",
      "3\n",
      "2\n",
      "3\n",
      "3\n",
      "2\n",
      "3\n",
      "3\n",
      "3\n",
      "3\n",
      "2\n",
      "3\n",
      "3\n",
      "3\n",
      "2\n",
      "3\n",
      "3\n",
      "3\n",
      "3\n",
      "3\n",
      "3\n",
      "2\n",
      "3\n",
      "3\n",
      "3\n",
      "3\n",
      "3\n",
      "2\n",
      "3\n",
      "3\n",
      "3\n",
      "3\n",
      "3\n",
      "3\n",
      "3\n",
      "3\n",
      "2\n",
      "2\n",
      "2\n",
      "4\n",
      "3\n",
      "2\n",
      "3\n",
      "4\n",
      "4\n",
      "3\n",
      "2\n",
      "3\n",
      "4\n",
      "3\n",
      "2\n",
      "3\n",
      "2\n",
      "3\n",
      "3\n",
      "3\n",
      "3\n",
      "3\n",
      "3\n",
      "3\n",
      "2\n",
      "3\n",
      "3\n",
      "2\n",
      "3\n",
      "3\n",
      "3\n",
      "3\n",
      "3\n",
      "3\n",
      "3\n",
      "3\n",
      "3\n",
      "3\n",
      "3\n",
      "3\n",
      "3\n",
      "3\n",
      "3\n",
      "3\n",
      "3\n",
      "3\n",
      "3\n",
      "3\n",
      "3\n",
      "3\n",
      "2\n",
      "2\n",
      "2\n",
      "2\n",
      "3\n",
      "2\n",
      "3\n",
      "3\n",
      "3\n",
      "3\n",
      "3\n",
      "3\n",
      "3\n",
      "3\n",
      "3\n",
      "3\n",
      "3\n",
      "3\n",
      "3\n",
      "3\n",
      "3\n",
      "3\n",
      "2\n",
      "2\n",
      "2\n",
      "3\n",
      "3\n",
      "3\n",
      "2\n",
      "3\n",
      "3\n",
      "3\n",
      "3\n",
      "3\n",
      "3\n",
      "2\n",
      "2\n",
      "3\n",
      "4\n",
      "3\n",
      "4\n",
      "3\n",
      "3\n",
      "2\n",
      "3\n",
      "2\n",
      "3\n",
      "3\n",
      "3\n",
      "3\n",
      "2\n",
      "2\n",
      "3\n",
      "3\n",
      "2\n",
      "2\n",
      "2\n",
      "2\n",
      "3\n",
      "3\n",
      "2\n",
      "3\n",
      "2\n",
      "3\n",
      "2\n",
      "3\n",
      "2\n",
      "2\n",
      "2\n",
      "3\n",
      "3\n",
      "2\n"
     ]
    }
   ],
   "source": [
    "for clique in nx.find_cliques(Y):\n",
    "    print(len(clique))"
   ]
  },
  {
   "cell_type": "code",
   "execution_count": 112,
   "metadata": {},
   "outputs": [
    {
     "name": "stdout",
     "output_type": "stream",
     "text": [
      "502\n"
     ]
    }
   ],
   "source": [
    "# Maximal cliques\n",
    "cliques = nx.find_cliques(Y)\n",
    "\n",
    "# Count and print the number of maximal cliques in Y\n",
    "print(len(list(cliques)))"
   ]
  },
  {
   "cell_type": "code",
   "execution_count": 113,
   "metadata": {},
   "outputs": [
    {
     "data": {
      "image/png": "[encoded data removed]",
      "text/plain": [
       "<Figure size 432x432 with 1 Axes>"
      ]
     },
     "metadata": {},
     "output_type": "display_data"
    }
   ],
   "source": [
    "# Finding a particular maximal clique\n",
    "\n",
    "# Find the author(s) that are part of the largest maximal clique: largest_clique\n",
    "largest_clique = sorted(nx.find_cliques(Y), key=lambda x:len(x))[-1]\n",
    "\n",
    "# Create the subgraph of the largest_clique: Y_lc\n",
    "Y_lc = Y.subgraph(largest_clique)\n",
    "\n",
    "# Create the CircosPlot object: c\n",
    "c = CircosPlot(Y_lc)\n",
    "\n",
    "# Draw the CircosPlot to the screen\n",
    "c.draw()\n",
    "plt.show()"
   ]
  },
  {
   "cell_type": "code",
   "execution_count": 116,
   "metadata": {},
   "outputs": [
    {
     "data": {
      "image/png": "[encoded data removed]",
      "text/plain": [
       "<Figure size 432x432 with 1 Axes>"
      ]
     },
     "metadata": {},
     "output_type": "display_data"
    }
   ],
   "source": [
    "# Caracterizar comunidades\n",
    "\n",
    "# Identify the largest maximal clique: largest_max_clique\n",
    "largest_max_clique = set(sorted(nx.find_cliques(Q), key=lambda x: len(x))[-1])\n",
    "\n",
    "# Create a subgraph from the largest_max_clique: Q_lmc\n",
    "Q_lmc = Q.subgraph(largest_max_clique).copy()\n",
    "\n",
    "# Go out 1 degree of separation\n",
    "for node in list(Q_lmc.nodes()):\n",
    "    Q_lmc.add_nodes_from(Q.neighbors(node))\n",
    "    Q_lmc.add_edges_from(zip([node]*len(list(Q.neighbors(node))), Q.neighbors(node)))\n",
    "\n",
    "# Record each node's degree centrality score\n",
    "for n in Q_lmc.nodes():\n",
    "    Q_lmc.node[n]['degree centrality'] = nx.degree_centrality(Q_lmc)[n]\n",
    "\n",
    "# Create the ArcPlot object: a\n",
    "a = ArcPlot(Q_lmc, node_order='degree centrality')\n",
    "\n",
    "# Draw the ArcPlot to the screen\n",
    "a.draw()\n",
    "plt.show()"
   ]
  },
  {
   "cell_type": "code",
   "execution_count": null,
   "metadata": {},
   "outputs": [],
   "source": []
  }
 ],
 "metadata": {
  "kernelspec": {
   "display_name": "py36",
   "language": "python",
   "name": "py36"
  },
  "language_info": {
   "codemirror_mode": {
    "name": "ipython",
    "version": 3
   },
   "file_extension": ".py",
   "mimetype": "text/x-python",
   "name": "python",
   "nbconvert_exporter": "python",
   "pygments_lexer": "ipython3",
   "version": "3.6.5"
  }
 },
 "nbformat": 4,
 "nbformat_minor": 2
}
