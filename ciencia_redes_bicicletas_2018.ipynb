{
 "cells": [
  {
   "cell_type": "code",
   "execution_count": 1,
   "metadata": {},
   "outputs": [
    {
     "name": "stderr",
     "output_type": "stream",
     "text": [
      "/home/human/anaconda3/lib/python3.6/importlib/_bootstrap.py:219: RuntimeWarning: numpy.dtype size changed, may indicate binary incompatibility. Expected 96, got 88\n",
      "  return f(*args, **kwds)\n",
      "/home/human/anaconda3/lib/python3.6/importlib/_bootstrap.py:219: RuntimeWarning: numpy.dtype size changed, may indicate binary incompatibility. Expected 96, got 88\n",
      "  return f(*args, **kwds)\n",
      "/home/human/anaconda3/lib/python3.6/importlib/_bootstrap.py:219: RuntimeWarning: numpy.dtype size changed, may indicate binary incompatibility. Expected 96, got 88\n",
      "  return f(*args, **kwds)\n",
      "/home/human/anaconda3/lib/python3.6/importlib/_bootstrap.py:219: RuntimeWarning: numpy.dtype size changed, may indicate binary incompatibility. Expected 96, got 88\n",
      "  return f(*args, **kwds)\n"
     ]
    }
   ],
   "source": [
    "# importamos las librerías necesarias para trabajar.\n",
    "import numpy as np\n",
    "import pandas as pd\n",
    "import matplotlib.pyplot as plt\n",
    "import seaborn as sns"
   ]
  },
  {
   "cell_type": "code",
   "execution_count": 2,
   "metadata": {},
   "outputs": [
    {
     "data": {
      "text/plain": [
       "'/home/human/Dropbox/clusterai'"
      ]
     },
     "execution_count": 2,
     "metadata": {},
     "output_type": "execute_result"
    }
   ],
   "source": [
    "pwd"
   ]
  },
  {
   "cell_type": "markdown",
   "metadata": {},
   "source": [
    "# Importamos dataset de bicicletas publicas de BA Data, año 2018\n",
    "El dataset en https://data.buenosaires.gob.ar/dataset/bicicletas-publicas."
   ]
  },
  {
   "cell_type": "code",
   "execution_count": 17,
   "metadata": {
    "collapsed": true
   },
   "outputs": [],
   "source": [
    "bicis = pd.read_csv('/home/human/Dropbox/clusterai/recorridos_bicis_2018.csv', delimiter=',', parse_dates = [\"FECHA_HORA_RETIRO\"] , infer_datetime_format = True, dayfirst = True)"
   ]
  },
  {
   "cell_type": "code",
   "execution_count": 18,
   "metadata": {
    "scrolled": true
   },
   "outputs": [
    {
     "data": {
      "text/plain": [
       "(1197368, 9)"
      ]
     },
     "execution_count": 18,
     "metadata": {},
     "output_type": "execute_result"
    }
   ],
   "source": [
    "np.shape(bicis)"
   ]
  },
  {
   "cell_type": "code",
   "execution_count": 19,
   "metadata": {},
   "outputs": [
    {
     "data": {
      "text/html": [
       "<div>\n",
       "<style scoped>\n",
       "    .dataframe tbody tr th:only-of-type {\n",
       "        vertical-align: middle;\n",
       "    }\n",
       "\n",
       "    .dataframe tbody tr th {\n",
       "        vertical-align: top;\n",
       "    }\n",
       "\n",
       "    .dataframe thead th {\n",
       "        text-align: right;\n",
       "    }\n",
       "</style>\n",
       "<table border=\"1\" class=\"dataframe\">\n",
       "  <thead>\n",
       "    <tr style=\"text-align: right;\">\n",
       "      <th></th>\n",
       "      <th>ID_USUARIO</th>\n",
       "      <th>FECHA_HORA_RETIRO</th>\n",
       "      <th>TIEMPO_USO</th>\n",
       "      <th>ORIGEN_ESTACION</th>\n",
       "      <th>NOMBRE_ORIGEN</th>\n",
       "      <th>DESTINO_ESTACION</th>\n",
       "      <th>NOMBRE_DESTINO</th>\n",
       "      <th>SEXO</th>\n",
       "      <th>EDAD</th>\n",
       "    </tr>\n",
       "  </thead>\n",
       "  <tbody>\n",
       "    <tr>\n",
       "      <th>0</th>\n",
       "      <td>493545</td>\n",
       "      <td>2018-01-18 16:42:32</td>\n",
       "      <td>0h 14min 23seg</td>\n",
       "      <td>100</td>\n",
       "      <td>Castillo</td>\n",
       "      <td>100</td>\n",
       "      <td>Castillo</td>\n",
       "      <td>F</td>\n",
       "      <td>16</td>\n",
       "    </tr>\n",
       "    <tr>\n",
       "      <th>1</th>\n",
       "      <td>492620</td>\n",
       "      <td>2018-01-11 19:48:07</td>\n",
       "      <td>0h 38min 12seg</td>\n",
       "      <td>108</td>\n",
       "      <td>Usina del Arte</td>\n",
       "      <td>108</td>\n",
       "      <td>Usina del Arte</td>\n",
       "      <td>F</td>\n",
       "      <td>16</td>\n",
       "    </tr>\n",
       "    <tr>\n",
       "      <th>2</th>\n",
       "      <td>470893</td>\n",
       "      <td>2018-01-02 19:34:43</td>\n",
       "      <td>0h 41min 8seg</td>\n",
       "      <td>110</td>\n",
       "      <td>Guardia Vieja</td>\n",
       "      <td>153</td>\n",
       "      <td>Juan Manuel Blanes</td>\n",
       "      <td>F</td>\n",
       "      <td>16</td>\n",
       "    </tr>\n",
       "    <tr>\n",
       "      <th>3</th>\n",
       "      <td>499307</td>\n",
       "      <td>2018-01-19 14:30:22</td>\n",
       "      <td>0h 58min 49seg</td>\n",
       "      <td>111</td>\n",
       "      <td>Macacha Güemes</td>\n",
       "      <td>111</td>\n",
       "      <td>Macacha Güemes</td>\n",
       "      <td>F</td>\n",
       "      <td>16</td>\n",
       "    </tr>\n",
       "    <tr>\n",
       "      <th>4</th>\n",
       "      <td>500994</td>\n",
       "      <td>2018-01-22 22:58:59</td>\n",
       "      <td>0h 38min 23seg</td>\n",
       "      <td>111</td>\n",
       "      <td>Macacha Güemes</td>\n",
       "      <td>111</td>\n",
       "      <td>Macacha Güemes</td>\n",
       "      <td>F</td>\n",
       "      <td>16</td>\n",
       "    </tr>\n",
       "  </tbody>\n",
       "</table>\n",
       "</div>"
      ],
      "text/plain": [
       "   ID_USUARIO   FECHA_HORA_RETIRO      TIEMPO_USO  ORIGEN_ESTACION  \\\n",
       "0      493545 2018-01-18 16:42:32  0h 14min 23seg              100   \n",
       "1      492620 2018-01-11 19:48:07  0h 38min 12seg              108   \n",
       "2      470893 2018-01-02 19:34:43   0h 41min 8seg              110   \n",
       "3      499307 2018-01-19 14:30:22  0h 58min 49seg              111   \n",
       "4      500994 2018-01-22 22:58:59  0h 38min 23seg              111   \n",
       "\n",
       "     NOMBRE_ORIGEN  DESTINO_ESTACION       NOMBRE_DESTINO SEXO  EDAD  \n",
       "0         Castillo               100             Castillo    F    16  \n",
       "1   Usina del Arte               108       Usina del Arte    F    16  \n",
       "2    Guardia Vieja               153   Juan Manuel Blanes    F    16  \n",
       "3   Macacha Güemes               111       Macacha Güemes    F    16  \n",
       "4   Macacha Güemes               111       Macacha Güemes    F    16  "
      ]
     },
     "execution_count": 19,
     "metadata": {},
     "output_type": "execute_result"
    }
   ],
   "source": [
    "bicis.head()"
   ]
  },
  {
   "cell_type": "markdown",
   "metadata": {},
   "source": [
    "Observamos que podemos acceder a los elementos de la fecha de la columna \"fecha_hora_retiro\" mediante el comando \".dt\" y luego el dato de fecha que querramos acceder. month = mes, day = dia, year = año."
   ]
  },
  {
   "cell_type": "code",
   "execution_count": 20,
   "metadata": {},
   "outputs": [
    {
     "data": {
      "text/plain": [
       "0    1\n",
       "1    1\n",
       "2    1\n",
       "3    1\n",
       "4    1\n",
       "Name: FECHA_HORA_RETIRO, dtype: int64"
      ]
     },
     "execution_count": 20,
     "metadata": {},
     "output_type": "execute_result"
    }
   ],
   "source": [
    "bicis.FECHA_HORA_RETIRO.dt.month.head()"
   ]
  },
  {
   "cell_type": "markdown",
   "metadata": {},
   "source": [
    "# Feature Engineering: creaciòn de features nuevas"
   ]
  },
  {
   "cell_type": "markdown",
   "metadata": {},
   "source": [
    "**Feature \"mes\"**"
   ]
  },
  {
   "cell_type": "code",
   "execution_count": 21,
   "metadata": {
    "collapsed": true
   },
   "outputs": [],
   "source": [
    "bicis[\"mes\"] = bicis.FECHA_HORA_RETIRO.dt.month"
   ]
  },
  {
   "cell_type": "code",
   "execution_count": 22,
   "metadata": {},
   "outputs": [
    {
     "data": {
      "text/plain": [
       "array([1, 1, 1, ..., 6, 6, 6])"
      ]
     },
     "execution_count": 22,
     "metadata": {},
     "output_type": "execute_result"
    }
   ],
   "source": [
    "bicis.mes.values"
   ]
  },
  {
   "cell_type": "markdown",
   "metadata": {},
   "source": [
    "**Feature \"Cant_viajes**:Esto nos puede servir en el futuro para computar cuantos viajes hubo en un periodo de tiempo determinado."
   ]
  },
  {
   "cell_type": "code",
   "execution_count": 23,
   "metadata": {
    "collapsed": true
   },
   "outputs": [],
   "source": [
    "bicis[\"cant_viajes\"] = np.ones((np.shape(bicis)[0],1))"
   ]
  },
  {
   "cell_type": "code",
   "execution_count": 24,
   "metadata": {},
   "outputs": [
    {
     "data": {
      "text/html": [
       "<div>\n",
       "<style scoped>\n",
       "    .dataframe tbody tr th:only-of-type {\n",
       "        vertical-align: middle;\n",
       "    }\n",
       "\n",
       "    .dataframe tbody tr th {\n",
       "        vertical-align: top;\n",
       "    }\n",
       "\n",
       "    .dataframe thead th {\n",
       "        text-align: right;\n",
       "    }\n",
       "</style>\n",
       "<table border=\"1\" class=\"dataframe\">\n",
       "  <thead>\n",
       "    <tr style=\"text-align: right;\">\n",
       "      <th></th>\n",
       "      <th>ID_USUARIO</th>\n",
       "      <th>FECHA_HORA_RETIRO</th>\n",
       "      <th>TIEMPO_USO</th>\n",
       "      <th>ORIGEN_ESTACION</th>\n",
       "      <th>NOMBRE_ORIGEN</th>\n",
       "      <th>DESTINO_ESTACION</th>\n",
       "      <th>NOMBRE_DESTINO</th>\n",
       "      <th>SEXO</th>\n",
       "      <th>EDAD</th>\n",
       "      <th>mes</th>\n",
       "      <th>cant_viajes</th>\n",
       "    </tr>\n",
       "  </thead>\n",
       "  <tbody>\n",
       "    <tr>\n",
       "      <th>0</th>\n",
       "      <td>493545</td>\n",
       "      <td>2018-01-18 16:42:32</td>\n",
       "      <td>0h 14min 23seg</td>\n",
       "      <td>100</td>\n",
       "      <td>Castillo</td>\n",
       "      <td>100</td>\n",
       "      <td>Castillo</td>\n",
       "      <td>F</td>\n",
       "      <td>16</td>\n",
       "      <td>1</td>\n",
       "      <td>1.0</td>\n",
       "    </tr>\n",
       "    <tr>\n",
       "      <th>1</th>\n",
       "      <td>492620</td>\n",
       "      <td>2018-01-11 19:48:07</td>\n",
       "      <td>0h 38min 12seg</td>\n",
       "      <td>108</td>\n",
       "      <td>Usina del Arte</td>\n",
       "      <td>108</td>\n",
       "      <td>Usina del Arte</td>\n",
       "      <td>F</td>\n",
       "      <td>16</td>\n",
       "      <td>1</td>\n",
       "      <td>1.0</td>\n",
       "    </tr>\n",
       "    <tr>\n",
       "      <th>2</th>\n",
       "      <td>470893</td>\n",
       "      <td>2018-01-02 19:34:43</td>\n",
       "      <td>0h 41min 8seg</td>\n",
       "      <td>110</td>\n",
       "      <td>Guardia Vieja</td>\n",
       "      <td>153</td>\n",
       "      <td>Juan Manuel Blanes</td>\n",
       "      <td>F</td>\n",
       "      <td>16</td>\n",
       "      <td>1</td>\n",
       "      <td>1.0</td>\n",
       "    </tr>\n",
       "    <tr>\n",
       "      <th>3</th>\n",
       "      <td>499307</td>\n",
       "      <td>2018-01-19 14:30:22</td>\n",
       "      <td>0h 58min 49seg</td>\n",
       "      <td>111</td>\n",
       "      <td>Macacha Güemes</td>\n",
       "      <td>111</td>\n",
       "      <td>Macacha Güemes</td>\n",
       "      <td>F</td>\n",
       "      <td>16</td>\n",
       "      <td>1</td>\n",
       "      <td>1.0</td>\n",
       "    </tr>\n",
       "    <tr>\n",
       "      <th>4</th>\n",
       "      <td>500994</td>\n",
       "      <td>2018-01-22 22:58:59</td>\n",
       "      <td>0h 38min 23seg</td>\n",
       "      <td>111</td>\n",
       "      <td>Macacha Güemes</td>\n",
       "      <td>111</td>\n",
       "      <td>Macacha Güemes</td>\n",
       "      <td>F</td>\n",
       "      <td>16</td>\n",
       "      <td>1</td>\n",
       "      <td>1.0</td>\n",
       "    </tr>\n",
       "  </tbody>\n",
       "</table>\n",
       "</div>"
      ],
      "text/plain": [
       "   ID_USUARIO   FECHA_HORA_RETIRO      TIEMPO_USO  ORIGEN_ESTACION  \\\n",
       "0      493545 2018-01-18 16:42:32  0h 14min 23seg              100   \n",
       "1      492620 2018-01-11 19:48:07  0h 38min 12seg              108   \n",
       "2      470893 2018-01-02 19:34:43   0h 41min 8seg              110   \n",
       "3      499307 2018-01-19 14:30:22  0h 58min 49seg              111   \n",
       "4      500994 2018-01-22 22:58:59  0h 38min 23seg              111   \n",
       "\n",
       "     NOMBRE_ORIGEN  DESTINO_ESTACION       NOMBRE_DESTINO SEXO  EDAD  mes  \\\n",
       "0         Castillo               100             Castillo    F    16    1   \n",
       "1   Usina del Arte               108       Usina del Arte    F    16    1   \n",
       "2    Guardia Vieja               153   Juan Manuel Blanes    F    16    1   \n",
       "3   Macacha Güemes               111       Macacha Güemes    F    16    1   \n",
       "4   Macacha Güemes               111       Macacha Güemes    F    16    1   \n",
       "\n",
       "   cant_viajes  \n",
       "0          1.0  \n",
       "1          1.0  \n",
       "2          1.0  \n",
       "3          1.0  \n",
       "4          1.0  "
      ]
     },
     "execution_count": 24,
     "metadata": {},
     "output_type": "execute_result"
    }
   ],
   "source": [
    "bicis.head()"
   ]
  },
  {
   "cell_type": "code",
   "execution_count": 25,
   "metadata": {},
   "outputs": [
    {
     "data": {
      "text/plain": [
       "ID_USUARIO           False\n",
       "FECHA_HORA_RETIRO    False\n",
       "TIEMPO_USO           False\n",
       "ORIGEN_ESTACION      False\n",
       "NOMBRE_ORIGEN        False\n",
       "DESTINO_ESTACION     False\n",
       "NOMBRE_DESTINO       False\n",
       "SEXO                 False\n",
       "EDAD                 False\n",
       "mes                  False\n",
       "cant_viajes          False\n",
       "dtype: bool"
      ]
     },
     "execution_count": 25,
     "metadata": {},
     "output_type": "execute_result"
    }
   ],
   "source": [
    "# reviso que no existan NaNs en las columnas del dataframe \"bicis\"\n",
    "bicis.isnull().any()"
   ]
  },
  {
   "cell_type": "code",
   "execution_count": 26,
   "metadata": {
    "collapsed": true
   },
   "outputs": [],
   "source": [
    "sexo = pd.get_dummies(bicis.SEXO)"
   ]
  },
  {
   "cell_type": "code",
   "execution_count": 27,
   "metadata": {},
   "outputs": [
    {
     "data": {
      "text/html": [
       "<div>\n",
       "<style scoped>\n",
       "    .dataframe tbody tr th:only-of-type {\n",
       "        vertical-align: middle;\n",
       "    }\n",
       "\n",
       "    .dataframe tbody tr th {\n",
       "        vertical-align: top;\n",
       "    }\n",
       "\n",
       "    .dataframe thead th {\n",
       "        text-align: right;\n",
       "    }\n",
       "</style>\n",
       "<table border=\"1\" class=\"dataframe\">\n",
       "  <thead>\n",
       "    <tr style=\"text-align: right;\">\n",
       "      <th></th>\n",
       "      <th>F</th>\n",
       "      <th>M</th>\n",
       "    </tr>\n",
       "  </thead>\n",
       "  <tbody>\n",
       "    <tr>\n",
       "      <th>0</th>\n",
       "      <td>1</td>\n",
       "      <td>0</td>\n",
       "    </tr>\n",
       "    <tr>\n",
       "      <th>1</th>\n",
       "      <td>1</td>\n",
       "      <td>0</td>\n",
       "    </tr>\n",
       "    <tr>\n",
       "      <th>2</th>\n",
       "      <td>1</td>\n",
       "      <td>0</td>\n",
       "    </tr>\n",
       "    <tr>\n",
       "      <th>3</th>\n",
       "      <td>1</td>\n",
       "      <td>0</td>\n",
       "    </tr>\n",
       "    <tr>\n",
       "      <th>4</th>\n",
       "      <td>1</td>\n",
       "      <td>0</td>\n",
       "    </tr>\n",
       "  </tbody>\n",
       "</table>\n",
       "</div>"
      ],
      "text/plain": [
       "   F  M\n",
       "0  1  0\n",
       "1  1  0\n",
       "2  1  0\n",
       "3  1  0\n",
       "4  1  0"
      ]
     },
     "execution_count": 27,
     "metadata": {},
     "output_type": "execute_result"
    }
   ],
   "source": [
    "sexo.head()"
   ]
  },
  {
   "cell_type": "code",
   "execution_count": 28,
   "metadata": {},
   "outputs": [
    {
     "data": {
      "text/plain": [
       "0"
      ]
     },
     "execution_count": 28,
     "metadata": {},
     "output_type": "execute_result"
    }
   ],
   "source": [
    "(sexo.index != bicis.index).sum()"
   ]
  },
  {
   "cell_type": "code",
   "execution_count": 29,
   "metadata": {
    "collapsed": true
   },
   "outputs": [],
   "source": [
    "bicis = pd.concat([bicis,sexo], axis = 1)"
   ]
  },
  {
   "cell_type": "code",
   "execution_count": 30,
   "metadata": {},
   "outputs": [
    {
     "data": {
      "text/html": [
       "<div>\n",
       "<style scoped>\n",
       "    .dataframe tbody tr th:only-of-type {\n",
       "        vertical-align: middle;\n",
       "    }\n",
       "\n",
       "    .dataframe tbody tr th {\n",
       "        vertical-align: top;\n",
       "    }\n",
       "\n",
       "    .dataframe thead th {\n",
       "        text-align: right;\n",
       "    }\n",
       "</style>\n",
       "<table border=\"1\" class=\"dataframe\">\n",
       "  <thead>\n",
       "    <tr style=\"text-align: right;\">\n",
       "      <th></th>\n",
       "      <th>ID_USUARIO</th>\n",
       "      <th>FECHA_HORA_RETIRO</th>\n",
       "      <th>TIEMPO_USO</th>\n",
       "      <th>ORIGEN_ESTACION</th>\n",
       "      <th>NOMBRE_ORIGEN</th>\n",
       "      <th>DESTINO_ESTACION</th>\n",
       "      <th>NOMBRE_DESTINO</th>\n",
       "      <th>SEXO</th>\n",
       "      <th>EDAD</th>\n",
       "      <th>mes</th>\n",
       "      <th>cant_viajes</th>\n",
       "      <th>F</th>\n",
       "      <th>M</th>\n",
       "    </tr>\n",
       "  </thead>\n",
       "  <tbody>\n",
       "    <tr>\n",
       "      <th>0</th>\n",
       "      <td>493545</td>\n",
       "      <td>2018-01-18 16:42:32</td>\n",
       "      <td>0h 14min 23seg</td>\n",
       "      <td>100</td>\n",
       "      <td>Castillo</td>\n",
       "      <td>100</td>\n",
       "      <td>Castillo</td>\n",
       "      <td>F</td>\n",
       "      <td>16</td>\n",
       "      <td>1</td>\n",
       "      <td>1.0</td>\n",
       "      <td>1</td>\n",
       "      <td>0</td>\n",
       "    </tr>\n",
       "    <tr>\n",
       "      <th>1</th>\n",
       "      <td>492620</td>\n",
       "      <td>2018-01-11 19:48:07</td>\n",
       "      <td>0h 38min 12seg</td>\n",
       "      <td>108</td>\n",
       "      <td>Usina del Arte</td>\n",
       "      <td>108</td>\n",
       "      <td>Usina del Arte</td>\n",
       "      <td>F</td>\n",
       "      <td>16</td>\n",
       "      <td>1</td>\n",
       "      <td>1.0</td>\n",
       "      <td>1</td>\n",
       "      <td>0</td>\n",
       "    </tr>\n",
       "    <tr>\n",
       "      <th>2</th>\n",
       "      <td>470893</td>\n",
       "      <td>2018-01-02 19:34:43</td>\n",
       "      <td>0h 41min 8seg</td>\n",
       "      <td>110</td>\n",
       "      <td>Guardia Vieja</td>\n",
       "      <td>153</td>\n",
       "      <td>Juan Manuel Blanes</td>\n",
       "      <td>F</td>\n",
       "      <td>16</td>\n",
       "      <td>1</td>\n",
       "      <td>1.0</td>\n",
       "      <td>1</td>\n",
       "      <td>0</td>\n",
       "    </tr>\n",
       "    <tr>\n",
       "      <th>3</th>\n",
       "      <td>499307</td>\n",
       "      <td>2018-01-19 14:30:22</td>\n",
       "      <td>0h 58min 49seg</td>\n",
       "      <td>111</td>\n",
       "      <td>Macacha Güemes</td>\n",
       "      <td>111</td>\n",
       "      <td>Macacha Güemes</td>\n",
       "      <td>F</td>\n",
       "      <td>16</td>\n",
       "      <td>1</td>\n",
       "      <td>1.0</td>\n",
       "      <td>1</td>\n",
       "      <td>0</td>\n",
       "    </tr>\n",
       "    <tr>\n",
       "      <th>4</th>\n",
       "      <td>500994</td>\n",
       "      <td>2018-01-22 22:58:59</td>\n",
       "      <td>0h 38min 23seg</td>\n",
       "      <td>111</td>\n",
       "      <td>Macacha Güemes</td>\n",
       "      <td>111</td>\n",
       "      <td>Macacha Güemes</td>\n",
       "      <td>F</td>\n",
       "      <td>16</td>\n",
       "      <td>1</td>\n",
       "      <td>1.0</td>\n",
       "      <td>1</td>\n",
       "      <td>0</td>\n",
       "    </tr>\n",
       "  </tbody>\n",
       "</table>\n",
       "</div>"
      ],
      "text/plain": [
       "   ID_USUARIO   FECHA_HORA_RETIRO      TIEMPO_USO  ORIGEN_ESTACION  \\\n",
       "0      493545 2018-01-18 16:42:32  0h 14min 23seg              100   \n",
       "1      492620 2018-01-11 19:48:07  0h 38min 12seg              108   \n",
       "2      470893 2018-01-02 19:34:43   0h 41min 8seg              110   \n",
       "3      499307 2018-01-19 14:30:22  0h 58min 49seg              111   \n",
       "4      500994 2018-01-22 22:58:59  0h 38min 23seg              111   \n",
       "\n",
       "     NOMBRE_ORIGEN  DESTINO_ESTACION       NOMBRE_DESTINO SEXO  EDAD  mes  \\\n",
       "0         Castillo               100             Castillo    F    16    1   \n",
       "1   Usina del Arte               108       Usina del Arte    F    16    1   \n",
       "2    Guardia Vieja               153   Juan Manuel Blanes    F    16    1   \n",
       "3   Macacha Güemes               111       Macacha Güemes    F    16    1   \n",
       "4   Macacha Güemes               111       Macacha Güemes    F    16    1   \n",
       "\n",
       "   cant_viajes  F  M  \n",
       "0          1.0  1  0  \n",
       "1          1.0  1  0  \n",
       "2          1.0  1  0  \n",
       "3          1.0  1  0  \n",
       "4          1.0  1  0  "
      ]
     },
     "execution_count": 30,
     "metadata": {},
     "output_type": "execute_result"
    }
   ],
   "source": [
    "bicis.head()"
   ]
  },
  {
   "cell_type": "code",
   "execution_count": 34,
   "metadata": {},
   "outputs": [
    {
     "data": {
      "text/plain": [
       "Index(['ID_USUARIO', 'FECHA_HORA_RETIRO', 'TIEMPO_USO', 'ORIGEN_ESTACION',\n",
       "       'NOMBRE_ORIGEN', 'DESTINO_ESTACION', 'NOMBRE_DESTINO', 'SEXO', 'EDAD',\n",
       "       'mes', 'cant_viajes', 'F', 'M'],\n",
       "      dtype='object')"
      ]
     },
     "execution_count": 34,
     "metadata": {},
     "output_type": "execute_result"
    }
   ],
   "source": [
    "bicis.columns"
   ]
  },
  {
   "cell_type": "markdown",
   "metadata": {},
   "source": [
    "# Visualizaciones exploratorias"
   ]
  },
  {
   "cell_type": "code",
   "execution_count": 31,
   "metadata": {},
   "outputs": [
    {
     "data": {
      "image/png": "[encoded data removed]",
      "text/plain": [
       "<Figure size 432x288 with 1 Axes>"
      ]
     },
     "metadata": {},
     "output_type": "display_data"
    }
   ],
   "source": [
    "# cantidad de viajes desde estacion origen\n",
    "sns.countplot(x = bicis.NOMBRE_ORIGEN, data = bicis)\n",
    "plt.show()"
   ]
  },
  {
   "cell_type": "code",
   "execution_count": 32,
   "metadata": {},
   "outputs": [
    {
     "data": {
      "image/png": "[encoded data removed]",
      "text/plain": [
       "<Figure size 432x288 with 1 Axes>"
      ]
     },
     "metadata": {},
     "output_type": "display_data"
    }
   ],
   "source": [
    "# cantidad de viajes recibidos en cada estacion\n",
    "sns.countplot(x = bicis.NOMBRE_DESTINO, data = bicis)\n",
    "plt.show()"
   ]
  },
  {
   "cell_type": "markdown",
   "metadata": {},
   "source": [
    "# Creo Matriz destino_estacion vs mes utilizando pivot_table"
   ]
  },
  {
   "cell_type": "code",
   "execution_count": 35,
   "metadata": {
    "collapsed": true
   },
   "outputs": [],
   "source": [
    "destino_mes = pd.pivot_table(data = bicis, index = bicis.DESTINO_ESTACION.values, columns = bicis.mes.values, values = \"cant_viajes\", aggfunc = np.sum)"
   ]
  },
  {
   "cell_type": "code",
   "execution_count": 36,
   "metadata": {},
   "outputs": [
    {
     "data": {
      "text/html": [
       "<div>\n",
       "<style scoped>\n",
       "    .dataframe tbody tr th:only-of-type {\n",
       "        vertical-align: middle;\n",
       "    }\n",
       "\n",
       "    .dataframe tbody tr th {\n",
       "        vertical-align: top;\n",
       "    }\n",
       "\n",
       "    .dataframe thead th {\n",
       "        text-align: right;\n",
       "    }\n",
       "</style>\n",
       "<table border=\"1\" class=\"dataframe\">\n",
       "  <thead>\n",
       "    <tr style=\"text-align: right;\">\n",
       "      <th></th>\n",
       "      <th>1</th>\n",
       "      <th>2</th>\n",
       "      <th>3</th>\n",
       "      <th>4</th>\n",
       "      <th>5</th>\n",
       "      <th>6</th>\n",
       "    </tr>\n",
       "  </thead>\n",
       "  <tbody>\n",
       "    <tr>\n",
       "      <th>199</th>\n",
       "      <td>706.0</td>\n",
       "      <td>895.0</td>\n",
       "      <td>722.0</td>\n",
       "      <td>1158.0</td>\n",
       "      <td>1312.0</td>\n",
       "      <td>1402.0</td>\n",
       "    </tr>\n",
       "    <tr>\n",
       "      <th>200</th>\n",
       "      <td>687.0</td>\n",
       "      <td>904.0</td>\n",
       "      <td>856.0</td>\n",
       "      <td>1532.0</td>\n",
       "      <td>2417.0</td>\n",
       "      <td>2498.0</td>\n",
       "    </tr>\n",
       "    <tr>\n",
       "      <th>502</th>\n",
       "      <td>60.0</td>\n",
       "      <td>49.0</td>\n",
       "      <td>58.0</td>\n",
       "      <td>71.0</td>\n",
       "      <td>130.0</td>\n",
       "      <td>124.0</td>\n",
       "    </tr>\n",
       "    <tr>\n",
       "      <th>505</th>\n",
       "      <td>10.0</td>\n",
       "      <td>16.0</td>\n",
       "      <td>14.0</td>\n",
       "      <td>17.0</td>\n",
       "      <td>12.0</td>\n",
       "      <td>8.0</td>\n",
       "    </tr>\n",
       "    <tr>\n",
       "      <th>900</th>\n",
       "      <td>NaN</td>\n",
       "      <td>NaN</td>\n",
       "      <td>4.0</td>\n",
       "      <td>NaN</td>\n",
       "      <td>NaN</td>\n",
       "      <td>NaN</td>\n",
       "    </tr>\n",
       "  </tbody>\n",
       "</table>\n",
       "</div>"
      ],
      "text/plain": [
       "         1      2      3       4       5       6\n",
       "199  706.0  895.0  722.0  1158.0  1312.0  1402.0\n",
       "200  687.0  904.0  856.0  1532.0  2417.0  2498.0\n",
       "502   60.0   49.0   58.0    71.0   130.0   124.0\n",
       "505   10.0   16.0   14.0    17.0    12.0     8.0\n",
       "900    NaN    NaN    4.0     NaN     NaN     NaN"
      ]
     },
     "execution_count": 36,
     "metadata": {},
     "output_type": "execute_result"
    }
   ],
   "source": [
    "destino_mes.tail()"
   ]
  },
  {
   "cell_type": "code",
   "execution_count": 37,
   "metadata": {},
   "outputs": [
    {
     "data": {
      "text/plain": [
       "1     True\n",
       "2     True\n",
       "3    False\n",
       "4     True\n",
       "5     True\n",
       "6     True\n",
       "dtype: bool"
      ]
     },
     "execution_count": 37,
     "metadata": {},
     "output_type": "execute_result"
    }
   ],
   "source": [
    "destino_mes.isnull().any()"
   ]
  },
  {
   "cell_type": "code",
   "execution_count": 38,
   "metadata": {
    "collapsed": true
   },
   "outputs": [],
   "source": [
    "destino_mes = destino_mes.fillna(0)"
   ]
  },
  {
   "cell_type": "code",
   "execution_count": 39,
   "metadata": {},
   "outputs": [
    {
     "data": {
      "text/plain": [
       "1    False\n",
       "2    False\n",
       "3    False\n",
       "4    False\n",
       "5    False\n",
       "6    False\n",
       "dtype: bool"
      ]
     },
     "execution_count": 39,
     "metadata": {},
     "output_type": "execute_result"
    }
   ],
   "source": [
    "destino_mes.isnull().any()"
   ]
  },
  {
   "cell_type": "code",
   "execution_count": 40,
   "metadata": {},
   "outputs": [
    {
     "data": {
      "image/png": "[encoded data removed]",
      "text/plain": [
       "<Figure size 1080x720 with 6 Axes>"
      ]
     },
     "metadata": {},
     "output_type": "display_data"
    }
   ],
   "source": [
    "# histograma de destinos para cada mes\n",
    "destino_mes.hist(bins=50, figsize=(15,10))\n",
    "plt.show()"
   ]
  },
  {
   "cell_type": "code",
   "execution_count": 41,
   "metadata": {},
   "outputs": [
    {
     "data": {
      "image/png": "[encoded data removed]",
      "text/plain": [
       "<Figure size 432x288 with 1 Axes>"
      ]
     },
     "metadata": {},
     "output_type": "display_data"
    }
   ],
   "source": [
    "sns.boxplot(data = destino_mes)\n",
    "plt.xlabel(\"mes\")\n",
    "plt.ylabel(\"cantidad de viajes\")\n",
    "plt.title(\"Destinos de viajes en bicicletas por mes en 2018\")\n",
    "plt.show()"
   ]
  },
  {
   "cell_type": "markdown",
   "metadata": {},
   "source": [
    "# Creo matriz origen-destino (posible matriz de adyacencia)"
   ]
  },
  {
   "cell_type": "code",
   "execution_count": 42,
   "metadata": {
    "collapsed": true
   },
   "outputs": [],
   "source": [
    "origen_destino = pd.pivot_table(data = bicis, index = bicis.ORIGEN_ESTACION.values, columns = bicis.DESTINO_ESTACION.values, values = \"cant_viajes\", aggfunc = np.sum)"
   ]
  },
  {
   "cell_type": "code",
   "execution_count": 43,
   "metadata": {},
   "outputs": [
    {
     "data": {
      "text/plain": [
       "(200, 201)"
      ]
     },
     "execution_count": 43,
     "metadata": {},
     "output_type": "execute_result"
    }
   ],
   "source": [
    "np.shape(origen_destino)"
   ]
  },
  {
   "cell_type": "code",
   "execution_count": 44,
   "metadata": {},
   "outputs": [
    {
     "data": {
      "text/html": [
       "<div>\n",
       "<style scoped>\n",
       "    .dataframe tbody tr th:only-of-type {\n",
       "        vertical-align: middle;\n",
       "    }\n",
       "\n",
       "    .dataframe tbody tr th {\n",
       "        vertical-align: top;\n",
       "    }\n",
       "\n",
       "    .dataframe thead th {\n",
       "        text-align: right;\n",
       "    }\n",
       "</style>\n",
       "<table border=\"1\" class=\"dataframe\">\n",
       "  <thead>\n",
       "    <tr style=\"text-align: right;\">\n",
       "      <th></th>\n",
       "      <th>1</th>\n",
       "      <th>2</th>\n",
       "      <th>3</th>\n",
       "      <th>4</th>\n",
       "      <th>5</th>\n",
       "      <th>6</th>\n",
       "      <th>7</th>\n",
       "      <th>8</th>\n",
       "      <th>9</th>\n",
       "      <th>10</th>\n",
       "      <th>...</th>\n",
       "      <th>194</th>\n",
       "      <th>195</th>\n",
       "      <th>196</th>\n",
       "      <th>197</th>\n",
       "      <th>198</th>\n",
       "      <th>199</th>\n",
       "      <th>200</th>\n",
       "      <th>502</th>\n",
       "      <th>505</th>\n",
       "      <th>900</th>\n",
       "    </tr>\n",
       "  </thead>\n",
       "  <tbody>\n",
       "    <tr>\n",
       "      <th>198</th>\n",
       "      <td>2.0</td>\n",
       "      <td>NaN</td>\n",
       "      <td>NaN</td>\n",
       "      <td>1.0</td>\n",
       "      <td>2.0</td>\n",
       "      <td>5.0</td>\n",
       "      <td>2.0</td>\n",
       "      <td>4.0</td>\n",
       "      <td>2.0</td>\n",
       "      <td>NaN</td>\n",
       "      <td>...</td>\n",
       "      <td>1.0</td>\n",
       "      <td>8.0</td>\n",
       "      <td>2.0</td>\n",
       "      <td>3.0</td>\n",
       "      <td>86.0</td>\n",
       "      <td>8.0</td>\n",
       "      <td>1.0</td>\n",
       "      <td>NaN</td>\n",
       "      <td>NaN</td>\n",
       "      <td>NaN</td>\n",
       "    </tr>\n",
       "    <tr>\n",
       "      <th>199</th>\n",
       "      <td>20.0</td>\n",
       "      <td>14.0</td>\n",
       "      <td>9.0</td>\n",
       "      <td>19.0</td>\n",
       "      <td>19.0</td>\n",
       "      <td>14.0</td>\n",
       "      <td>7.0</td>\n",
       "      <td>45.0</td>\n",
       "      <td>33.0</td>\n",
       "      <td>6.0</td>\n",
       "      <td>...</td>\n",
       "      <td>37.0</td>\n",
       "      <td>44.0</td>\n",
       "      <td>12.0</td>\n",
       "      <td>74.0</td>\n",
       "      <td>14.0</td>\n",
       "      <td>614.0</td>\n",
       "      <td>15.0</td>\n",
       "      <td>NaN</td>\n",
       "      <td>NaN</td>\n",
       "      <td>NaN</td>\n",
       "    </tr>\n",
       "    <tr>\n",
       "      <th>200</th>\n",
       "      <td>199.0</td>\n",
       "      <td>19.0</td>\n",
       "      <td>1.0</td>\n",
       "      <td>9.0</td>\n",
       "      <td>91.0</td>\n",
       "      <td>2.0</td>\n",
       "      <td>8.0</td>\n",
       "      <td>38.0</td>\n",
       "      <td>366.0</td>\n",
       "      <td>1.0</td>\n",
       "      <td>...</td>\n",
       "      <td>25.0</td>\n",
       "      <td>5.0</td>\n",
       "      <td>3.0</td>\n",
       "      <td>15.0</td>\n",
       "      <td>1.0</td>\n",
       "      <td>7.0</td>\n",
       "      <td>674.0</td>\n",
       "      <td>4.0</td>\n",
       "      <td>NaN</td>\n",
       "      <td>NaN</td>\n",
       "    </tr>\n",
       "    <tr>\n",
       "      <th>502</th>\n",
       "      <td>NaN</td>\n",
       "      <td>NaN</td>\n",
       "      <td>NaN</td>\n",
       "      <td>NaN</td>\n",
       "      <td>NaN</td>\n",
       "      <td>NaN</td>\n",
       "      <td>NaN</td>\n",
       "      <td>NaN</td>\n",
       "      <td>NaN</td>\n",
       "      <td>NaN</td>\n",
       "      <td>...</td>\n",
       "      <td>NaN</td>\n",
       "      <td>NaN</td>\n",
       "      <td>NaN</td>\n",
       "      <td>NaN</td>\n",
       "      <td>NaN</td>\n",
       "      <td>NaN</td>\n",
       "      <td>NaN</td>\n",
       "      <td>NaN</td>\n",
       "      <td>NaN</td>\n",
       "      <td>NaN</td>\n",
       "    </tr>\n",
       "    <tr>\n",
       "      <th>505</th>\n",
       "      <td>NaN</td>\n",
       "      <td>NaN</td>\n",
       "      <td>NaN</td>\n",
       "      <td>NaN</td>\n",
       "      <td>2.0</td>\n",
       "      <td>NaN</td>\n",
       "      <td>NaN</td>\n",
       "      <td>NaN</td>\n",
       "      <td>NaN</td>\n",
       "      <td>NaN</td>\n",
       "      <td>...</td>\n",
       "      <td>NaN</td>\n",
       "      <td>NaN</td>\n",
       "      <td>NaN</td>\n",
       "      <td>NaN</td>\n",
       "      <td>NaN</td>\n",
       "      <td>NaN</td>\n",
       "      <td>NaN</td>\n",
       "      <td>NaN</td>\n",
       "      <td>NaN</td>\n",
       "      <td>NaN</td>\n",
       "    </tr>\n",
       "  </tbody>\n",
       "</table>\n",
       "<p>5 rows × 201 columns</p>\n",
       "</div>"
      ],
      "text/plain": [
       "       1     2    3     4     5     6    7     8      9    10  ...    194  \\\n",
       "198    2.0   NaN  NaN   1.0   2.0   5.0  2.0   4.0    2.0  NaN ...    1.0   \n",
       "199   20.0  14.0  9.0  19.0  19.0  14.0  7.0  45.0   33.0  6.0 ...   37.0   \n",
       "200  199.0  19.0  1.0   9.0  91.0   2.0  8.0  38.0  366.0  1.0 ...   25.0   \n",
       "502    NaN   NaN  NaN   NaN   NaN   NaN  NaN   NaN    NaN  NaN ...    NaN   \n",
       "505    NaN   NaN  NaN   NaN   2.0   NaN  NaN   NaN    NaN  NaN ...    NaN   \n",
       "\n",
       "      195   196   197   198    199    200  502  505  900  \n",
       "198   8.0   2.0   3.0  86.0    8.0    1.0  NaN  NaN  NaN  \n",
       "199  44.0  12.0  74.0  14.0  614.0   15.0  NaN  NaN  NaN  \n",
       "200   5.0   3.0  15.0   1.0    7.0  674.0  4.0  NaN  NaN  \n",
       "502   NaN   NaN   NaN   NaN    NaN    NaN  NaN  NaN  NaN  \n",
       "505   NaN   NaN   NaN   NaN    NaN    NaN  NaN  NaN  NaN  \n",
       "\n",
       "[5 rows x 201 columns]"
      ]
     },
     "execution_count": 44,
     "metadata": {},
     "output_type": "execute_result"
    }
   ],
   "source": [
    "origen_destino.tail()"
   ]
  },
  {
   "cell_type": "code",
   "execution_count": 45,
   "metadata": {
    "collapsed": true
   },
   "outputs": [],
   "source": [
    "origen_destino = origen_destino.fillna(0)"
   ]
  },
  {
   "cell_type": "code",
   "execution_count": 46,
   "metadata": {},
   "outputs": [
    {
     "data": {
      "image/png": "[encoded data removed]",
      "text/plain": [
       "<Figure size 432x288 with 2 Axes>"
      ]
     },
     "metadata": {},
     "output_type": "display_data"
    }
   ],
   "source": [
    "ax = sns.heatmap(origen_destino, cmap=\"BuPu\")\n",
    "plt.show()"
   ]
  },
  {
   "cell_type": "code",
   "execution_count": 51,
   "metadata": {},
   "outputs": [
    {
     "data": {
      "text/plain": [
       "1     True\n",
       "2    False\n",
       "3    False\n",
       "4    False\n",
       "5     True\n",
       "dtype: bool"
      ]
     },
     "execution_count": 51,
     "metadata": {},
     "output_type": "execute_result"
    }
   ],
   "source": [
    "# filtro por columnas los destinos con mas de 800 arribos\n",
    "top_cols = (origen_destino.max() > 800)\n",
    "top_cols.head()"
   ]
  },
  {
   "cell_type": "code",
   "execution_count": 52,
   "metadata": {},
   "outputs": [
    {
     "data": {
      "text/plain": [
       "1     True\n",
       "2    False\n",
       "3    False\n",
       "4    False\n",
       "5     True\n",
       "dtype: bool"
      ]
     },
     "execution_count": 52,
     "metadata": {},
     "output_type": "execute_result"
    }
   ],
   "source": [
    "# filtro por filas los destinos con mas de 800 arribos\n",
    "top_rows = (origen_destino.max(axis = 1) > 800)\n",
    "top_rows.head()"
   ]
  },
  {
   "cell_type": "code",
   "execution_count": 53,
   "metadata": {
    "collapsed": true
   },
   "outputs": [],
   "source": [
    "origen_destino_top = origen_destino.loc[top_rows,top_cols]"
   ]
  },
  {
   "cell_type": "code",
   "execution_count": 55,
   "metadata": {},
   "outputs": [
    {
     "data": {
      "image/png": "[encoded data removed]",
      "text/plain": [
       "<Figure size 432x288 with 2 Axes>"
      ]
     },
     "metadata": {},
     "output_type": "display_data"
    }
   ],
   "source": [
    "# matriz de adyacencia con las top estaciones\n",
    "ax = sns.heatmap(origen_destino_top, cmap=\"YlGnBu\")\n",
    "plt.show()"
   ]
  },
  {
   "cell_type": "markdown",
   "metadata": {},
   "source": [
    "# Importo geo-localizacion de las estaciones"
   ]
  },
  {
   "cell_type": "code",
   "execution_count": 56,
   "metadata": {
    "collapsed": true
   },
   "outputs": [],
   "source": [
    "#from mpl_toolkits.basemap import Basemap"
   ]
  },
  {
   "cell_type": "code",
   "execution_count": 57,
   "metadata": {
    "collapsed": true
   },
   "outputs": [],
   "source": [
    "estaciones = pd.read_csv('/home/human/Dropbox/clusterai/estaciones_publicas.csv', delimiter=';')"
   ]
  },
  {
   "cell_type": "code",
   "execution_count": 58,
   "metadata": {},
   "outputs": [
    {
     "data": {
      "text/plain": [
       "(199, 10)"
      ]
     },
     "execution_count": 58,
     "metadata": {},
     "output_type": "execute_result"
    }
   ],
   "source": [
    "np.shape(estaciones)"
   ]
  },
  {
   "cell_type": "code",
   "execution_count": 60,
   "metadata": {},
   "outputs": [
    {
     "data": {
      "text/html": [
       "<div>\n",
       "<style scoped>\n",
       "    .dataframe tbody tr th:only-of-type {\n",
       "        vertical-align: middle;\n",
       "    }\n",
       "\n",
       "    .dataframe tbody tr th {\n",
       "        vertical-align: top;\n",
       "    }\n",
       "\n",
       "    .dataframe thead th {\n",
       "        text-align: right;\n",
       "    }\n",
       "</style>\n",
       "<table border=\"1\" class=\"dataframe\">\n",
       "  <thead>\n",
       "    <tr style=\"text-align: right;\">\n",
       "      <th></th>\n",
       "      <th>X</th>\n",
       "      <th>Y</th>\n",
       "      <th>NOMBRE</th>\n",
       "      <th>DOMICILIO</th>\n",
       "      <th>IMAGEN</th>\n",
       "      <th>AUTOMAT</th>\n",
       "      <th>OBSERV</th>\n",
       "      <th>NRO_EST</th>\n",
       "      <th>HORARIO</th>\n",
       "      <th>DIRE_NORM</th>\n",
       "    </tr>\n",
       "  </thead>\n",
       "  <tbody>\n",
       "    <tr>\n",
       "      <th>0</th>\n",
       "      <td>-58.392452</td>\n",
       "      <td>-34.583133</td>\n",
       "      <td>FACULTAD DE DERECHO</td>\n",
       "      <td>AV. PRES.FIGUEROA ALCORTA Y  JUAN A.BIBILONI</td>\n",
       "      <td>ESTACION_AUTOMATICA.PNG</td>\n",
       "      <td>AUTOMATICA</td>\n",
       "      <td>ABRIL 2015 (PASO DE SER MANUAL A AUTOMATICA)</td>\n",
       "      <td>1</td>\n",
       "      <td>ESTACION AUTOMATICA: DISPONIBILIDAD LAS 24 HORAS</td>\n",
       "      <td>FIGUEROA ALCORTA, PRES. AV. Y BIBILONI, JUAN A.</td>\n",
       "    </tr>\n",
       "    <tr>\n",
       "      <th>1</th>\n",
       "      <td>-58.374822</td>\n",
       "      <td>-34.592589</td>\n",
       "      <td>RETIRO</td>\n",
       "      <td>AV. DR.JOSE RAMOS MEJIA Y DEL LIBERTADOR AV</td>\n",
       "      <td>ESTACION_AUTOMATICA.PNG</td>\n",
       "      <td>AUTOMATICA</td>\n",
       "      <td>ABRIL 2015 (PASO DE SER MANUAL A AUTOMATICA)</td>\n",
       "      <td>2</td>\n",
       "      <td>ESTACION AUTOMATICA: DISPONIBILIDAD LAS 24 HORAS</td>\n",
       "      <td>DEL LIBERTADOR AV. Y RAMOS MEJIA, JOSE MARIA, ...</td>\n",
       "    </tr>\n",
       "    <tr>\n",
       "      <th>2</th>\n",
       "      <td>-58.368918</td>\n",
       "      <td>-34.611242</td>\n",
       "      <td>ADUANA</td>\n",
       "      <td>AV. ING.HUERGO Y AV. BELGRANO</td>\n",
       "      <td>ESTACION_AUTOMATICA.PNG</td>\n",
       "      <td>AUTOMATICA</td>\n",
       "      <td>ABRIL 2015 (PASO DE SER MANUAL A AUTOMATICA)</td>\n",
       "      <td>3</td>\n",
       "      <td>ESTACION AUTOMATICA: DISPONIBILIDAD LAS 24 HORAS</td>\n",
       "      <td>HUERGO, ING. AV. Y BELGRANO AV.</td>\n",
       "    </tr>\n",
       "    <tr>\n",
       "      <th>3</th>\n",
       "      <td>-58.368950</td>\n",
       "      <td>-34.601721</td>\n",
       "      <td>PLAZA ROMA</td>\n",
       "      <td>LAVALLE Y BOUCHARD</td>\n",
       "      <td>ESTACION_AUTOMATICA.PNG</td>\n",
       "      <td>AUTOMATICA</td>\n",
       "      <td>ABRIL 2015 (PASO DE SER MANUAL A AUTOMATICA)</td>\n",
       "      <td>4</td>\n",
       "      <td>ESTACION AUTOMATICA: DISPONIBILIDAD LAS 24 HORAS</td>\n",
       "      <td>LAVALLE Y BOUCHARD</td>\n",
       "    </tr>\n",
       "    <tr>\n",
       "      <th>4</th>\n",
       "      <td>-58.369709</td>\n",
       "      <td>-34.628301</td>\n",
       "      <td>PARQUE LEZAMA</td>\n",
       "      <td>AV MARTIN GARCIA E IRALA</td>\n",
       "      <td>ESTACION_AUTOMATICA.PNG</td>\n",
       "      <td>AUTOMATICA</td>\n",
       "      <td>ABRIL 2015 (PASO DE SER MANUAL A AUTOMATICA)</td>\n",
       "      <td>6</td>\n",
       "      <td>ESTACION AUTOMATICA: DISPONIBILIDAD LAS 24 HORAS</td>\n",
       "      <td>GARCIA, MARTIN AV. E IRALA</td>\n",
       "    </tr>\n",
       "  </tbody>\n",
       "</table>\n",
       "</div>"
      ],
      "text/plain": [
       "           X          Y               NOMBRE  \\\n",
       "0 -58.392452 -34.583133  FACULTAD DE DERECHO   \n",
       "1 -58.374822 -34.592589               RETIRO   \n",
       "2 -58.368918 -34.611242               ADUANA   \n",
       "3 -58.368950 -34.601721           PLAZA ROMA   \n",
       "4 -58.369709 -34.628301        PARQUE LEZAMA   \n",
       "\n",
       "                                      DOMICILIO                   IMAGEN  \\\n",
       "0  AV. PRES.FIGUEROA ALCORTA Y  JUAN A.BIBILONI  ESTACION_AUTOMATICA.PNG   \n",
       "1   AV. DR.JOSE RAMOS MEJIA Y DEL LIBERTADOR AV  ESTACION_AUTOMATICA.PNG   \n",
       "2                 AV. ING.HUERGO Y AV. BELGRANO  ESTACION_AUTOMATICA.PNG   \n",
       "3                            LAVALLE Y BOUCHARD  ESTACION_AUTOMATICA.PNG   \n",
       "4                      AV MARTIN GARCIA E IRALA  ESTACION_AUTOMATICA.PNG   \n",
       "\n",
       "      AUTOMAT                                        OBSERV  NRO_EST  \\\n",
       "0  AUTOMATICA  ABRIL 2015 (PASO DE SER MANUAL A AUTOMATICA)        1   \n",
       "1  AUTOMATICA  ABRIL 2015 (PASO DE SER MANUAL A AUTOMATICA)        2   \n",
       "2  AUTOMATICA  ABRIL 2015 (PASO DE SER MANUAL A AUTOMATICA)        3   \n",
       "3  AUTOMATICA  ABRIL 2015 (PASO DE SER MANUAL A AUTOMATICA)        4   \n",
       "4  AUTOMATICA  ABRIL 2015 (PASO DE SER MANUAL A AUTOMATICA)        6   \n",
       "\n",
       "                                            HORARIO  \\\n",
       "0  ESTACION AUTOMATICA: DISPONIBILIDAD LAS 24 HORAS   \n",
       "1  ESTACION AUTOMATICA: DISPONIBILIDAD LAS 24 HORAS   \n",
       "2  ESTACION AUTOMATICA: DISPONIBILIDAD LAS 24 HORAS   \n",
       "3  ESTACION AUTOMATICA: DISPONIBILIDAD LAS 24 HORAS   \n",
       "4  ESTACION AUTOMATICA: DISPONIBILIDAD LAS 24 HORAS   \n",
       "\n",
       "                                           DIRE_NORM  \n",
       "0    FIGUEROA ALCORTA, PRES. AV. Y BIBILONI, JUAN A.  \n",
       "1  DEL LIBERTADOR AV. Y RAMOS MEJIA, JOSE MARIA, ...  \n",
       "2                    HUERGO, ING. AV. Y BELGRANO AV.  \n",
       "3                                 LAVALLE Y BOUCHARD  \n",
       "4                         GARCIA, MARTIN AV. E IRALA  "
      ]
     },
     "execution_count": 60,
     "metadata": {},
     "output_type": "execute_result"
    }
   ],
   "source": [
    "estaciones.head()"
   ]
  },
  {
   "cell_type": "code",
   "execution_count": 61,
   "metadata": {
    "scrolled": true
   },
   "outputs": [
    {
     "data": {
      "text/html": [
       "<div>\n",
       "<style scoped>\n",
       "    .dataframe tbody tr th:only-of-type {\n",
       "        vertical-align: middle;\n",
       "    }\n",
       "\n",
       "    .dataframe tbody tr th {\n",
       "        vertical-align: top;\n",
       "    }\n",
       "\n",
       "    .dataframe thead th {\n",
       "        text-align: right;\n",
       "    }\n",
       "</style>\n",
       "<table border=\"1\" class=\"dataframe\">\n",
       "  <thead>\n",
       "    <tr style=\"text-align: right;\">\n",
       "      <th></th>\n",
       "      <th>1</th>\n",
       "      <th>2</th>\n",
       "      <th>3</th>\n",
       "      <th>4</th>\n",
       "      <th>5</th>\n",
       "      <th>6</th>\n",
       "    </tr>\n",
       "  </thead>\n",
       "  <tbody>\n",
       "    <tr>\n",
       "      <th>1</th>\n",
       "      <td>1350.0</td>\n",
       "      <td>1394.0</td>\n",
       "      <td>1397.0</td>\n",
       "      <td>2198.0</td>\n",
       "      <td>2808.0</td>\n",
       "      <td>2938.0</td>\n",
       "    </tr>\n",
       "    <tr>\n",
       "      <th>2</th>\n",
       "      <td>677.0</td>\n",
       "      <td>646.0</td>\n",
       "      <td>796.0</td>\n",
       "      <td>1204.0</td>\n",
       "      <td>1605.0</td>\n",
       "      <td>1590.0</td>\n",
       "    </tr>\n",
       "    <tr>\n",
       "      <th>3</th>\n",
       "      <td>833.0</td>\n",
       "      <td>877.0</td>\n",
       "      <td>823.0</td>\n",
       "      <td>1464.0</td>\n",
       "      <td>1948.0</td>\n",
       "      <td>807.0</td>\n",
       "    </tr>\n",
       "    <tr>\n",
       "      <th>4</th>\n",
       "      <td>893.0</td>\n",
       "      <td>707.0</td>\n",
       "      <td>627.0</td>\n",
       "      <td>1036.0</td>\n",
       "      <td>1451.0</td>\n",
       "      <td>1683.0</td>\n",
       "    </tr>\n",
       "    <tr>\n",
       "      <th>5</th>\n",
       "      <td>1600.0</td>\n",
       "      <td>1719.0</td>\n",
       "      <td>1728.0</td>\n",
       "      <td>2218.0</td>\n",
       "      <td>2955.0</td>\n",
       "      <td>2746.0</td>\n",
       "    </tr>\n",
       "  </tbody>\n",
       "</table>\n",
       "</div>"
      ],
      "text/plain": [
       "        1       2       3       4       5       6\n",
       "1  1350.0  1394.0  1397.0  2198.0  2808.0  2938.0\n",
       "2   677.0   646.0   796.0  1204.0  1605.0  1590.0\n",
       "3   833.0   877.0   823.0  1464.0  1948.0   807.0\n",
       "4   893.0   707.0   627.0  1036.0  1451.0  1683.0\n",
       "5  1600.0  1719.0  1728.0  2218.0  2955.0  2746.0"
      ]
     },
     "execution_count": 61,
     "metadata": {},
     "output_type": "execute_result"
    }
   ],
   "source": [
    "destino_mes.head()"
   ]
  },
  {
   "cell_type": "markdown",
   "metadata": {},
   "source": [
    "**Hago Merge de destino_mes y estaciones (solo sus coordenadas x y)**"
   ]
  },
  {
   "cell_type": "code",
   "execution_count": 62,
   "metadata": {
    "collapsed": true
   },
   "outputs": [],
   "source": [
    "destino_mes_location = destino_mes.merge(estaciones[[\"X\",\"Y\"]],left_on = destino_mes.index.values,right_on = estaciones.NRO_EST.values)"
   ]
  },
  {
   "cell_type": "code",
   "execution_count": 73,
   "metadata": {},
   "outputs": [
    {
     "data": {
      "image/png": "[encoded data removed]",
      "text/plain": [
       "<Figure size 864x504 with 2 Axes>"
      ]
     },
     "metadata": {},
     "output_type": "display_data"
    }
   ],
   "source": [
    "destino_mes_location.plot(kind=\"scatter\",  x=\"X\", y=\"Y\", alpha=0.9, figsize=(12,7), c=destino_mes_location.mean(axis = 1), cmap=plt.get_cmap(\"jet\"), colorbar=True,\n",
    "    sharex=False)\n",
    "\n",
    "#, s = destino_mes_location.mean(axis = 1)\n",
    "plt.show()"
   ]
  },
  {
   "cell_type": "code",
   "execution_count": 74,
   "metadata": {
    "collapsed": true
   },
   "outputs": [],
   "source": [
    "#pd.merge(bicis_estaciones, estaciones[[\"X\",\"Y\"]], how = \"left\", left_on = bicis_estaciones.index, right_on = estaciones.NRO_EST)\n",
    "\n",
    "origen_location = origen_destino_top.merge(estaciones[[\"X\",\"Y\"]],left_on = origen_destino_top.index.values, right_on = estaciones.NRO_EST.values)"
   ]
  },
  {
   "cell_type": "code",
   "execution_count": 75,
   "metadata": {},
   "outputs": [
    {
     "data": {
      "text/html": [
       "<div>\n",
       "<style scoped>\n",
       "    .dataframe tbody tr th:only-of-type {\n",
       "        vertical-align: middle;\n",
       "    }\n",
       "\n",
       "    .dataframe tbody tr th {\n",
       "        vertical-align: top;\n",
       "    }\n",
       "\n",
       "    .dataframe thead th {\n",
       "        text-align: right;\n",
       "    }\n",
       "</style>\n",
       "<table border=\"1\" class=\"dataframe\">\n",
       "  <thead>\n",
       "    <tr style=\"text-align: right;\">\n",
       "      <th></th>\n",
       "      <th>key_0</th>\n",
       "      <th>1</th>\n",
       "      <th>5</th>\n",
       "      <th>6</th>\n",
       "      <th>8</th>\n",
       "      <th>9</th>\n",
       "      <th>14</th>\n",
       "      <th>17</th>\n",
       "      <th>25</th>\n",
       "      <th>26</th>\n",
       "      <th>...</th>\n",
       "      <th>144</th>\n",
       "      <th>150</th>\n",
       "      <th>151</th>\n",
       "      <th>152</th>\n",
       "      <th>160</th>\n",
       "      <th>176</th>\n",
       "      <th>177</th>\n",
       "      <th>183</th>\n",
       "      <th>X</th>\n",
       "      <th>Y</th>\n",
       "    </tr>\n",
       "  </thead>\n",
       "  <tbody>\n",
       "    <tr>\n",
       "      <th>0</th>\n",
       "      <td>1</td>\n",
       "      <td>923.0</td>\n",
       "      <td>272.0</td>\n",
       "      <td>20.0</td>\n",
       "      <td>43.0</td>\n",
       "      <td>297.0</td>\n",
       "      <td>369.0</td>\n",
       "      <td>25.0</td>\n",
       "      <td>148.0</td>\n",
       "      <td>58.0</td>\n",
       "      <td>...</td>\n",
       "      <td>51.0</td>\n",
       "      <td>18.0</td>\n",
       "      <td>28.0</td>\n",
       "      <td>23.0</td>\n",
       "      <td>386.0</td>\n",
       "      <td>18.0</td>\n",
       "      <td>163.0</td>\n",
       "      <td>34.0</td>\n",
       "      <td>-58.392452</td>\n",
       "      <td>-34.583133</td>\n",
       "    </tr>\n",
       "    <tr>\n",
       "      <th>1</th>\n",
       "      <td>5</td>\n",
       "      <td>354.0</td>\n",
       "      <td>2148.0</td>\n",
       "      <td>4.0</td>\n",
       "      <td>53.0</td>\n",
       "      <td>284.0</td>\n",
       "      <td>692.0</td>\n",
       "      <td>57.0</td>\n",
       "      <td>197.0</td>\n",
       "      <td>16.0</td>\n",
       "      <td>...</td>\n",
       "      <td>37.0</td>\n",
       "      <td>0.0</td>\n",
       "      <td>11.0</td>\n",
       "      <td>8.0</td>\n",
       "      <td>736.0</td>\n",
       "      <td>5.0</td>\n",
       "      <td>952.0</td>\n",
       "      <td>25.0</td>\n",
       "      <td>-58.420997</td>\n",
       "      <td>-34.580127</td>\n",
       "    </tr>\n",
       "    <tr>\n",
       "      <th>2</th>\n",
       "      <td>6</td>\n",
       "      <td>43.0</td>\n",
       "      <td>8.0</td>\n",
       "      <td>1000.0</td>\n",
       "      <td>57.0</td>\n",
       "      <td>26.0</td>\n",
       "      <td>24.0</td>\n",
       "      <td>15.0</td>\n",
       "      <td>12.0</td>\n",
       "      <td>86.0</td>\n",
       "      <td>...</td>\n",
       "      <td>8.0</td>\n",
       "      <td>173.0</td>\n",
       "      <td>49.0</td>\n",
       "      <td>206.0</td>\n",
       "      <td>6.0</td>\n",
       "      <td>331.0</td>\n",
       "      <td>4.0</td>\n",
       "      <td>36.0</td>\n",
       "      <td>-58.369709</td>\n",
       "      <td>-34.628301</td>\n",
       "    </tr>\n",
       "    <tr>\n",
       "      <th>3</th>\n",
       "      <td>8</td>\n",
       "      <td>64.0</td>\n",
       "      <td>30.0</td>\n",
       "      <td>72.0</td>\n",
       "      <td>949.0</td>\n",
       "      <td>72.0</td>\n",
       "      <td>49.0</td>\n",
       "      <td>48.0</td>\n",
       "      <td>21.0</td>\n",
       "      <td>30.0</td>\n",
       "      <td>...</td>\n",
       "      <td>89.0</td>\n",
       "      <td>69.0</td>\n",
       "      <td>50.0</td>\n",
       "      <td>47.0</td>\n",
       "      <td>20.0</td>\n",
       "      <td>28.0</td>\n",
       "      <td>16.0</td>\n",
       "      <td>406.0</td>\n",
       "      <td>-58.389253</td>\n",
       "      <td>-34.609930</td>\n",
       "    </tr>\n",
       "    <tr>\n",
       "      <th>4</th>\n",
       "      <td>9</td>\n",
       "      <td>272.0</td>\n",
       "      <td>203.0</td>\n",
       "      <td>34.0</td>\n",
       "      <td>74.0</td>\n",
       "      <td>1425.0</td>\n",
       "      <td>289.0</td>\n",
       "      <td>139.0</td>\n",
       "      <td>307.0</td>\n",
       "      <td>16.0</td>\n",
       "      <td>...</td>\n",
       "      <td>63.0</td>\n",
       "      <td>4.0</td>\n",
       "      <td>9.0</td>\n",
       "      <td>5.0</td>\n",
       "      <td>264.0</td>\n",
       "      <td>6.0</td>\n",
       "      <td>85.0</td>\n",
       "      <td>46.0</td>\n",
       "      <td>-58.407145</td>\n",
       "      <td>-34.583915</td>\n",
       "    </tr>\n",
       "  </tbody>\n",
       "</table>\n",
       "<p>5 rows × 28 columns</p>\n",
       "</div>"
      ],
      "text/plain": [
       "   key_0      1       5       6      8       9     14     17     25    26  \\\n",
       "0      1  923.0   272.0    20.0   43.0   297.0  369.0   25.0  148.0  58.0   \n",
       "1      5  354.0  2148.0     4.0   53.0   284.0  692.0   57.0  197.0  16.0   \n",
       "2      6   43.0     8.0  1000.0   57.0    26.0   24.0   15.0   12.0  86.0   \n",
       "3      8   64.0    30.0    72.0  949.0    72.0   49.0   48.0   21.0  30.0   \n",
       "4      9  272.0   203.0    34.0   74.0  1425.0  289.0  139.0  307.0  16.0   \n",
       "\n",
       "     ...       144    150   151    152    160    176    177    183          X  \\\n",
       "0    ...      51.0   18.0  28.0   23.0  386.0   18.0  163.0   34.0 -58.392452   \n",
       "1    ...      37.0    0.0  11.0    8.0  736.0    5.0  952.0   25.0 -58.420997   \n",
       "2    ...       8.0  173.0  49.0  206.0    6.0  331.0    4.0   36.0 -58.369709   \n",
       "3    ...      89.0   69.0  50.0   47.0   20.0   28.0   16.0  406.0 -58.389253   \n",
       "4    ...      63.0    4.0   9.0    5.0  264.0    6.0   85.0   46.0 -58.407145   \n",
       "\n",
       "           Y  \n",
       "0 -34.583133  \n",
       "1 -34.580127  \n",
       "2 -34.628301  \n",
       "3 -34.609930  \n",
       "4 -34.583915  \n",
       "\n",
       "[5 rows x 28 columns]"
      ]
     },
     "execution_count": 75,
     "metadata": {},
     "output_type": "execute_result"
    }
   ],
   "source": [
    "origen_location.head()"
   ]
  },
  {
   "cell_type": "code",
   "execution_count": 76,
   "metadata": {},
   "outputs": [
    {
     "data": {
      "text/plain": [
       "(25, 28)"
      ]
     },
     "execution_count": 76,
     "metadata": {},
     "output_type": "execute_result"
    }
   ],
   "source": [
    "np.shape(origen_location)"
   ]
  },
  {
   "cell_type": "code",
   "execution_count": 77,
   "metadata": {},
   "outputs": [
    {
     "name": "stderr",
     "output_type": "stream",
     "text": [
      "/home/human/anaconda3/lib/python3.6/site-packages/matplotlib/collections.py:902: RuntimeWarning: invalid value encountered in sqrt\n",
      "  scale = np.sqrt(self._sizes) * dpi / 72.0 * self._factor\n"
     ]
    },
    {
     "data": {
      "image/png": "[encoded data removed]",
      "text/plain": [
       "<Figure size 864x504 with 2 Axes>"
      ]
     },
     "metadata": {},
     "output_type": "display_data"
    }
   ],
   "source": [
    "origen_location.plot(kind=\"scatter\", s = origen_location.mean(),  x=\"X\", y=\"Y\", alpha=0.8, figsize=(12,7), c=origen_location.mean(axis = 1), cmap=plt.get_cmap(\"jet\"), colorbar=True,\n",
    "    sharex=False)\n",
    "\n",
    "plt.show()"
   ]
  },
  {
   "cell_type": "code",
   "execution_count": null,
   "metadata": {
    "collapsed": true
   },
   "outputs": [],
   "source": []
  }
 ],
 "metadata": {
  "kernelspec": {
   "display_name": "Python 3",
   "language": "python",
   "name": "python3"
  },
  "language_info": {
   "codemirror_mode": {
    "name": "ipython",
    "version": 3
   },
   "file_extension": ".py",
   "mimetype": "text/x-python",
   "name": "python",
   "nbconvert_exporter": "python",
   "pygments_lexer": "ipython3",
   "version": "3.6.6"
  }
 },
 "nbformat": 4,
 "nbformat_minor": 2
}
