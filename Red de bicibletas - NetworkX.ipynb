{
 "cells": [
  {
   "cell_type": "markdown",
   "metadata": {},
   "source": [
    "# Estructura de la red\n",
    "La red de bicicletas puede ser considerada como una estructura de procesamiento de informacion donde los nodos son las unidades de procesamiento y el camino que los vincula, la conexión.\n",
    "\n",
    "Estructura de la red:\n",
    "    \n",
    "    1) NODOS: Estaciones\n",
    "    2) CONEXION (edge): Camino | Recorrido | Calles\n",
    "    3) PESOS (intensidad de la conexion): cantidad de usuarios? | tiempo de uso? | distancia en km?\n",
    "    4) DIRECCIONALIDAD: Dirigido o No dirigido?  Podria pensarse como dirigido o dirigido reciproco con self-loops\n",
    "    5) TAMAÑO\n",
    "    "
   ]
  },
  {
   "cell_type": "markdown",
   "metadata": {},
   "source": [
    "### Metricas de la red y preguntas relevantes\n",
    "\n",
    "1) Por cuantos nodos esta compuesta la red y cuantos edges los vinculan?\n",
    "\n",
    "2) Como es la direccionalidad de la red: \n",
    "    2.1_Las bicicletas suelen dejarse en la misma estacion de la que se retiran?(self-loop)\n",
    "    2.2_Cuales son las estaciones que mas conexiones tienen entre si?\n",
    "\n",
    "3) Degree centrality distribution de los nodos:\n",
    "    3.1_Cual es la estacion con mayor cantidad de conexiones?\n",
    "    \n",
    "4) Betweenness centrality distribution de los nodos:\n",
    "    4.1_Hay alguna estacion que permita clusterizar recorridos?\n",
    "    \n",
    "5) Cual es el grado promedio de la red? El promedio de relaciones que existe entre los nodos de la red (<k> = L/N)\n",
    "    \n",
    "6) Cual es el flujo maximo de pasajeros que podria soportar la red de bicicletas?\n",
    "\n",
    "7) Cual es el camino mas corto entre n y k estaciones?\n",
    "\n",
    "8) Diametro de la red. Cual es la distancia promedio que se recorre en la red de bicicletas de caba?"
   ]
  },
  {
   "cell_type": "code",
   "execution_count": null,
   "metadata": {},
   "outputs": [],
   "source": [
    "# Librerias que vamos a usar\n",
    "import matplotlib.pyplot as plt\n",
    "import networkx as nx"
   ]
  },
  {
   "cell_type": "code",
   "execution_count": null,
   "metadata": {},
   "outputs": [],
   "source": [
    "# 1: Hay x nodos conectados por n edges\n",
    "len(B.nodes())\n",
    "len(B.edges())"
   ]
  },
  {
   "cell_type": "code",
   "execution_count": null,
   "metadata": {},
   "outputs": [],
   "source": [
    "# Plot the degree distribution de la red de bicicletas\n",
    "plt.hist(list(nx.degree_centrality(G).values()))\n",
    "plt.show()"
   ]
  },
  {
   "cell_type": "code",
   "execution_count": null,
   "metadata": {},
   "outputs": [],
   "source": [
    "# Plot the betweennes centrality distribution de la red de bicicletas\n",
    "plt.hist(list(nx.betweenness_centrality(G).values()))\n",
    "plt.show()"
   ]
  },
  {
   "cell_type": "code",
   "execution_count": null,
   "metadata": {},
   "outputs": [],
   "source": [
    "# Representar los ejes con un matrixplot"
   ]
  },
  {
   "cell_type": "code",
   "execution_count": null,
   "metadata": {},
   "outputs": [],
   "source": [
    "# Cual es la estacion con mayor degree centrality?"
   ]
  },
  {
   "cell_type": "code",
   "execution_count": null,
   "metadata": {},
   "outputs": [],
   "source": [
    "# Se pueden recomendar conexiones entre estaciones?"
   ]
  },
  {
   "cell_type": "markdown",
   "metadata": {},
   "source": [
    "# ESTRUCTURANDO LA RED DE BICICLETAS"
   ]
  },
  {
   "cell_type": "code",
   "execution_count": 1,
   "metadata": {},
   "outputs": [],
   "source": [
    "import pandas as pd\n",
    "import numpy as np"
   ]
  },
  {
   "cell_type": "code",
   "execution_count": 2,
   "metadata": {},
   "outputs": [],
   "source": [
    "# Cargamos datasets de recorridos\n",
    "df15 = pd.read_csv('data/bici15_cdn.csv')\n",
    "df16 = pd.read_csv('data/bici16_cdn.csv')\n",
    "df17 = pd.read_csv('data/bici17_cdn.csv')\n",
    "df18 = pd.read_csv('data/bici18_cdn.csv')\n",
    "df19 = pd.read_csv('data/bici19_cdn.csv')"
   ]
  },
  {
   "cell_type": "code",
   "execution_count": 3,
   "metadata": {},
   "outputs": [],
   "source": [
    "import matplotlib.pyplot as plt\n",
    "import networkx as nx"
   ]
  },
  {
   "cell_type": "code",
   "execution_count": 4,
   "metadata": {},
   "outputs": [
    {
     "data": {
      "text/plain": [
       "networkx.classes.digraph.DiGraph"
      ]
     },
     "execution_count": 4,
     "metadata": {},
     "output_type": "execute_result"
    }
   ],
   "source": [
    "# Instanciamos un grafo direccionado\n",
    "D = nx.DiGraph()\n",
    "type(D)"
   ]
  },
  {
   "cell_type": "code",
   "execution_count": 56,
   "metadata": {},
   "outputs": [],
   "source": [
    "# Esto me parece que seria pensando a las personas como nodo\n",
    "# Funcion para crear edges en una red de transporte\n",
    "\n",
    "def vinculos_e_nodos(df, columna1, columna2):\n",
    "    '''\n",
    "    Devuelve los extremos conectados por un vinculo (edge)\n",
    "    '''\n",
    "    \n",
    "    origen = df[columna1]\n",
    "    destino = df[columna2]\n",
    "    \n",
    "    vinculados = zip(origen,destino)\n",
    "    \n",
    "    return list(vinculados)"
   ]
  },
  {
   "cell_type": "code",
   "execution_count": 64,
   "metadata": {},
   "outputs": [],
   "source": [
    "edges = vinculos_e_nodos(df18, 'bici_estacion_origen', 'bici_estacion_destino')"
   ]
  },
  {
   "cell_type": "code",
   "execution_count": 80,
   "metadata": {},
   "outputs": [],
   "source": [
    "# Creamos una lista de edges (estacion_n, estacion_k)\n",
    "D.add_edges_from(edges)"
   ]
  },
  {
   "cell_type": "code",
   "execution_count": 81,
   "metadata": {},
   "outputs": [
    {
     "data": {
      "text/plain": [
       "56940"
      ]
     },
     "execution_count": 81,
     "metadata": {},
     "output_type": "execute_result"
    }
   ],
   "source": [
    "len(D.edges())"
   ]
  },
  {
   "cell_type": "code",
   "execution_count": 82,
   "metadata": {},
   "outputs": [
    {
     "data": {
      "text/plain": [
       "18658"
      ]
     },
     "execution_count": 82,
     "metadata": {},
     "output_type": "execute_result"
    }
   ],
   "source": [
    "len(D.nodes())"
   ]
  },
  {
   "cell_type": "code",
   "execution_count": null,
   "metadata": {},
   "outputs": [],
   "source": []
  },
  {
   "cell_type": "code",
   "execution_count": null,
   "metadata": {},
   "outputs": [],
   "source": []
  },
  {
   "cell_type": "code",
   "execution_count": null,
   "metadata": {},
   "outputs": [],
   "source": []
  },
  {
   "cell_type": "code",
   "execution_count": null,
   "metadata": {},
   "outputs": [],
   "source": []
  },
  {
   "cell_type": "code",
   "execution_count": null,
   "metadata": {},
   "outputs": [],
   "source": []
  },
  {
   "cell_type": "code",
   "execution_count": 86,
   "metadata": {},
   "outputs": [],
   "source": [
    "# A partir de aca seria pensando las estaciones como nodo\n",
    "df_graf = df18.groupby(['bici_nombre_estacion_origen','bici_nombre_estacion_destino']).size().reset_index(name='recorridos')"
   ]
  },
  {
   "cell_type": "code",
   "execution_count": 89,
   "metadata": {},
   "outputs": [],
   "source": [
    "df_graf.columns = ['origen','destino','recorridos']"
   ]
  },
  {
   "cell_type": "code",
   "execution_count": 92,
   "metadata": {},
   "outputs": [],
   "source": [
    "grafo = nx.from_pandas_edgelist(df_graf,'origen','destino','recorridos')"
   ]
  },
  {
   "cell_type": "code",
   "execution_count": 207,
   "metadata": {},
   "outputs": [
    {
     "data": {
      "image/png": "[encoded data removed]",
      "text/plain": [
       "<Figure size 432x432 with 1 Axes>"
      ]
     },
     "metadata": {},
     "output_type": "display_data"
    }
   ],
   "source": [
    "plt.figure(figsize=(6,6))\n",
    "pos = nx.spring_layout(grafo)\n",
    "nx.draw_networkx_nodes(grafo, pos, alpha=0.2, node_size=50)\n",
    "nx.draw_networkx_edges(grafo, pos, style='solid', aplha=0.1)\n",
    "plt.axis('off')\n",
    "plt.tight_layout()\n",
    "plt.show()"
   ]
  },
  {
   "cell_type": "code",
   "execution_count": 108,
   "metadata": {},
   "outputs": [],
   "source": [
    "import geopandas as gpd\n",
    "import mplleaflet"
   ]
  },
  {
   "cell_type": "code",
   "execution_count": 151,
   "metadata": {},
   "outputs": [],
   "source": [
    "# Shape de estaciones descargados de DataBA\n",
    "estaciones = gpd.read_file('data/estaciones_de_bicicletas.shp')"
   ]
  },
  {
   "cell_type": "code",
   "execution_count": 152,
   "metadata": {},
   "outputs": [],
   "source": [
    "estaciones = estaciones.to_crs(epsg='4326')"
   ]
  },
  {
   "cell_type": "code",
   "execution_count": 153,
   "metadata": {},
   "outputs": [],
   "source": [
    "estaciones = nodos[['NOMBRE','DIRE_NORM', 'geometry']]"
   ]
  },
  {
   "cell_type": "code",
   "execution_count": 154,
   "metadata": {},
   "outputs": [],
   "source": [
    "nodos = estaciones[['NOMBRE','DIRE_NORM']]"
   ]
  },
  {
   "cell_type": "code",
   "execution_count": 157,
   "metadata": {},
   "outputs": [],
   "source": [
    "nodos['x'], nodos['y'] = estaciones.geometry.x, estaciones.geometry.y"
   ]
  },
  {
   "cell_type": "code",
   "execution_count": 159,
   "metadata": {},
   "outputs": [],
   "source": [
    "df_graf2 = pd.merge(df_graf,nodos,left_on='origen',right_on='NOMBRE' )"
   ]
  },
  {
   "cell_type": "code",
   "execution_count": 160,
   "metadata": {},
   "outputs": [],
   "source": [
    "df_graf3 = pd.merge(df_graf2,nodos,left_on='destino',right_on='NOMBRE' )"
   ]
  },
  {
   "cell_type": "code",
   "execution_count": 161,
   "metadata": {},
   "outputs": [
    {
     "data": {
      "text/plain": [
       "Index(['origen', 'destino', 'recorridos', 'NOMBRE_x', 'DIRE_NORM_x', 'x_x',\n",
       "       'y_x', 'NOMBRE_y', 'DIRE_NORM_y', 'x_y', 'y_y'],\n",
       "      dtype='object')"
      ]
     },
     "execution_count": 161,
     "metadata": {},
     "output_type": "execute_result"
    }
   ],
   "source": [
    "df_graf3.columns"
   ]
  },
  {
   "cell_type": "code",
   "execution_count": 162,
   "metadata": {},
   "outputs": [],
   "source": [
    "df_graf3.columns = ['origen', 'destino', 'recorridos', 'nom_or', 'dirnom_or', 'lon_or',\n",
    "       'lat_or', 'nom_de', 'dirnom_de', 'lon_de', 'lat_de']"
   ]
  },
  {
   "cell_type": "code",
   "execution_count": 164,
   "metadata": {},
   "outputs": [],
   "source": [
    "df_graf4 = df_graf3[['origen', 'dirnom_or', 'lon_or', 'lat_or', 'destino', 'dirnom_de', 'lon_de', 'lat_de', 'recorridos']]"
   ]
  },
  {
   "cell_type": "code",
   "execution_count": null,
   "metadata": {},
   "outputs": [],
   "source": []
  },
  {
   "cell_type": "code",
   "execution_count": null,
   "metadata": {},
   "outputs": [],
   "source": []
  },
  {
   "cell_type": "code",
   "execution_count": null,
   "metadata": {},
   "outputs": [],
   "source": [
    "# Creamos una lista de adyacencias> un diccionario por nodo (key) y una lista de nodos con los que conecta como value"
   ]
  },
  {
   "cell_type": "code",
   "execution_count": null,
   "metadata": {},
   "outputs": [],
   "source": []
  },
  {
   "cell_type": "code",
   "execution_count": null,
   "metadata": {},
   "outputs": [],
   "source": []
  }
 ],
 "metadata": {
  "kernelspec": {
   "display_name": "Python 3",
   "language": "python",
   "name": "python3"
  },
  "language_info": {
   "codemirror_mode": {
    "name": "ipython",
    "version": 3
   },
   "file_extension": ".py",
   "mimetype": "text/x-python",
   "name": "python",
   "nbconvert_exporter": "python",
   "pygments_lexer": "ipython3",
   "version": "3.6.5"
  }
 },
 "nbformat": 4,
 "nbformat_minor": 2
}
